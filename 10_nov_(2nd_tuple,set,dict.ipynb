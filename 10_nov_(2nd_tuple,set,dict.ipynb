{
 "cells": [
  {
   "cell_type": "markdown",
   "id": "0f90319a",
   "metadata": {},
   "source": [
    "## 2nd lecture_ 10 nov:Tuple,Set,Dictionary\n"
   ]
  },
  {
   "cell_type": "markdown",
   "id": "ffcee494",
   "metadata": {},
   "source": [
    "## Tuple:\n",
    "\n",
    "* Tuple is data structure that holds collection of different objects in it. \n",
    "* For example, a tuple can hold numerical as well as string values in it along with the other collections like list, tuples etc.\n",
    "* tuple are immutable\n",
    "* It is enclosed in ()\n",
    "* append are not allowed"
   ]
  },
  {
   "cell_type": "code",
   "execution_count": 1,
   "id": "a5d66f48",
   "metadata": {},
   "outputs": [],
   "source": [
    "t=(3,4,5,6)"
   ]
  },
  {
   "cell_type": "code",
   "execution_count": 2,
   "id": "163400de",
   "metadata": {},
   "outputs": [
    {
     "data": {
      "text/plain": [
       "tuple"
      ]
     },
     "execution_count": 2,
     "metadata": {},
     "output_type": "execute_result"
    }
   ],
   "source": [
    "type(t)"
   ]
  },
  {
   "cell_type": "code",
   "execution_count": 3,
   "id": "c6b36853",
   "metadata": {},
   "outputs": [],
   "source": [
    "a=()\n",
    "b=[]\n",
    "c={}"
   ]
  },
  {
   "cell_type": "code",
   "execution_count": 4,
   "id": "6ae34791",
   "metadata": {},
   "outputs": [
    {
     "data": {
      "text/plain": [
       "tuple"
      ]
     },
     "execution_count": 4,
     "metadata": {},
     "output_type": "execute_result"
    }
   ],
   "source": [
    "type(a)"
   ]
  },
  {
   "cell_type": "code",
   "execution_count": 5,
   "id": "461ff027",
   "metadata": {},
   "outputs": [
    {
     "data": {
      "text/plain": [
       "list"
      ]
     },
     "execution_count": 5,
     "metadata": {},
     "output_type": "execute_result"
    }
   ],
   "source": [
    "type(b)"
   ]
  },
  {
   "cell_type": "code",
   "execution_count": 6,
   "id": "9221932e",
   "metadata": {},
   "outputs": [
    {
     "data": {
      "text/plain": [
       "dict"
      ]
     },
     "execution_count": 6,
     "metadata": {},
     "output_type": "execute_result"
    }
   ],
   "source": [
    "type(c)"
   ]
  },
  {
   "cell_type": "code",
   "execution_count": 7,
   "id": "da05851b",
   "metadata": {},
   "outputs": [
    {
     "data": {
      "text/plain": [
       "(3, 4, 5, 6)"
      ]
     },
     "execution_count": 7,
     "metadata": {},
     "output_type": "execute_result"
    }
   ],
   "source": [
    " t"
   ]
  },
  {
   "cell_type": "code",
   "execution_count": 8,
   "id": "38fb9b76",
   "metadata": {},
   "outputs": [],
   "source": [
    "test=(3,4,5,6,7,6)"
   ]
  },
  {
   "cell_type": "markdown",
   "id": "57379053",
   "metadata": {},
   "source": [
    "### only 2 function are available in python for tuples\n",
    "* count()\n",
    "* index()"
   ]
  },
  {
   "cell_type": "code",
   "execution_count": 9,
   "id": "109fa3ab",
   "metadata": {},
   "outputs": [
    {
     "data": {
      "text/plain": [
       "(3, 4, 5, 6, 7, 6)"
      ]
     },
     "execution_count": 9,
     "metadata": {},
     "output_type": "execute_result"
    }
   ],
   "source": [
    "test"
   ]
  },
  {
   "cell_type": "code",
   "execution_count": 10,
   "id": "fd407637",
   "metadata": {},
   "outputs": [
    {
     "data": {
      "text/plain": [
       "2"
      ]
     },
     "execution_count": 10,
     "metadata": {},
     "output_type": "execute_result"
    }
   ],
   "source": [
    "test.count(6)"
   ]
  },
  {
   "cell_type": "code",
   "execution_count": 11,
   "id": "289e27e0",
   "metadata": {},
   "outputs": [
    {
     "data": {
      "text/plain": [
       "3"
      ]
     },
     "execution_count": 11,
     "metadata": {},
     "output_type": "execute_result"
    }
   ],
   "source": [
    "test.index(6)"
   ]
  },
  {
   "cell_type": "code",
   "execution_count": 12,
   "id": "25783c57",
   "metadata": {},
   "outputs": [
    {
     "ename": "AttributeError",
     "evalue": "'tuple' object has no attribute 'append'",
     "output_type": "error",
     "traceback": [
      "\u001b[1;31m---------------------------------------------------------------------------\u001b[0m",
      "\u001b[1;31mAttributeError\u001b[0m                            Traceback (most recent call last)",
      "Input \u001b[1;32mIn [12]\u001b[0m, in \u001b[0;36m<cell line: 1>\u001b[1;34m()\u001b[0m\n\u001b[1;32m----> 1\u001b[0m \u001b[43mtest\u001b[49m\u001b[38;5;241;43m.\u001b[39;49m\u001b[43mappend\u001b[49m(\u001b[38;5;241m3\u001b[39m,\u001b[38;5;241m4\u001b[39m,\u001b[38;5;241m5\u001b[39m)\n",
      "\u001b[1;31mAttributeError\u001b[0m: 'tuple' object has no attribute 'append'"
     ]
    }
   ],
   "source": [
    "test.append(3,4,5)## append are not allowed"
   ]
  },
  {
   "cell_type": "code",
   "execution_count": 14,
   "id": "18cdf869",
   "metadata": {},
   "outputs": [
    {
     "ename": "AttributeError",
     "evalue": "'tuple' object has no attribute 'extend'",
     "output_type": "error",
     "traceback": [
      "\u001b[1;31m---------------------------------------------------------------------------\u001b[0m",
      "\u001b[1;31mAttributeError\u001b[0m                            Traceback (most recent call last)",
      "Input \u001b[1;32mIn [14]\u001b[0m, in \u001b[0;36m<cell line: 1>\u001b[1;34m()\u001b[0m\n\u001b[1;32m----> 1\u001b[0m \u001b[43mtest\u001b[49m\u001b[38;5;241;43m.\u001b[39;49m\u001b[43mextend\u001b[49m(\u001b[38;5;241m3\u001b[39m,\u001b[38;5;241m4\u001b[39m,\u001b[38;5;241m5\u001b[39m)\n",
      "\u001b[1;31mAttributeError\u001b[0m: 'tuple' object has no attribute 'extend'"
     ]
    }
   ],
   "source": [
    "test.extend(3,4,5)# tuple are immutable"
   ]
  },
  {
   "cell_type": "markdown",
   "id": "13c88c9a",
   "metadata": {},
   "source": [
    "* Size of the tuple can be determined using the len() funtion"
   ]
  },
  {
   "cell_type": "code",
   "execution_count": 15,
   "id": "3e84a1e8",
   "metadata": {},
   "outputs": [
    {
     "data": {
      "text/plain": [
       "6"
      ]
     },
     "execution_count": 15,
     "metadata": {},
     "output_type": "execute_result"
    }
   ],
   "source": [
    "len(test)"
   ]
  },
  {
   "cell_type": "markdown",
   "id": "553fd460",
   "metadata": {},
   "source": [
    "#### Indexing\n",
    "\n",
    "Tuple elements can be accessed using the bracket operator. The index value starts from 0 and goes upto len() -1 ."
   ]
  },
  {
   "cell_type": "code",
   "execution_count": 16,
   "id": "878352ca",
   "metadata": {},
   "outputs": [
    {
     "data": {
      "text/plain": [
       "(3, 4, 5, 6, 7, 6)"
      ]
     },
     "execution_count": 16,
     "metadata": {},
     "output_type": "execute_result"
    }
   ],
   "source": [
    "test"
   ]
  },
  {
   "cell_type": "code",
   "execution_count": 17,
   "id": "a6d4f697",
   "metadata": {},
   "outputs": [
    {
     "data": {
      "text/plain": [
       "6"
      ]
     },
     "execution_count": 17,
     "metadata": {},
     "output_type": "execute_result"
    }
   ],
   "source": [
    "test[5]"
   ]
  },
  {
   "cell_type": "code",
   "execution_count": 18,
   "id": "436a3526",
   "metadata": {},
   "outputs": [
    {
     "data": {
      "text/plain": [
       "3"
      ]
     },
     "execution_count": 18,
     "metadata": {},
     "output_type": "execute_result"
    }
   ],
   "source": [
    "test[0]"
   ]
  },
  {
   "cell_type": "code",
   "execution_count": 19,
   "id": "c615c642",
   "metadata": {},
   "outputs": [
    {
     "data": {
      "text/plain": [
       "6"
      ]
     },
     "execution_count": 19,
     "metadata": {},
     "output_type": "execute_result"
    }
   ],
   "source": [
    "test[-1]"
   ]
  },
  {
   "cell_type": "markdown",
   "id": "2ebca980",
   "metadata": {},
   "source": [
    "#### Slicing\n",
    "\n",
    "The part of tuples can be accessed using the slicing."
   ]
  },
  {
   "cell_type": "code",
   "execution_count": 20,
   "id": "b0b335b6",
   "metadata": {},
   "outputs": [
    {
     "data": {
      "text/plain": [
       "(3, 4, 5, 6, 7, 6)"
      ]
     },
     "execution_count": 20,
     "metadata": {},
     "output_type": "execute_result"
    }
   ],
   "source": [
    "test"
   ]
  },
  {
   "cell_type": "code",
   "execution_count": 21,
   "id": "54f7f905",
   "metadata": {},
   "outputs": [
    {
     "data": {
      "text/plain": [
       "(3, 4)"
      ]
     },
     "execution_count": 21,
     "metadata": {},
     "output_type": "execute_result"
    }
   ],
   "source": [
    "test[0:2] # extracts first two elements of tuple"
   ]
  },
  {
   "cell_type": "code",
   "execution_count": 22,
   "id": "f0c56a81",
   "metadata": {},
   "outputs": [
    {
     "data": {
      "text/plain": [
       "(3, 4, 5)"
      ]
     },
     "execution_count": 22,
     "metadata": {},
     "output_type": "execute_result"
    }
   ],
   "source": [
    "test[:3] # extracts first three elements of tuple"
   ]
  },
  {
   "cell_type": "code",
   "execution_count": 23,
   "id": "8b28156a",
   "metadata": {},
   "outputs": [
    {
     "data": {
      "text/plain": [
       "(4, 5, 6, 7, 6)"
      ]
     },
     "execution_count": 23,
     "metadata": {},
     "output_type": "execute_result"
    }
   ],
   "source": [
    "test[1:] # extracts all elements of tuple starting from second element"
   ]
  },
  {
   "cell_type": "code",
   "execution_count": 24,
   "id": "325df1a4",
   "metadata": {},
   "outputs": [
    {
     "data": {
      "text/plain": [
       "(3, 5, 7)"
      ]
     },
     "execution_count": 24,
     "metadata": {},
     "output_type": "execute_result"
    }
   ],
   "source": [
    "test[0::2] # extract every alternate element"
   ]
  },
  {
   "cell_type": "code",
   "execution_count": 25,
   "id": "3e3a7f9a",
   "metadata": {},
   "outputs": [
    {
     "data": {
      "text/plain": [
       "(6, 7, 6, 5, 4, 3)"
      ]
     },
     "execution_count": 25,
     "metadata": {},
     "output_type": "execute_result"
    }
   ],
   "source": [
    "test[ : : -1 ]  #access the elements of tuple in reverse manner"
   ]
  },
  {
   "cell_type": "markdown",
   "id": "da9a8d0c",
   "metadata": {},
   "source": [
    "#### Concatenation\n",
    "\n",
    "Two tuples can be joined using the '+' operator."
   ]
  },
  {
   "cell_type": "code",
   "execution_count": 26,
   "id": "2dbb18e1",
   "metadata": {},
   "outputs": [],
   "source": [
    "t1=(3,4,5,6)\n",
    "t2=(2,7,8,9)"
   ]
  },
  {
   "cell_type": "code",
   "execution_count": 27,
   "id": "d7bde055",
   "metadata": {},
   "outputs": [],
   "source": [
    "t3 = t1+t2 ## concatenation"
   ]
  },
  {
   "cell_type": "code",
   "execution_count": 28,
   "id": "6600a18f",
   "metadata": {},
   "outputs": [
    {
     "data": {
      "text/plain": [
       "(3, 4, 5, 6, 2, 7, 8, 9)"
      ]
     },
     "execution_count": 28,
     "metadata": {},
     "output_type": "execute_result"
    }
   ],
   "source": [
    "t3"
   ]
  },
  {
   "cell_type": "markdown",
   "id": "64bdf187",
   "metadata": {},
   "source": [
    "#### Repetition\n",
    "\n",
    "Tuple elements can be repeated using \"*\" operator."
   ]
  },
  {
   "cell_type": "code",
   "execution_count": 29,
   "id": "6b74f5f8",
   "metadata": {},
   "outputs": [
    {
     "data": {
      "text/plain": [
       "(1, 2, 1, 2, 1, 2)"
      ]
     },
     "execution_count": 29,
     "metadata": {},
     "output_type": "execute_result"
    }
   ],
   "source": [
    "(1,2)*3 #(1,2) repeating 3 times"
   ]
  },
  {
   "cell_type": "code",
   "execution_count": 30,
   "id": "4c854864",
   "metadata": {},
   "outputs": [
    {
     "data": {
      "text/plain": [
       "('a', 'b', 'a', 'b', 'a', 'b', 'a', 'b')"
      ]
     },
     "execution_count": 30,
     "metadata": {},
     "output_type": "execute_result"
    }
   ],
   "source": [
    "tup=('a','b')\n",
    "tup_new=tup*4\n",
    "tup_new"
   ]
  },
  {
   "cell_type": "markdown",
   "id": "efe33dd3",
   "metadata": {},
   "source": [
    "#### Immutability\n",
    "\n",
    "Tuple elements can not be altered."
   ]
  },
  {
   "cell_type": "code",
   "execution_count": 31,
   "id": "0b106815",
   "metadata": {},
   "outputs": [],
   "source": [
    "t4=('Anand',3,45,66,'Ramya',\"India\")"
   ]
  },
  {
   "cell_type": "code",
   "execution_count": 32,
   "id": "b62120e4",
   "metadata": {},
   "outputs": [
    {
     "data": {
      "text/plain": [
       "('Anand', 3, 45, 66, 'Ramya', 'India')"
      ]
     },
     "execution_count": 32,
     "metadata": {},
     "output_type": "execute_result"
    }
   ],
   "source": [
    "t4"
   ]
  },
  {
   "cell_type": "code",
   "execution_count": 33,
   "id": "6d521c7d",
   "metadata": {},
   "outputs": [],
   "source": [
    "a='India' # strings & tuple are immutable i.e you cannot change the value at any position"
   ]
  },
  {
   "cell_type": "code",
   "execution_count": 34,
   "id": "e7abd4a5",
   "metadata": {},
   "outputs": [
    {
     "data": {
      "text/plain": [
       "'India'"
      ]
     },
     "execution_count": 34,
     "metadata": {},
     "output_type": "execute_result"
    }
   ],
   "source": [
    "a"
   ]
  },
  {
   "cell_type": "code",
   "execution_count": 35,
   "id": "e0c4c6d2",
   "metadata": {},
   "outputs": [
    {
     "data": {
      "text/plain": [
       "'n'"
      ]
     },
     "execution_count": 35,
     "metadata": {},
     "output_type": "execute_result"
    }
   ],
   "source": [
    "a[1]"
   ]
  },
  {
   "cell_type": "markdown",
   "id": "bf99f74d",
   "metadata": {},
   "source": [
    "#### Iterable\n",
    "\n",
    "Tuple is iterable. One can traverse through the individual tuple elements using loops."
   ]
  },
  {
   "cell_type": "code",
   "execution_count": 36,
   "id": "5fc71368",
   "metadata": {},
   "outputs": [
    {
     "data": {
      "text/plain": [
       "(3, 4, 5, 6)"
      ]
     },
     "execution_count": 36,
     "metadata": {},
     "output_type": "execute_result"
    }
   ],
   "source": [
    "t1"
   ]
  },
  {
   "cell_type": "code",
   "execution_count": 37,
   "id": "9ac433bb",
   "metadata": {},
   "outputs": [
    {
     "data": {
      "text/plain": [
       "4"
      ]
     },
     "execution_count": 37,
     "metadata": {},
     "output_type": "execute_result"
    }
   ],
   "source": [
    "len(t1)"
   ]
  },
  {
   "cell_type": "code",
   "execution_count": 38,
   "id": "05216ebf",
   "metadata": {},
   "outputs": [
    {
     "data": {
      "text/plain": [
       "[0, 1, 2, 3]"
      ]
     },
     "execution_count": 38,
     "metadata": {},
     "output_type": "execute_result"
    }
   ],
   "source": [
    "list(range(len(t1)))"
   ]
  },
  {
   "cell_type": "code",
   "execution_count": 39,
   "id": "c9d790e6",
   "metadata": {},
   "outputs": [
    {
     "name": "stdout",
     "output_type": "stream",
     "text": [
      "3\n",
      "4\n",
      "5\n",
      "6\n"
     ]
    }
   ],
   "source": [
    "for i in t1:\n",
    "    print(i)\n",
    "                     # []--> for index position"
   ]
  },
  {
   "cell_type": "code",
   "execution_count": 40,
   "id": "8ab04ff4",
   "metadata": {},
   "outputs": [
    {
     "name": "stdout",
     "output_type": "stream",
     "text": [
      "3\n",
      "4\n",
      "5\n",
      "6\n"
     ]
    }
   ],
   "source": [
    "for i in range(len(t1)):\n",
    "    print(t1[i])"
   ]
  },
  {
   "cell_type": "code",
   "execution_count": 41,
   "id": "906535ff",
   "metadata": {},
   "outputs": [
    {
     "data": {
      "text/plain": [
       "(3, 4, 5, 6, 2, 7, 8, 9)"
      ]
     },
     "execution_count": 41,
     "metadata": {},
     "output_type": "execute_result"
    }
   ],
   "source": [
    "t3"
   ]
  },
  {
   "cell_type": "code",
   "execution_count": 42,
   "id": "d1149df2",
   "metadata": {},
   "outputs": [
    {
     "data": {
      "text/plain": [
       "5"
      ]
     },
     "execution_count": 42,
     "metadata": {},
     "output_type": "execute_result"
    }
   ],
   "source": [
    "t3[2]"
   ]
  },
  {
   "cell_type": "code",
   "execution_count": 43,
   "id": "31230e00",
   "metadata": {},
   "outputs": [
    {
     "data": {
      "text/plain": [
       "range(0, 10)"
      ]
     },
     "execution_count": 43,
     "metadata": {},
     "output_type": "execute_result"
    }
   ],
   "source": [
    "range(10)"
   ]
  },
  {
   "cell_type": "code",
   "execution_count": 44,
   "id": "d168b1c4",
   "metadata": {},
   "outputs": [
    {
     "data": {
      "text/plain": [
       "[0, 1, 2, 3, 4, 5, 6, 7, 8, 9]"
      ]
     },
     "execution_count": 44,
     "metadata": {},
     "output_type": "execute_result"
    }
   ],
   "source": [
    "list(range(10))"
   ]
  },
  {
   "cell_type": "markdown",
   "id": "7ce67785",
   "metadata": {},
   "source": [
    "#### Sorting\n",
    "\n",
    "Tuple elements can be sorted as follows :"
   ]
  },
  {
   "cell_type": "code",
   "execution_count": 45,
   "id": "fad21119",
   "metadata": {},
   "outputs": [
    {
     "data": {
      "text/plain": [
       "(13, 3, 4, 5, 55, 10, 9, 78, 9, 11)"
      ]
     },
     "execution_count": 45,
     "metadata": {},
     "output_type": "execute_result"
    }
   ],
   "source": [
    "tup1=(13,3,4,5,55,10,9,78,9,11)\n",
    "tup1"
   ]
  },
  {
   "cell_type": "code",
   "execution_count": 46,
   "id": "824d0103",
   "metadata": {},
   "outputs": [
    {
     "data": {
      "text/plain": [
       "[3, 4, 5, 9, 9, 10, 11, 13, 55, 78]"
      ]
     },
     "execution_count": 46,
     "metadata": {},
     "output_type": "execute_result"
    }
   ],
   "source": [
    "sorted(tup1)"
   ]
  },
  {
   "cell_type": "code",
   "execution_count": 47,
   "id": "56f6e3e8",
   "metadata": {},
   "outputs": [
    {
     "data": {
      "text/plain": [
       "('a', 'm', 'c', 'e', 'b', 'd')"
      ]
     },
     "execution_count": 47,
     "metadata": {},
     "output_type": "execute_result"
    }
   ],
   "source": [
    "tup2=('a','m','c','e','b','d')\n",
    "tup2"
   ]
  },
  {
   "cell_type": "code",
   "execution_count": 48,
   "id": "ac1509a7",
   "metadata": {},
   "outputs": [
    {
     "data": {
      "text/plain": [
       "['a', 'b', 'c', 'd', 'e', 'm']"
      ]
     },
     "execution_count": 48,
     "metadata": {},
     "output_type": "execute_result"
    }
   ],
   "source": [
    "sorted(tup2)"
   ]
  },
  {
   "cell_type": "markdown",
   "id": "23246baf",
   "metadata": {},
   "source": [
    "#### Deletion\n",
    "\n",
    "Tuple can be removed from the memory by using del()."
   ]
  },
  {
   "cell_type": "code",
   "execution_count": 49,
   "id": "f7ecdb15",
   "metadata": {},
   "outputs": [
    {
     "data": {
      "text/plain": [
       "('a', 'm', 'c', 'e', 'b', 'd')"
      ]
     },
     "execution_count": 49,
     "metadata": {},
     "output_type": "execute_result"
    }
   ],
   "source": [
    "tup2"
   ]
  },
  {
   "cell_type": "code",
   "execution_count": 50,
   "id": "860d6c5e",
   "metadata": {},
   "outputs": [],
   "source": [
    "del(tup2)"
   ]
  },
  {
   "cell_type": "code",
   "execution_count": 51,
   "id": "a181381c",
   "metadata": {},
   "outputs": [
    {
     "ename": "NameError",
     "evalue": "name 'tup2' is not defined",
     "output_type": "error",
     "traceback": [
      "\u001b[1;31m---------------------------------------------------------------------------\u001b[0m",
      "\u001b[1;31mNameError\u001b[0m                                 Traceback (most recent call last)",
      "Input \u001b[1;32mIn [51]\u001b[0m, in \u001b[0;36m<cell line: 1>\u001b[1;34m()\u001b[0m\n\u001b[1;32m----> 1\u001b[0m \u001b[43mtup2\u001b[49m\n",
      "\u001b[1;31mNameError\u001b[0m: name 'tup2' is not defined"
     ]
    }
   ],
   "source": [
    "tup2"
   ]
  },
  {
   "cell_type": "markdown",
   "id": "3c17c67d",
   "metadata": {},
   "source": [
    "## Set\n",
    "* It is unordered collection of unique element.\n",
    "* sets never returns a sorted dataset.There is an order but sorted.\n",
    "* It can created with curly braces{}.\n"
   ]
  },
  {
   "cell_type": "code",
   "execution_count": 52,
   "id": "f5f2f037",
   "metadata": {},
   "outputs": [],
   "source": [
    "empty={}"
   ]
  },
  {
   "cell_type": "code",
   "execution_count": 53,
   "id": "9e74a99b",
   "metadata": {},
   "outputs": [
    {
     "data": {
      "text/plain": [
       "dict"
      ]
     },
     "execution_count": 53,
     "metadata": {},
     "output_type": "execute_result"
    }
   ],
   "source": [
    "type(empty)"
   ]
  },
  {
   "cell_type": "code",
   "execution_count": 54,
   "id": "92d2f289",
   "metadata": {},
   "outputs": [],
   "source": [
    "set_demo={2,3,\"swami\"}"
   ]
  },
  {
   "cell_type": "code",
   "execution_count": 55,
   "id": "0dd43a7a",
   "metadata": {},
   "outputs": [
    {
     "data": {
      "text/plain": [
       "{2, 3, 'swami'}"
      ]
     },
     "execution_count": 55,
     "metadata": {},
     "output_type": "execute_result"
    }
   ],
   "source": [
    "set_demo"
   ]
  },
  {
   "cell_type": "code",
   "execution_count": 56,
   "id": "c1ea70c6",
   "metadata": {},
   "outputs": [
    {
     "data": {
      "text/plain": [
       "set"
      ]
     },
     "execution_count": 56,
     "metadata": {},
     "output_type": "execute_result"
    }
   ],
   "source": [
    "type(set_demo)"
   ]
  },
  {
   "cell_type": "markdown",
   "id": "c65bae7c",
   "metadata": {},
   "source": [
    "* If Set elements are duplicate then they are removed automatically"
   ]
  },
  {
   "cell_type": "code",
   "execution_count": 57,
   "id": "b04f8b4c",
   "metadata": {},
   "outputs": [],
   "source": [
    "set_dup={2,3,\"swami\",2,3,\"swami\",'laksh'}"
   ]
  },
  {
   "cell_type": "code",
   "execution_count": 58,
   "id": "84837301",
   "metadata": {},
   "outputs": [
    {
     "data": {
      "text/plain": [
       "{2, 3, 'laksh', 'swami'}"
      ]
     },
     "execution_count": 58,
     "metadata": {},
     "output_type": "execute_result"
    }
   ],
   "source": [
    "set_dup"
   ]
  },
  {
   "cell_type": "code",
   "execution_count": 59,
   "id": "79d43548",
   "metadata": {},
   "outputs": [
    {
     "ename": "TypeError",
     "evalue": "'set' object is not subscriptable",
     "output_type": "error",
     "traceback": [
      "\u001b[1;31m---------------------------------------------------------------------------\u001b[0m",
      "\u001b[1;31mTypeError\u001b[0m                                 Traceback (most recent call last)",
      "Input \u001b[1;32mIn [59]\u001b[0m, in \u001b[0;36m<cell line: 1>\u001b[1;34m()\u001b[0m\n\u001b[1;32m----> 1\u001b[0m \u001b[43mset_dup\u001b[49m\u001b[43m[\u001b[49m\u001b[38;5;241;43m2\u001b[39;49m\u001b[43m]\u001b[49m\n",
      "\u001b[1;31mTypeError\u001b[0m: 'set' object is not subscriptable"
     ]
    }
   ],
   "source": [
    "set_dup[2]"
   ]
  },
  {
   "cell_type": "code",
   "execution_count": 60,
   "id": "583199b5",
   "metadata": {},
   "outputs": [
    {
     "data": {
      "text/plain": [
       "4"
      ]
     },
     "execution_count": 60,
     "metadata": {},
     "output_type": "execute_result"
    }
   ],
   "source": [
    "len(set_dup)"
   ]
  },
  {
   "cell_type": "code",
   "execution_count": 61,
   "id": "18f245d9",
   "metadata": {},
   "outputs": [
    {
     "data": {
      "text/plain": [
       "set"
      ]
     },
     "execution_count": 61,
     "metadata": {},
     "output_type": "execute_result"
    }
   ],
   "source": [
    "type(set_dup)"
   ]
  },
  {
   "cell_type": "code",
   "execution_count": 62,
   "id": "23c2a1bf",
   "metadata": {},
   "outputs": [
    {
     "name": "stdout",
     "output_type": "stream",
     "text": [
      "laksh\n",
      "2\n",
      "3\n",
      "swami\n"
     ]
    }
   ],
   "source": [
    "for i in set_dup:\n",
    "    print(i)"
   ]
  },
  {
   "cell_type": "markdown",
   "id": "f795f0e8",
   "metadata": {},
   "source": [
    "* Set has a mixed element"
   ]
  },
  {
   "cell_type": "code",
   "execution_count": 63,
   "id": "e6d563d8",
   "metadata": {},
   "outputs": [],
   "source": [
    "set_ex={4,4,5,6,7,2,3,4,12,2,33,22,\"abc\",\"chitra\",\"##\",\"$$\",\"Element\",12,23.44}"
   ]
  },
  {
   "cell_type": "code",
   "execution_count": 64,
   "id": "b221d2c2",
   "metadata": {},
   "outputs": [
    {
     "data": {
      "text/plain": [
       "{'##', '$$', 12, 2, 22, 23.44, 3, 33, 4, 5, 6, 7, 'Element', 'abc', 'chitra'}"
      ]
     },
     "execution_count": 64,
     "metadata": {},
     "output_type": "execute_result"
    }
   ],
   "source": [
    "set_ex ## There is an order but sorted"
   ]
  },
  {
   "cell_type": "code",
   "execution_count": 65,
   "id": "3d431637",
   "metadata": {},
   "outputs": [
    {
     "name": "stdout",
     "output_type": "stream",
     "text": [
      "33\n",
      "2\n",
      "3\n",
      "4\n",
      "5\n",
      "6\n",
      "7\n",
      "##\n",
      "12\n",
      "chitra\n",
      "Element\n",
      "abc\n",
      "22\n",
      "23.44\n",
      "$$\n"
     ]
    }
   ],
   "source": [
    "for i in set_ex:\n",
    "    print(i)"
   ]
  },
  {
   "cell_type": "code",
   "execution_count": 66,
   "id": "a1cbfd92",
   "metadata": {},
   "outputs": [],
   "source": [
    "#ex1\n",
    "s={1,2,3,4,55,}"
   ]
  },
  {
   "cell_type": "code",
   "execution_count": 67,
   "id": "0d900f92",
   "metadata": {},
   "outputs": [
    {
     "data": {
      "text/plain": [
       "{1, 2, 3, 4, 55}"
      ]
     },
     "execution_count": 67,
     "metadata": {},
     "output_type": "execute_result"
    }
   ],
   "source": [
    "s"
   ]
  },
  {
   "cell_type": "code",
   "execution_count": 68,
   "id": "1b148e31",
   "metadata": {},
   "outputs": [
    {
     "data": {
      "text/plain": [
       "set"
      ]
     },
     "execution_count": 68,
     "metadata": {},
     "output_type": "execute_result"
    }
   ],
   "source": [
    "type(s)"
   ]
  },
  {
   "cell_type": "code",
   "execution_count": 69,
   "id": "ea6aa213",
   "metadata": {},
   "outputs": [],
   "source": [
    "#ex2\n",
    "s1={1,12,23,2,3,4,55,\"D\",\"B\",\"a\",\"bb\",\"manya\",\"##\"}"
   ]
  },
  {
   "cell_type": "code",
   "execution_count": 70,
   "id": "edfd94a7",
   "metadata": {},
   "outputs": [
    {
     "data": {
      "text/plain": [
       "{'##', 1, 12, 2, 23, 3, 4, 55, 'B', 'D', 'a', 'bb', 'manya'}"
      ]
     },
     "execution_count": 70,
     "metadata": {},
     "output_type": "execute_result"
    }
   ],
   "source": [
    "s1"
   ]
  },
  {
   "cell_type": "code",
   "execution_count": 71,
   "id": "e5979a58",
   "metadata": {},
   "outputs": [
    {
     "name": "stdout",
     "output_type": "stream",
     "text": [
      "1\n",
      "2\n",
      "3\n",
      "4\n",
      "manya\n",
      "B\n",
      "##\n",
      "12\n",
      "a\n",
      "55\n",
      "23\n",
      "bb\n",
      "D\n"
     ]
    }
   ],
   "source": [
    "for i in s1:\n",
    "    print(i)"
   ]
  },
  {
   "cell_type": "code",
   "execution_count": 72,
   "id": "ff0ef41e",
   "metadata": {},
   "outputs": [],
   "source": [
    "#ex:\n",
    "s2={1,2,3,4,33,42,8,3,33,\"Java\",45,55.6,\"Java\",\"Sql\",\"Powerbi\",\"**\",\"Tableau\"}"
   ]
  },
  {
   "cell_type": "code",
   "execution_count": 73,
   "id": "834108f1",
   "metadata": {},
   "outputs": [
    {
     "data": {
      "text/plain": [
       "{'**', 1, 2, 3, 33, 4, 42, 45, 55.6, 8, 'Java', 'Powerbi', 'Sql', 'Tableau'}"
      ]
     },
     "execution_count": 73,
     "metadata": {},
     "output_type": "execute_result"
    }
   ],
   "source": [
    "s2"
   ]
  },
  {
   "cell_type": "code",
   "execution_count": 74,
   "id": "663bf112",
   "metadata": {},
   "outputs": [
    {
     "name": "stdout",
     "output_type": "stream",
     "text": [
      "1\n",
      "2\n",
      "3\n",
      "4\n",
      "33\n",
      "Java\n",
      "Sql\n",
      "8\n",
      "Powerbi\n",
      "42\n",
      "Tableau\n",
      "45\n",
      "**\n",
      "55.6\n"
     ]
    }
   ],
   "source": [
    "for i in s2:\n",
    "    print(i)"
   ]
  },
  {
   "cell_type": "code",
   "execution_count": 75,
   "id": "3deda64d",
   "metadata": {},
   "outputs": [
    {
     "data": {
      "text/plain": [
       "set"
      ]
     },
     "execution_count": 75,
     "metadata": {},
     "output_type": "execute_result"
    }
   ],
   "source": [
    "type(s2)"
   ]
  },
  {
   "cell_type": "code",
   "execution_count": 76,
   "id": "ebacaea8",
   "metadata": {},
   "outputs": [
    {
     "ename": "TypeError",
     "evalue": "'set' object is not subscriptable",
     "output_type": "error",
     "traceback": [
      "\u001b[1;31m---------------------------------------------------------------------------\u001b[0m",
      "\u001b[1;31mTypeError\u001b[0m                                 Traceback (most recent call last)",
      "Input \u001b[1;32mIn [76]\u001b[0m, in \u001b[0;36m<cell line: 1>\u001b[1;34m()\u001b[0m\n\u001b[1;32m----> 1\u001b[0m \u001b[43ms2\u001b[49m\u001b[43m[\u001b[49m\u001b[38;5;241;43m2\u001b[39;49m\u001b[43m]\u001b[49m\n",
      "\u001b[1;31mTypeError\u001b[0m: 'set' object is not subscriptable"
     ]
    }
   ],
   "source": [
    "s2[2] # cannot predict order"
   ]
  },
  {
   "cell_type": "code",
   "execution_count": 77,
   "id": "2a628002",
   "metadata": {},
   "outputs": [],
   "source": [
    "s3={1,23,6,44,22,45,56.7,\"a\",\"A\",\"##\",\"$\",\"Newline\"}"
   ]
  },
  {
   "cell_type": "code",
   "execution_count": 78,
   "id": "f31f7380",
   "metadata": {},
   "outputs": [
    {
     "data": {
      "text/plain": [
       "{'##', '$', 1, 22, 23, 44, 45, 56.7, 6, 'A', 'Newline', 'a'}"
      ]
     },
     "execution_count": 78,
     "metadata": {},
     "output_type": "execute_result"
    }
   ],
   "source": [
    "s3"
   ]
  },
  {
   "cell_type": "code",
   "execution_count": 79,
   "id": "d9d0442a",
   "metadata": {},
   "outputs": [],
   "source": [
    "set={22,33,122,144,\"##\",\"Anmol\",\"Anmol\"}"
   ]
  },
  {
   "cell_type": "code",
   "execution_count": 80,
   "id": "4c866f2b",
   "metadata": {},
   "outputs": [
    {
     "data": {
      "text/plain": [
       "{'##', 122, 144, 22, 33, 'Anmol'}"
      ]
     },
     "execution_count": 80,
     "metadata": {},
     "output_type": "execute_result"
    }
   ],
   "source": [
    "set"
   ]
  },
  {
   "cell_type": "markdown",
   "id": "fa0d6fda",
   "metadata": {},
   "source": [
    "* pop() operation can be used to remove the first element from the set. "
   ]
  },
  {
   "cell_type": "code",
   "execution_count": 81,
   "id": "d10a6cb2",
   "metadata": {},
   "outputs": [],
   "source": [
    "set_uni={1,22,33,3,4,33,33,4,44,5,5,5,55,55,\"Amol\"}"
   ]
  },
  {
   "cell_type": "code",
   "execution_count": 82,
   "id": "5ae1fc48",
   "metadata": {},
   "outputs": [
    {
     "data": {
      "text/plain": [
       "{1, 22, 3, 33, 4, 44, 5, 55, 'Amol'}"
      ]
     },
     "execution_count": 82,
     "metadata": {},
     "output_type": "execute_result"
    }
   ],
   "source": [
    "set_uni"
   ]
  },
  {
   "cell_type": "code",
   "execution_count": 83,
   "id": "179a7a12",
   "metadata": {},
   "outputs": [
    {
     "data": {
      "text/plain": [
       "1"
      ]
     },
     "execution_count": 83,
     "metadata": {},
     "output_type": "execute_result"
    }
   ],
   "source": [
    "set_uni.pop() #pop=Remove item"
   ]
  },
  {
   "cell_type": "code",
   "execution_count": 84,
   "id": "96e897d5",
   "metadata": {},
   "outputs": [],
   "source": [
    "list_items=['Banana',\"Apple\",\"Mango\",\"Mango\",\"Oil\",45.5,66,6,6,6,89,80]"
   ]
  },
  {
   "cell_type": "code",
   "execution_count": 85,
   "id": "d75b58cf",
   "metadata": {},
   "outputs": [
    {
     "data": {
      "text/plain": [
       "['Banana', 'Apple', 'Mango', 'Mango', 'Oil', 45.5, 66, 6, 6, 6, 89, 80]"
      ]
     },
     "execution_count": 85,
     "metadata": {},
     "output_type": "execute_result"
    }
   ],
   "source": [
    "list_items"
   ]
  },
  {
   "cell_type": "code",
   "execution_count": 86,
   "id": "57a784ca",
   "metadata": {},
   "outputs": [
    {
     "data": {
      "text/plain": [
       "80"
      ]
     },
     "execution_count": 86,
     "metadata": {},
     "output_type": "execute_result"
    }
   ],
   "source": [
    "list_items.pop()"
   ]
  },
  {
   "cell_type": "code",
   "execution_count": 87,
   "id": "a90b4fea",
   "metadata": {},
   "outputs": [
    {
     "data": {
      "text/plain": [
       "66"
      ]
     },
     "execution_count": 87,
     "metadata": {},
     "output_type": "execute_result"
    }
   ],
   "source": [
    "list_items.pop(6)"
   ]
  },
  {
   "cell_type": "code",
   "execution_count": 88,
   "id": "bb9069cb",
   "metadata": {},
   "outputs": [
    {
     "ename": "TypeError",
     "evalue": "'str' object cannot be interpreted as an integer",
     "output_type": "error",
     "traceback": [
      "\u001b[1;31m---------------------------------------------------------------------------\u001b[0m",
      "\u001b[1;31mTypeError\u001b[0m                                 Traceback (most recent call last)",
      "Input \u001b[1;32mIn [88]\u001b[0m, in \u001b[0;36m<cell line: 1>\u001b[1;34m()\u001b[0m\n\u001b[1;32m----> 1\u001b[0m \u001b[43mlist_items\u001b[49m\u001b[38;5;241;43m.\u001b[39;49m\u001b[43mpop\u001b[49m\u001b[43m(\u001b[49m\u001b[38;5;124;43m\"\u001b[39;49m\u001b[38;5;124;43mOil\u001b[39;49m\u001b[38;5;124;43m\"\u001b[39;49m\u001b[43m)\u001b[49m\n",
      "\u001b[1;31mTypeError\u001b[0m: 'str' object cannot be interpreted as an integer"
     ]
    }
   ],
   "source": [
    "list_items.pop(\"Oil\")"
   ]
  },
  {
   "cell_type": "code",
   "execution_count": null,
   "id": "153ef0f9",
   "metadata": {},
   "outputs": [],
   "source": [
    "list_items"
   ]
  },
  {
   "cell_type": "code",
   "execution_count": 89,
   "id": "b2352f12",
   "metadata": {},
   "outputs": [
    {
     "data": {
      "text/plain": [
       "89"
      ]
     },
     "execution_count": 89,
     "metadata": {},
     "output_type": "execute_result"
    }
   ],
   "source": [
    "list_items.pop()"
   ]
  },
  {
   "cell_type": "code",
   "execution_count": 90,
   "id": "fc07975c",
   "metadata": {},
   "outputs": [
    {
     "data": {
      "text/plain": [
       "['Banana', 'Apple', 'Mango', 'Mango', 'Oil', 45.5, 6, 6, 6]"
      ]
     },
     "execution_count": 90,
     "metadata": {},
     "output_type": "execute_result"
    }
   ],
   "source": [
    "list_items"
   ]
  },
  {
   "cell_type": "code",
   "execution_count": 91,
   "id": "8e0d9916",
   "metadata": {},
   "outputs": [
    {
     "ename": "TypeError",
     "evalue": "'str' object cannot be interpreted as an integer",
     "output_type": "error",
     "traceback": [
      "\u001b[1;31m---------------------------------------------------------------------------\u001b[0m",
      "\u001b[1;31mTypeError\u001b[0m                                 Traceback (most recent call last)",
      "Input \u001b[1;32mIn [91]\u001b[0m, in \u001b[0;36m<cell line: 1>\u001b[1;34m()\u001b[0m\n\u001b[1;32m----> 1\u001b[0m \u001b[43mlist_items\u001b[49m\u001b[38;5;241;43m.\u001b[39;49m\u001b[43mpop\u001b[49m\u001b[43m(\u001b[49m\u001b[38;5;124;43m\"\u001b[39;49m\u001b[38;5;124;43mBanana\u001b[39;49m\u001b[38;5;124;43m\"\u001b[39;49m\u001b[43m)\u001b[49m\n",
      "\u001b[1;31mTypeError\u001b[0m: 'str' object cannot be interpreted as an integer"
     ]
    }
   ],
   "source": [
    "list_items.pop(\"Banana\")"
   ]
  },
  {
   "cell_type": "markdown",
   "id": "c3ac2c23",
   "metadata": {},
   "source": [
    "* clear() can be used to remove all the elements of set."
   ]
  },
  {
   "cell_type": "code",
   "execution_count": 92,
   "id": "9101ce56",
   "metadata": {},
   "outputs": [
    {
     "data": {
      "text/plain": [
       "{4, 5, 6}"
      ]
     },
     "execution_count": 92,
     "metadata": {},
     "output_type": "execute_result"
    }
   ],
   "source": [
    "test_set = {4, 5, 6}\n",
    "test_set"
   ]
  },
  {
   "cell_type": "code",
   "execution_count": 93,
   "id": "c211267b",
   "metadata": {},
   "outputs": [
    {
     "data": {
      "text/plain": [
       "set()"
      ]
     },
     "execution_count": 93,
     "metadata": {},
     "output_type": "execute_result"
    }
   ],
   "source": [
    "test_set.clear()\n",
    "test_set"
   ]
  },
  {
   "cell_type": "markdown",
   "id": "b4133c20",
   "metadata": {},
   "source": [
    "* 'in' and 'not in' can be used to determine if the element is present in set or not"
   ]
  },
  {
   "cell_type": "code",
   "execution_count": 94,
   "id": "89e20154",
   "metadata": {},
   "outputs": [],
   "source": [
    "country_set = {\"India\", \"US\", \"US\", \"India\"}\n"
   ]
  },
  {
   "cell_type": "code",
   "execution_count": 95,
   "id": "520ee2cb",
   "metadata": {},
   "outputs": [
    {
     "data": {
      "text/plain": [
       "{'India', 'US'}"
      ]
     },
     "execution_count": 95,
     "metadata": {},
     "output_type": "execute_result"
    }
   ],
   "source": [
    "country_set"
   ]
  },
  {
   "cell_type": "code",
   "execution_count": 96,
   "id": "9bbe235e",
   "metadata": {},
   "outputs": [
    {
     "data": {
      "text/plain": [
       "True"
      ]
     },
     "execution_count": 96,
     "metadata": {},
     "output_type": "execute_result"
    }
   ],
   "source": [
    "\"India\" in country_set"
   ]
  },
  {
   "cell_type": "code",
   "execution_count": 97,
   "id": "614f5ac4",
   "metadata": {},
   "outputs": [
    {
     "data": {
      "text/plain": [
       "False"
      ]
     },
     "execution_count": 97,
     "metadata": {},
     "output_type": "execute_result"
    }
   ],
   "source": [
    "\"India\" not in country_set"
   ]
  },
  {
   "cell_type": "markdown",
   "id": "d824270a",
   "metadata": {},
   "source": [
    "#### Working with sets\n",
    "\n",
    "'&' operator can be used to determine common elements of two or more sets"
   ]
  },
  {
   "cell_type": "code",
   "execution_count": 98,
   "id": "05be5d95",
   "metadata": {},
   "outputs": [],
   "source": [
    "maharashtra_cities = {\"Pune\", \"Mumbai\", \"Nagpur\"}\n",
    "goa_cities = {\"Panjim\", \"Vasco\", \"Madgaon\"}\n",
    "western_region_cities = {\"Panjim\", \"Vasco\", \"Pune\", \"Mumbai\", \"Nagpur\"}"
   ]
  },
  {
   "cell_type": "code",
   "execution_count": 99,
   "id": "142b1b27",
   "metadata": {},
   "outputs": [
    {
     "data": {
      "text/plain": [
       "{'Mumbai', 'Nagpur', 'Pune'}"
      ]
     },
     "execution_count": 99,
     "metadata": {},
     "output_type": "execute_result"
    }
   ],
   "source": [
    "maharashtra_cities & western_region_cities  # common cities between two sets"
   ]
  },
  {
   "cell_type": "code",
   "execution_count": 100,
   "id": "fc3d8062",
   "metadata": {},
   "outputs": [
    {
     "data": {
      "text/plain": [
       "{'Panjim', 'Vasco'}"
      ]
     },
     "execution_count": 100,
     "metadata": {},
     "output_type": "execute_result"
    }
   ],
   "source": [
    "goa_cities & western_region_cities  # common cities between two sets"
   ]
  },
  {
   "cell_type": "markdown",
   "id": "1d6bbf25",
   "metadata": {},
   "source": [
    "maharashtra_cities & goa_cities  # common cities between two sets, nothing common"
   ]
  },
  {
   "cell_type": "markdown",
   "id": "acced37b",
   "metadata": {},
   "source": [
    "* intersection() method can also be used to determine the common elements between two sets."
   ]
  },
  {
   "cell_type": "code",
   "execution_count": 101,
   "id": "8091b629",
   "metadata": {},
   "outputs": [
    {
     "data": {
      "text/plain": [
       "{'Mumbai', 'Nagpur', 'Pune'}"
      ]
     },
     "execution_count": 101,
     "metadata": {},
     "output_type": "execute_result"
    }
   ],
   "source": [
    "western_region_cities.intersection(maharashtra_cities)"
   ]
  },
  {
   "cell_type": "markdown",
   "id": "24fb0144",
   "metadata": {},
   "source": [
    "* difference method() can be used to determine the elements which are part of set 1 only, not present in set 2."
   ]
  },
  {
   "cell_type": "code",
   "execution_count": 102,
   "id": "d186a2bc",
   "metadata": {},
   "outputs": [
    {
     "data": {
      "text/plain": [
       "{'Panjim', 'Vasco'}"
      ]
     },
     "execution_count": 102,
     "metadata": {},
     "output_type": "execute_result"
    }
   ],
   "source": [
    "western_region_cities.difference(maharashtra_cities)"
   ]
  },
  {
   "cell_type": "markdown",
   "id": "adb7c7fe",
   "metadata": {},
   "source": [
    "* '|' operator can be used to get all cities from both sets"
   ]
  },
  {
   "cell_type": "code",
   "execution_count": 103,
   "id": "00db4870",
   "metadata": {},
   "outputs": [
    {
     "data": {
      "text/plain": [
       "{'Mumbai', 'Nagpur', 'Panjim', 'Pune', 'Vasco'}"
      ]
     },
     "execution_count": 103,
     "metadata": {},
     "output_type": "execute_result"
    }
   ],
   "source": [
    "maharashtra_cities | western_region_cities  # all cities between two sets"
   ]
  },
  {
   "cell_type": "markdown",
   "id": "02d61609",
   "metadata": {},
   "source": [
    "* union() method can be used to get all the elements from both sets."
   ]
  },
  {
   "cell_type": "code",
   "execution_count": 104,
   "id": "5600f56c",
   "metadata": {},
   "outputs": [
    {
     "data": {
      "text/plain": [
       "{'Madgaon', 'Mumbai', 'Nagpur', 'Panjim', 'Pune', 'Vasco'}"
      ]
     },
     "execution_count": 104,
     "metadata": {},
     "output_type": "execute_result"
    }
   ],
   "source": [
    "maharashtra_cities.union(goa_cities)"
   ]
  },
  {
   "cell_type": "markdown",
   "id": "9893b021",
   "metadata": {},
   "source": [
    "* set conversion from list"
   ]
  },
  {
   "cell_type": "code",
   "execution_count": 105,
   "id": "42809c72",
   "metadata": {},
   "outputs": [
    {
     "ename": "TypeError",
     "evalue": "'set' object is not callable",
     "output_type": "error",
     "traceback": [
      "\u001b[1;31m---------------------------------------------------------------------------\u001b[0m",
      "\u001b[1;31mTypeError\u001b[0m                                 Traceback (most recent call last)",
      "Input \u001b[1;32mIn [105]\u001b[0m, in \u001b[0;36m<cell line: 1>\u001b[1;34m()\u001b[0m\n\u001b[1;32m----> 1\u001b[0m set_convert\u001b[38;5;241m=\u001b[39m\u001b[38;5;28;43mset\u001b[39;49m\u001b[43m(\u001b[49m\u001b[43mlist_items\u001b[49m\u001b[43m)\u001b[49m\n",
      "\u001b[1;31mTypeError\u001b[0m: 'set' object is not callable"
     ]
    }
   ],
   "source": [
    "set_convert=set(list_items)"
   ]
  },
  {
   "cell_type": "code",
   "execution_count": 106,
   "id": "836d5752",
   "metadata": {},
   "outputs": [],
   "source": [
    "list_convert = list({'Banana',\"Apple\",\"Mango\",\"Mango\",\"Oil\",45.5,66,6,6,6,89,80})"
   ]
  },
  {
   "cell_type": "code",
   "execution_count": 107,
   "id": "664da7fb",
   "metadata": {},
   "outputs": [
    {
     "data": {
      "text/plain": [
       "[66, 'Oil', 6, 'Banana', 45.5, 80, 'Mango', 'Apple', 89]"
      ]
     },
     "execution_count": 107,
     "metadata": {},
     "output_type": "execute_result"
    }
   ],
   "source": [
    "list_convert"
   ]
  },
  {
   "cell_type": "code",
   "execution_count": 108,
   "id": "557df818",
   "metadata": {},
   "outputs": [],
   "source": [
    "#ex:\n",
    "list1 = [\"Surya\",1,2,3,4]"
   ]
  },
  {
   "cell_type": "code",
   "execution_count": 109,
   "id": "74929a64",
   "metadata": {},
   "outputs": [
    {
     "data": {
      "text/plain": [
       "['Surya', 1, 2, 3, 4]"
      ]
     },
     "execution_count": 109,
     "metadata": {},
     "output_type": "execute_result"
    }
   ],
   "source": [
    "list1"
   ]
  },
  {
   "cell_type": "code",
   "execution_count": 110,
   "id": "0f8186e1",
   "metadata": {
    "scrolled": true
   },
   "outputs": [
    {
     "ename": "TypeError",
     "evalue": "'set' object is not callable",
     "output_type": "error",
     "traceback": [
      "\u001b[1;31m---------------------------------------------------------------------------\u001b[0m",
      "\u001b[1;31mTypeError\u001b[0m                                 Traceback (most recent call last)",
      "Input \u001b[1;32mIn [110]\u001b[0m, in \u001b[0;36m<cell line: 1>\u001b[1;34m()\u001b[0m\n\u001b[1;32m----> 1\u001b[0m s2\u001b[38;5;241m=\u001b[39m\u001b[38;5;28;43mset\u001b[39;49m\u001b[43m(\u001b[49m\u001b[43mlist1\u001b[49m\u001b[43m)\u001b[49m\n",
      "\u001b[1;31mTypeError\u001b[0m: 'set' object is not callable"
     ]
    }
   ],
   "source": [
    "s2=set(list1)"
   ]
  },
  {
   "cell_type": "markdown",
   "id": "09a76f69",
   "metadata": {},
   "source": [
    "### Dictionary\n",
    "\n",
    "* Dictionaries are the structures which holds the data in key - value pair format.\n",
    "* For example, key can be student id and value can be student object corresponding to that student id. \n",
    "* It allows faster access to the object as compared to the elements stored as part of list.\n",
    "\n",
    "* Dictionaries are more general form of the lists. \n",
    "* They are more readable and one does not to keep the index in mind while accessing it.\n",
    "* For example, a list of months is available, in order to access the October month, one need to keep its index in mind. Also if days of those months also needs to be referred, then another list needs to be maintained.\n",
    "\n",
    "* It can be created with {} bracket.\n",
    "* Key_value pair is separated from \":\" ."
   ]
  },
  {
   "cell_type": "code",
   "execution_count": 111,
   "id": "c380181a",
   "metadata": {},
   "outputs": [],
   "source": [
    "empty_dict = {}"
   ]
  },
  {
   "cell_type": "code",
   "execution_count": 112,
   "id": "1c33fcf3",
   "metadata": {},
   "outputs": [
    {
     "data": {
      "text/plain": [
       "dict"
      ]
     },
     "execution_count": 112,
     "metadata": {},
     "output_type": "execute_result"
    }
   ],
   "source": [
    "type(empty_dict)"
   ]
  },
  {
   "cell_type": "code",
   "execution_count": 113,
   "id": "aefda52e",
   "metadata": {},
   "outputs": [],
   "source": [
    "s={1,2,3,4,55,}"
   ]
  },
  {
   "cell_type": "code",
   "execution_count": 114,
   "id": "f5027a8d",
   "metadata": {},
   "outputs": [
    {
     "ename": "TypeError",
     "evalue": "'set' object is not callable",
     "output_type": "error",
     "traceback": [
      "\u001b[1;31m---------------------------------------------------------------------------\u001b[0m",
      "\u001b[1;31mTypeError\u001b[0m                                 Traceback (most recent call last)",
      "Input \u001b[1;32mIn [114]\u001b[0m, in \u001b[0;36m<cell line: 1>\u001b[1;34m()\u001b[0m\n\u001b[1;32m----> 1\u001b[0m s \u001b[38;5;241m=\u001b[39m \u001b[38;5;28;43mset\u001b[39;49m\u001b[43m(\u001b[49m\u001b[43m)\u001b[49m\n",
      "\u001b[1;31mTypeError\u001b[0m: 'set' object is not callable"
     ]
    }
   ],
   "source": [
    "s = set()"
   ]
  },
  {
   "cell_type": "code",
   "execution_count": 115,
   "id": "d97a6eb8",
   "metadata": {},
   "outputs": [
    {
     "data": {
      "text/plain": [
       "set"
      ]
     },
     "execution_count": 115,
     "metadata": {},
     "output_type": "execute_result"
    }
   ],
   "source": [
    "type(s)"
   ]
  },
  {
   "cell_type": "code",
   "execution_count": 116,
   "id": "0e450aee",
   "metadata": {},
   "outputs": [],
   "source": [
    "s.add('Anand')"
   ]
  },
  {
   "cell_type": "code",
   "execution_count": 117,
   "id": "455eab6b",
   "metadata": {},
   "outputs": [
    {
     "data": {
      "text/plain": [
       "{1, 2, 3, 4, 55, 'Anand'}"
      ]
     },
     "execution_count": 117,
     "metadata": {},
     "output_type": "execute_result"
    }
   ],
   "source": [
    "s"
   ]
  },
  {
   "cell_type": "code",
   "execution_count": 118,
   "id": "bf2fbf28",
   "metadata": {},
   "outputs": [],
   "source": [
    "s.add(33.44)"
   ]
  },
  {
   "cell_type": "code",
   "execution_count": 119,
   "id": "54afd32e",
   "metadata": {},
   "outputs": [
    {
     "data": {
      "text/plain": [
       "{1, 2, 3, 33.44, 4, 55, 'Anand'}"
      ]
     },
     "execution_count": 119,
     "metadata": {},
     "output_type": "execute_result"
    }
   ],
   "source": [
    "s"
   ]
  },
  {
   "cell_type": "code",
   "execution_count": 120,
   "id": "9348dff5",
   "metadata": {},
   "outputs": [],
   "source": [
    "a={5}"
   ]
  },
  {
   "cell_type": "code",
   "execution_count": 121,
   "id": "e03e8686",
   "metadata": {},
   "outputs": [
    {
     "data": {
      "text/plain": [
       "set"
      ]
     },
     "execution_count": 121,
     "metadata": {},
     "output_type": "execute_result"
    }
   ],
   "source": [
    "type(a)"
   ]
  },
  {
   "cell_type": "code",
   "execution_count": 122,
   "id": "382a0f76",
   "metadata": {},
   "outputs": [],
   "source": [
    "my_dict={'Jan':31,'Feb':28,\"March\":31,\"Apr\":30}# keys are string"
   ]
  },
  {
   "cell_type": "code",
   "execution_count": 123,
   "id": "13baebb4",
   "metadata": {},
   "outputs": [
    {
     "data": {
      "text/plain": [
       "{'Jan': 31, 'Feb': 28, 'March': 31, 'Apr': 30}"
      ]
     },
     "execution_count": 123,
     "metadata": {},
     "output_type": "execute_result"
    }
   ],
   "source": [
    "my_dict"
   ]
  },
  {
   "cell_type": "markdown",
   "id": "61d87176",
   "metadata": {},
   "source": [
    "#### Key can string,number or tuples basically it has to be immutable object."
   ]
  },
  {
   "cell_type": "code",
   "execution_count": 124,
   "id": "e34ecc8d",
   "metadata": {},
   "outputs": [
    {
     "data": {
      "text/plain": [
       "{1: 'Jan', 2: 'Feb', 3: 'March', 4: 'Apr'}"
      ]
     },
     "execution_count": 124,
     "metadata": {},
     "output_type": "execute_result"
    }
   ],
   "source": [
    "dict1 = {1:'Jan',2:\"Feb\",3:\"March\",4:'Apr'} # keys are num\n",
    "dict1"
   ]
  },
  {
   "cell_type": "code",
   "execution_count": 125,
   "id": "1f394a0f",
   "metadata": {},
   "outputs": [
    {
     "data": {
      "text/plain": [
       "{(1, 2019): 'Jan', (2, 2019): 'Feb', (3, 2019): 'Mar'}"
      ]
     },
     "execution_count": 125,
     "metadata": {},
     "output_type": "execute_result"
    }
   ],
   "source": [
    "dict2= {(1,2019):'Jan',(2,2019):'Feb',(3,2019):'Mar'} # keys are tuple\n",
    "dict2"
   ]
  },
  {
   "cell_type": "code",
   "execution_count": 126,
   "id": "33959fd5",
   "metadata": {},
   "outputs": [
    {
     "ename": "TypeError",
     "evalue": "unhashable type: 'list'",
     "output_type": "error",
     "traceback": [
      "\u001b[1;31m---------------------------------------------------------------------------\u001b[0m",
      "\u001b[1;31mTypeError\u001b[0m                                 Traceback (most recent call last)",
      "Input \u001b[1;32mIn [126]\u001b[0m, in \u001b[0;36m<cell line: 1>\u001b[1;34m()\u001b[0m\n\u001b[1;32m----> 1\u001b[0m dict3 \u001b[38;5;241m=\u001b[39m {[\u001b[38;5;241m1\u001b[39m,\u001b[38;5;241m2019\u001b[39m]:\u001b[38;5;124m'\u001b[39m\u001b[38;5;124mJan\u001b[39m\u001b[38;5;124m'\u001b[39m,[\u001b[38;5;241m2\u001b[39m,\u001b[38;5;241m2019\u001b[39m]:\u001b[38;5;124m'\u001b[39m\u001b[38;5;124mFeb\u001b[39m\u001b[38;5;124m'\u001b[39m} \u001b[38;5;66;03m#key cannot be list\u001b[39;00m\n\u001b[0;32m      2\u001b[0m dict3\n",
      "\u001b[1;31mTypeError\u001b[0m: unhashable type: 'list'"
     ]
    }
   ],
   "source": [
    "dict3 = {[1,2019]:'Jan',[2,2019]:'Feb'} #key cannot be list\n",
    "dict3"
   ]
  },
  {
   "cell_type": "code",
   "execution_count": 127,
   "id": "f4e6dd71",
   "metadata": {},
   "outputs": [
    {
     "data": {
      "text/plain": [
       "{'Jan': [1, 2019], 'Feb': [2, 2019]}"
      ]
     },
     "execution_count": 127,
     "metadata": {},
     "output_type": "execute_result"
    }
   ],
   "source": [
    "dict4 = {'Jan':[1,2019],'Feb':[2,2019]} # keys are string\n",
    "dict4"
   ]
  },
  {
   "cell_type": "code",
   "execution_count": 128,
   "id": "d7ddf0f1",
   "metadata": {},
   "outputs": [
    {
     "data": {
      "text/plain": [
       "{'Jan': 31, 'Feb': 28, 'March': 31, 'Apr': 30}"
      ]
     },
     "execution_count": 128,
     "metadata": {},
     "output_type": "execute_result"
    }
   ],
   "source": [
    "my_dict"
   ]
  },
  {
   "cell_type": "code",
   "execution_count": 129,
   "id": "e4219fe8",
   "metadata": {},
   "outputs": [
    {
     "data": {
      "text/plain": [
       "dict"
      ]
     },
     "execution_count": 129,
     "metadata": {},
     "output_type": "execute_result"
    }
   ],
   "source": [
    "type(my_dict)"
   ]
  },
  {
   "cell_type": "markdown",
   "id": "1d812cad",
   "metadata": {},
   "source": [
    "#### dict() function can also be used to create dictionary. List of tuples which actually contains the key value pairs needs to be provided as the input."
   ]
  },
  {
   "cell_type": "code",
   "execution_count": 130,
   "id": "22ef1b29",
   "metadata": {},
   "outputs": [],
   "source": [
    "d=dict([('A',1),('B',2),('C',3)])"
   ]
  },
  {
   "cell_type": "code",
   "execution_count": 131,
   "id": "c37d9add",
   "metadata": {},
   "outputs": [
    {
     "data": {
      "text/plain": [
       "{'A': 1, 'B': 2, 'C': 3}"
      ]
     },
     "execution_count": 131,
     "metadata": {},
     "output_type": "execute_result"
    }
   ],
   "source": [
    "d"
   ]
  },
  {
   "cell_type": "markdown",
   "id": "3ac435b8",
   "metadata": {},
   "source": [
    "#### Accessing keys and values\n",
    "\n",
    "All keys can be accessed via keys() method."
   ]
  },
  {
   "cell_type": "code",
   "execution_count": 132,
   "id": "6b3aba65",
   "metadata": {},
   "outputs": [
    {
     "data": {
      "text/plain": [
       "{'Jan': 31, 'Feb': 28, 'March': 31, 'Apr': 30}"
      ]
     },
     "execution_count": 132,
     "metadata": {},
     "output_type": "execute_result"
    }
   ],
   "source": [
    "my_dict"
   ]
  },
  {
   "cell_type": "code",
   "execution_count": 133,
   "id": "bd34b182",
   "metadata": {},
   "outputs": [
    {
     "data": {
      "text/plain": [
       "dict_keys(['Jan', 'Feb', 'March', 'Apr'])"
      ]
     },
     "execution_count": 133,
     "metadata": {},
     "output_type": "execute_result"
    }
   ],
   "source": [
    "my_dict.keys()# get all the keys "
   ]
  },
  {
   "cell_type": "code",
   "execution_count": 134,
   "id": "adac32bd",
   "metadata": {},
   "outputs": [
    {
     "data": {
      "text/plain": [
       "dict_values([31, 28, 31, 30])"
      ]
     },
     "execution_count": 134,
     "metadata": {},
     "output_type": "execute_result"
    }
   ],
   "source": [
    "my_dict.values() # get all the values"
   ]
  },
  {
   "cell_type": "markdown",
   "id": "ce3911dc",
   "metadata": {},
   "source": [
    "* All values can be accessed via values() method."
   ]
  },
  {
   "cell_type": "code",
   "execution_count": 135,
   "id": "69859d95",
   "metadata": {},
   "outputs": [
    {
     "data": {
      "text/plain": [
       "dict_items([('Jan', 31), ('Feb', 28), ('March', 31), ('Apr', 30)])"
      ]
     },
     "execution_count": 135,
     "metadata": {},
     "output_type": "execute_result"
    }
   ],
   "source": [
    "my_dict.items()"
   ]
  },
  {
   "cell_type": "markdown",
   "id": "0ab8b884",
   "metadata": {},
   "source": [
    "* Individual value can be found out by using the key associated with it. "
   ]
  },
  {
   "cell_type": "code",
   "execution_count": 136,
   "id": "3dc8d101",
   "metadata": {},
   "outputs": [
    {
     "data": {
      "text/plain": [
       "31"
      ]
     },
     "execution_count": 136,
     "metadata": {},
     "output_type": "execute_result"
    }
   ],
   "source": [
    "my_dict['Jan']  # access number of days associated with 'Jan'"
   ]
  },
  {
   "cell_type": "code",
   "execution_count": 137,
   "id": "337b882b",
   "metadata": {},
   "outputs": [
    {
     "data": {
      "text/plain": [
       "30"
      ]
     },
     "execution_count": 137,
     "metadata": {},
     "output_type": "execute_result"
    }
   ],
   "source": [
    "my_dict['Apr']  # access number of days associated with 'Apr'"
   ]
  },
  {
   "cell_type": "code",
   "execution_count": 138,
   "id": "aabf5ec1",
   "metadata": {},
   "outputs": [
    {
     "ename": "KeyError",
     "evalue": "'xyz'",
     "output_type": "error",
     "traceback": [
      "\u001b[1;31m---------------------------------------------------------------------------\u001b[0m",
      "\u001b[1;31mKeyError\u001b[0m                                  Traceback (most recent call last)",
      "Input \u001b[1;32mIn [138]\u001b[0m, in \u001b[0;36m<cell line: 1>\u001b[1;34m()\u001b[0m\n\u001b[1;32m----> 1\u001b[0m \u001b[43mmy_dict\u001b[49m\u001b[43m[\u001b[49m\u001b[38;5;124;43m'\u001b[39;49m\u001b[38;5;124;43mxyz\u001b[39;49m\u001b[38;5;124;43m'\u001b[39;49m\u001b[43m]\u001b[49m\n",
      "\u001b[1;31mKeyError\u001b[0m: 'xyz'"
     ]
    }
   ],
   "source": [
    "my_dict['xyz'] #xyz not present"
   ]
  },
  {
   "cell_type": "markdown",
   "id": "ba1bfbac",
   "metadata": {},
   "source": [
    "#### .get function"
   ]
  },
  {
   "cell_type": "code",
   "execution_count": 139,
   "id": "b60c1cad",
   "metadata": {},
   "outputs": [],
   "source": [
    "my_dict.get('xyz')"
   ]
  },
  {
   "cell_type": "code",
   "execution_count": 140,
   "id": "5e5e2429",
   "metadata": {},
   "outputs": [
    {
     "data": {
      "text/plain": [
       "30"
      ]
     },
     "execution_count": 140,
     "metadata": {},
     "output_type": "execute_result"
    }
   ],
   "source": [
    "my_dict.get('Apr') "
   ]
  },
  {
   "cell_type": "markdown",
   "id": "6b7f7e42",
   "metadata": {},
   "source": [
    "* 'in' and 'not in' can be used to determine key is present in dictionary or not"
   ]
  },
  {
   "cell_type": "code",
   "execution_count": 141,
   "id": "f6645a92",
   "metadata": {},
   "outputs": [
    {
     "data": {
      "text/plain": [
       "True"
      ]
     },
     "execution_count": 141,
     "metadata": {},
     "output_type": "execute_result"
    }
   ],
   "source": [
    "'Apr' in my_dict"
   ]
  },
  {
   "cell_type": "code",
   "execution_count": 142,
   "id": "d8edd160",
   "metadata": {},
   "outputs": [
    {
     "data": {
      "text/plain": [
       "False"
      ]
     },
     "execution_count": 142,
     "metadata": {},
     "output_type": "execute_result"
    }
   ],
   "source": [
    "2 in my_dict"
   ]
  },
  {
   "cell_type": "code",
   "execution_count": 143,
   "id": "9425b59c",
   "metadata": {},
   "outputs": [
    {
     "data": {
      "text/plain": [
       "False"
      ]
     },
     "execution_count": 143,
     "metadata": {},
     "output_type": "execute_result"
    }
   ],
   "source": [
    "2 not in [2,3,4,5,6,6,66]"
   ]
  },
  {
   "cell_type": "markdown",
   "id": "df4ff2ff",
   "metadata": {},
   "source": [
    "### Looping\n",
    "\n",
    "One can iterate over the entries in Dictionaries."
   ]
  },
  {
   "cell_type": "code",
   "execution_count": 144,
   "id": "caf6605b",
   "metadata": {},
   "outputs": [
    {
     "data": {
      "text/plain": [
       "{'I': 1, 'V': 5, 'X': 10, 'L': 50, 'C': 100, 'D': 500, 'M': 1000}"
      ]
     },
     "execution_count": 144,
     "metadata": {},
     "output_type": "execute_result"
    }
   ],
   "source": [
    "#Dictionary with Roman numerals\n",
    "letter_dict = { 'I':1, 'V':5, 'X':10, 'L':50, 'C':100, 'D':500, \"M\":1000}\n",
    "letter_dict"
   ]
  },
  {
   "cell_type": "code",
   "execution_count": 145,
   "id": "1943d2f0",
   "metadata": {},
   "outputs": [
    {
     "data": {
      "text/plain": [
       "dict_keys(['I', 'V', 'X', 'L', 'C', 'D', 'M'])"
      ]
     },
     "execution_count": 145,
     "metadata": {},
     "output_type": "execute_result"
    }
   ],
   "source": [
    "letter_dict.keys()"
   ]
  },
  {
   "cell_type": "code",
   "execution_count": 146,
   "id": "88212d8c",
   "metadata": {},
   "outputs": [
    {
     "data": {
      "text/plain": [
       "dict_values([1, 5, 10, 50, 100, 500, 1000])"
      ]
     },
     "execution_count": 146,
     "metadata": {},
     "output_type": "execute_result"
    }
   ],
   "source": [
    "letter_dict.values()"
   ]
  },
  {
   "cell_type": "code",
   "execution_count": 147,
   "id": "47cff13c",
   "metadata": {},
   "outputs": [
    {
     "name": "stdout",
     "output_type": "stream",
     "text": [
      "  I\n",
      "  V\n",
      "  X\n",
      "  L\n",
      "  C\n",
      "  D\n",
      "  M\n"
     ]
    }
   ],
   "source": [
    "for key in letter_dict.keys():\n",
    "    print(\" \",key)"
   ]
  },
  {
   "cell_type": "code",
   "execution_count": 148,
   "id": "c99c953a",
   "metadata": {},
   "outputs": [
    {
     "name": "stdout",
     "output_type": "stream",
     "text": [
      "  1\n",
      "  5\n",
      "  10\n",
      "  50\n",
      "  100\n",
      "  500\n",
      "  1000\n"
     ]
    }
   ],
   "source": [
    "for value in letter_dict.values():\n",
    "    print(\" \",value)"
   ]
  },
  {
   "cell_type": "code",
   "execution_count": 149,
   "id": "2f448cca",
   "metadata": {},
   "outputs": [
    {
     "name": "stdout",
     "output_type": "stream",
     "text": [
      "I   1\n",
      "V   5\n",
      "X   10\n",
      "L   50\n",
      "C   100\n",
      "D   500\n",
      "M   1000\n"
     ]
    }
   ],
   "source": [
    "for key in letter_dict.keys(): #iterate over values\n",
    "    print(key,' ',letter_dict[key])"
   ]
  },
  {
   "cell_type": "markdown",
   "id": "afda3ca8",
   "metadata": {},
   "source": [
    "### Operations on dictionary\n",
    "\n",
    "Entry (i.e. key value pair) can be added to dictionary in following manner :"
   ]
  },
  {
   "cell_type": "code",
   "execution_count": 150,
   "id": "9974ae97",
   "metadata": {},
   "outputs": [
    {
     "data": {
      "text/plain": [
       "{'Jan': 31, 'Feb': 28, 'March': 31, 'Apr': 30}"
      ]
     },
     "execution_count": 150,
     "metadata": {},
     "output_type": "execute_result"
    }
   ],
   "source": [
    "my_dict"
   ]
  },
  {
   "cell_type": "code",
   "execution_count": 151,
   "id": "a3c91883",
   "metadata": {},
   "outputs": [],
   "source": [
    "my_dict['May'] = 31"
   ]
  },
  {
   "cell_type": "code",
   "execution_count": 152,
   "id": "4dccad81",
   "metadata": {},
   "outputs": [
    {
     "data": {
      "text/plain": [
       "{'Jan': 31, 'Feb': 28, 'March': 31, 'Apr': 30, 'May': 31}"
      ]
     },
     "execution_count": 152,
     "metadata": {},
     "output_type": "execute_result"
    }
   ],
   "source": [
    "my_dict"
   ]
  },
  {
   "cell_type": "markdown",
   "id": "9498f390",
   "metadata": {},
   "source": [
    "#### Key values can be modified using the assignment operator."
   ]
  },
  {
   "cell_type": "code",
   "execution_count": 153,
   "id": "fbe6adf5",
   "metadata": {},
   "outputs": [
    {
     "data": {
      "text/plain": [
       "31"
      ]
     },
     "execution_count": 153,
     "metadata": {},
     "output_type": "execute_result"
    }
   ],
   "source": [
    "my_dict['May']"
   ]
  },
  {
   "cell_type": "code",
   "execution_count": 154,
   "id": "86256a52",
   "metadata": {},
   "outputs": [],
   "source": [
    "my_dict['May']=26 # current num change to 26"
   ]
  },
  {
   "cell_type": "code",
   "execution_count": 155,
   "id": "a4369e50",
   "metadata": {},
   "outputs": [
    {
     "data": {
      "text/plain": [
       "26"
      ]
     },
     "execution_count": 155,
     "metadata": {},
     "output_type": "execute_result"
    }
   ],
   "source": [
    "my_dict['May']"
   ]
  },
  {
   "cell_type": "code",
   "execution_count": 156,
   "id": "9e967f60",
   "metadata": {},
   "outputs": [
    {
     "data": {
      "text/plain": [
       "{'Jan': 31, 'Feb': 28, 'March': 31, 'Apr': 30, 'May': 26}"
      ]
     },
     "execution_count": 156,
     "metadata": {},
     "output_type": "execute_result"
    }
   ],
   "source": [
    "my_dict"
   ]
  },
  {
   "cell_type": "markdown",
   "id": "18c2ffd4",
   "metadata": {},
   "source": [
    "#### Dictionary with complex object as values\n",
    "\n",
    "The value can be a complex object like list itself."
   ]
  },
  {
   "cell_type": "code",
   "execution_count": 157,
   "id": "432116fb",
   "metadata": {},
   "outputs": [],
   "source": [
    "# create emplyee dataset w\n",
    "emp_dict = {1:['1','Emp A',34],2:['2','Emp B',35],3:['3','Emp C',26]}"
   ]
  },
  {
   "cell_type": "code",
   "execution_count": 158,
   "id": "ddc826c4",
   "metadata": {},
   "outputs": [
    {
     "data": {
      "text/plain": [
       "{1: ['1', 'Emp A', 34], 2: ['2', 'Emp B', 35], 3: ['3', 'Emp C', 26]}"
      ]
     },
     "execution_count": 158,
     "metadata": {},
     "output_type": "execute_result"
    }
   ],
   "source": [
    "emp_dict"
   ]
  },
  {
   "cell_type": "code",
   "execution_count": 159,
   "id": "de39636d",
   "metadata": {},
   "outputs": [
    {
     "name": "stdout",
     "output_type": "stream",
     "text": [
      "{1: ['1', 'Emp A', 34], 2: ['2', 'Emp B', 35], 3: ['3', 'Emp C', 26]}\n"
     ]
    }
   ],
   "source": [
    "print(emp_dict)"
   ]
  },
  {
   "cell_type": "markdown",
   "id": "4219517a",
   "metadata": {},
   "source": [
    "Add new employee in the database"
   ]
  },
  {
   "cell_type": "code",
   "execution_count": 160,
   "id": "011d970c",
   "metadata": {},
   "outputs": [],
   "source": [
    "new_emp=['4','Emp D',45]"
   ]
  },
  {
   "cell_type": "code",
   "execution_count": 161,
   "id": "b4893e75",
   "metadata": {},
   "outputs": [],
   "source": [
    "emp_dict[4]=new_emp"
   ]
  },
  {
   "cell_type": "code",
   "execution_count": 162,
   "id": "0420f8e0",
   "metadata": {},
   "outputs": [
    {
     "data": {
      "text/plain": [
       "{1: ['1', 'Emp A', 34],\n",
       " 2: ['2', 'Emp B', 35],\n",
       " 3: ['3', 'Emp C', 26],\n",
       " 4: ['4', 'Emp D', 45]}"
      ]
     },
     "execution_count": 162,
     "metadata": {},
     "output_type": "execute_result"
    }
   ],
   "source": [
    "emp_dict"
   ]
  },
  {
   "cell_type": "code",
   "execution_count": 163,
   "id": "64b24bff",
   "metadata": {},
   "outputs": [
    {
     "data": {
      "text/plain": [
       "26"
      ]
     },
     "execution_count": 163,
     "metadata": {},
     "output_type": "execute_result"
    }
   ],
   "source": [
    "# get 26\n",
    "emp_dict[3][-1] # [key][Index value]"
   ]
  },
  {
   "cell_type": "code",
   "execution_count": 164,
   "id": "9144c3de",
   "metadata": {},
   "outputs": [
    {
     "data": {
      "text/plain": [
       "26"
      ]
     },
     "execution_count": 164,
     "metadata": {},
     "output_type": "execute_result"
    }
   ],
   "source": [
    "emp_dict[3][2]"
   ]
  },
  {
   "cell_type": "code",
   "execution_count": 165,
   "id": "7faa3b41",
   "metadata": {},
   "outputs": [
    {
     "data": {
      "text/plain": [
       "'3'"
      ]
     },
     "execution_count": 165,
     "metadata": {},
     "output_type": "execute_result"
    }
   ],
   "source": [
    "emp_dict[3][0]"
   ]
  },
  {
   "cell_type": "code",
   "execution_count": 166,
   "id": "db05bec4",
   "metadata": {},
   "outputs": [
    {
     "data": {
      "text/plain": [
       "35"
      ]
     },
     "execution_count": 166,
     "metadata": {},
     "output_type": "execute_result"
    }
   ],
   "source": [
    "emp_dict[2][2]"
   ]
  },
  {
   "cell_type": "code",
   "execution_count": 167,
   "id": "cd3c9e16",
   "metadata": {},
   "outputs": [
    {
     "data": {
      "text/plain": [
       "'Emp B'"
      ]
     },
     "execution_count": 167,
     "metadata": {},
     "output_type": "execute_result"
    }
   ],
   "source": [
    "emp_dict[2][1] "
   ]
  },
  {
   "cell_type": "markdown",
   "id": "742e85a8",
   "metadata": {},
   "source": [
    "* keys are immutable\n",
    "* values can be changeable"
   ]
  },
  {
   "cell_type": "code",
   "execution_count": 168,
   "id": "6299ff42",
   "metadata": {},
   "outputs": [
    {
     "data": {
      "text/plain": [
       "{1: ['1', 'Emp A', 34],\n",
       " 2: ['2', 'Emp B', 35],\n",
       " 3: ['3', 'Emp C', 26],\n",
       " 4: ['4', 'Emp D', 45]}"
      ]
     },
     "execution_count": 168,
     "metadata": {},
     "output_type": "execute_result"
    }
   ],
   "source": [
    "# Existing empl details can be modified\n",
    "\n",
    "emp_dict "
   ]
  },
  {
   "cell_type": "code",
   "execution_count": 169,
   "id": "91f1913b",
   "metadata": {},
   "outputs": [],
   "source": [
    "emp_dict[2] = ['2','Emp B Modified',67] # alter the second employee"
   ]
  },
  {
   "cell_type": "code",
   "execution_count": 170,
   "id": "1fe35909",
   "metadata": {},
   "outputs": [
    {
     "data": {
      "text/plain": [
       "{1: ['1', 'Emp A', 34],\n",
       " 2: ['2', 'Emp B Modified', 67],\n",
       " 3: ['3', 'Emp C', 26],\n",
       " 4: ['4', 'Emp D', 45]}"
      ]
     },
     "execution_count": 170,
     "metadata": {},
     "output_type": "execute_result"
    }
   ],
   "source": [
    "emp_dict "
   ]
  },
  {
   "cell_type": "markdown",
   "id": "6fbb2dea",
   "metadata": {},
   "source": [
    "### Exercise:\n",
    "\n",
    "Q1. Write a program that asks user to enter the 5 product names and prices. Store all of these in a dictionary with keys are product names and prices are values. Then allow the user to input the product name and print the corresponding price of the product."
   ]
  },
  {
   "cell_type": "code",
   "execution_count": 171,
   "id": "d898e597",
   "metadata": {},
   "outputs": [
    {
     "name": "stdout",
     "output_type": "stream",
     "text": [
      "Enter the product name\n",
      ":samsung\n",
      "Enter the price of product\n",
      ":19000\n",
      "Enter the product name\n",
      ":vivo\n",
      "Enter the price of product\n",
      ":23000\n",
      "Enter the product name\n",
      ":oneplus\n",
      "Enter the price of product\n",
      ":35000\n",
      "Enter the product name\n",
      ":lgphone\n",
      "Enter the price of product\n",
      ":40000\n",
      "Enter the product name\n",
      ":redmi\n",
      "Enter the price of product\n",
      ":24000\n",
      "\n",
      "\n",
      "Enter the product name\n",
      ":samsung\n",
      "The corresponding price is 19000\n"
     ]
    }
   ],
   "source": [
    "# No of time ask the user to input\n",
    "count=5\n",
    "\n",
    "# empty dict\n",
    "products = {}\n",
    "\n",
    "for i in range(count):\n",
    "    product_name=input('Enter the product name\\n:')\n",
    "    price=int(input('Enter the price of product\\n:'))\n",
    "    products[product_name]=price\n",
    "             \n",
    "print('\\n')\n",
    "product_name = input(\"Enter the product name\\n:\")\n",
    "print(\"The corresponding price is\",products[product_name])"
   ]
  },
  {
   "cell_type": "markdown",
   "id": "a534c04b",
   "metadata": {},
   "source": [
    "Q2. Create a dictionary where keys are name of months and days are values.\n",
    "(a) Ask the user to input a month name and use the dictionary to tell how many days are in that month.\n",
    "(b) Print out all the keys in alphabetical order."
   ]
  },
  {
   "cell_type": "code",
   "execution_count": 172,
   "id": "9cd361f0",
   "metadata": {},
   "outputs": [
    {
     "name": "stdout",
     "output_type": "stream",
     "text": [
      "Enter the month\n",
      "March\n",
      "March  has  31  days.\n",
      "\n",
      "The keys in alphabetical order : \n",
      "\n",
      "April\n",
      "August\n",
      "December\n",
      "February\n",
      "January\n",
      "July\n",
      "June\n",
      "March\n",
      "May\n",
      "November\n",
      "October\n",
      "September\n"
     ]
    }
   ],
   "source": [
    "#Q2 Solution\n",
    "months = {'January':31, 'February':28, 'March':31, 'April':30, \"May\":31, 'June':30, 'July':31, \"August\":31, 'September':30,\n",
    "          'October':31, 'November':30, 'December':31}\n",
    "\n",
    "#(a) Ask the user to input a month name and use the dictionary to tell how many days are in that month.\n",
    "\n",
    "month_name = input(\"Enter the month\\n\")\n",
    "print(month_name, \" has \", months[month_name], \" days.\")\n",
    "\n",
    "#(b) Print out all the keys in alphabetical order.\n",
    "\n",
    "print(\"\\nThe keys in alphabetical order : \\n\")\n",
    "for key in sorted(months.keys()):\n",
    "    print(key)"
   ]
  },
  {
   "cell_type": "markdown",
   "id": "5ac0899f",
   "metadata": {},
   "source": [
    "Q3. Ask user 5 times to enter a team name and how many times the team won and how many they lost. Store the information in a dictionary where the keys are team names and values are lists of form [wins, lossess].\n",
    "(a) Using this dictionary, allow the user to enter a team name and print out the teams winning percentage.\n",
    "(b) Using this dictionary, create a list whose entries are the number of wins of each team."
   ]
  },
  {
   "cell_type": "code",
   "execution_count": 174,
   "id": "e43712ba",
   "metadata": {},
   "outputs": [
    {
     "name": "stdout",
     "output_type": "stream",
     "text": [
      "Enter the team name\n",
      "Indian\n",
      "Enter the wins\n",
      "6\n",
      "Enter the losses\n",
      "5\n",
      "Enter the team name\n",
      "uk\n",
      "Enter the wins\n",
      "5\n",
      "Enter the losses\n",
      "4\n",
      "\n",
      "\n",
      "Enter the team name\n",
      "usa\n"
     ]
    },
    {
     "ename": "KeyError",
     "evalue": "'usa'",
     "output_type": "error",
     "traceback": [
      "\u001b[1;31m---------------------------------------------------------------------------\u001b[0m",
      "\u001b[1;31mKeyError\u001b[0m                                  Traceback (most recent call last)",
      "Input \u001b[1;32mIn [174]\u001b[0m, in \u001b[0;36m<cell line: 17>\u001b[1;34m()\u001b[0m\n\u001b[0;32m     15\u001b[0m \u001b[38;5;28mprint\u001b[39m(\u001b[38;5;124m\"\u001b[39m\u001b[38;5;130;01m\\n\u001b[39;00m\u001b[38;5;124m\"\u001b[39m)    \n\u001b[0;32m     16\u001b[0m team_name \u001b[38;5;241m=\u001b[39m \u001b[38;5;28minput\u001b[39m(\u001b[38;5;124m\"\u001b[39m\u001b[38;5;124mEnter the team name\u001b[39m\u001b[38;5;130;01m\\n\u001b[39;00m\u001b[38;5;124m\"\u001b[39m)\n\u001b[1;32m---> 17\u001b[0m \u001b[38;5;28mprint\u001b[39m(\u001b[38;5;124m\"\u001b[39m\u001b[38;5;124mThe winning percentage is \u001b[39m\u001b[38;5;124m\"\u001b[39m, \u001b[43mteams\u001b[49m\u001b[43m[\u001b[49m\u001b[43mteam_name\u001b[49m\u001b[43m]\u001b[49m[\u001b[38;5;241m0\u001b[39m] \u001b[38;5;241m/\u001b[39m (teams[team_name][\u001b[38;5;241m0\u001b[39m] \u001b[38;5;241m+\u001b[39m teams[team_name][\u001b[38;5;241m1\u001b[39m]))\n\u001b[0;32m     19\u001b[0m \u001b[38;5;28mprint\u001b[39m(\u001b[38;5;124m\"\u001b[39m\u001b[38;5;130;01m\\n\u001b[39;00m\u001b[38;5;124m\"\u001b[39m)    \n\u001b[0;32m     20\u001b[0m winning_list \u001b[38;5;241m=\u001b[39m []\n",
      "\u001b[1;31mKeyError\u001b[0m: 'usa'"
     ]
    }
   ],
   "source": [
    "#Number of times asks the user to input the information\n",
    "count = 2\n",
    "\n",
    "#empty dictionary \n",
    "teams = {}\n",
    "\n",
    "#Ask the user for team names and corresponding wins & losses, then add it to the dictionary\n",
    "for i in range(count):\n",
    "    team_name = input(\"Enter the team name\\n\")\n",
    "    wins = int(input(\"Enter the wins\\n\"))\n",
    "    losses = int(input(\"Enter the losses\\n\"))\n",
    "    teams[team_name] = [wins, losses]\n",
    "\n",
    "    \n",
    "print(\"\\n\")    \n",
    "team_name = input(\"Enter the team name\\n\")\n",
    "print(\"The winning percentage is \", teams[team_name][0] / (teams[team_name][0] + teams[team_name][1]))\n",
    "\n",
    "print(\"\\n\")    \n",
    "winning_list = []\n",
    "for value in teams.values():\n",
    "    winning_list.append(value[0])\n",
    "    \n",
    "print('The winning list is ', winning_list)   "
   ]
  },
  {
   "cell_type": "code",
   "execution_count": null,
   "id": "e51a6ea2",
   "metadata": {},
   "outputs": [],
   "source": []
  }
 ],
 "metadata": {
  "kernelspec": {
   "display_name": "Python 3 (ipykernel)",
   "language": "python",
   "name": "python3"
  },
  "language_info": {
   "codemirror_mode": {
    "name": "ipython",
    "version": 3
   },
   "file_extension": ".py",
   "mimetype": "text/x-python",
   "name": "python",
   "nbconvert_exporter": "python",
   "pygments_lexer": "ipython3",
   "version": "3.9.12"
  }
 },
 "nbformat": 4,
 "nbformat_minor": 5
}
