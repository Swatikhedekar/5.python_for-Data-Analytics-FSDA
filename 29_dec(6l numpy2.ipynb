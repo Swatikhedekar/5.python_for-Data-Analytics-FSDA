{
 "cells": [
  {
   "cell_type": "code",
   "execution_count": 1,
   "id": "d790299a",
   "metadata": {},
   "outputs": [],
   "source": [
    "import numpy as np"
   ]
  },
  {
   "cell_type": "code",
   "execution_count": 2,
   "id": "22c725a5",
   "metadata": {},
   "outputs": [],
   "source": [
    "arr1= np.array([11,21,31,41,49])"
   ]
  },
  {
   "cell_type": "code",
   "execution_count": 3,
   "id": "73d7ebcb",
   "metadata": {},
   "outputs": [
    {
     "data": {
      "text/plain": [
       "array([11, 21, 31, 41, 49])"
      ]
     },
     "execution_count": 3,
     "metadata": {},
     "output_type": "execute_result"
    }
   ],
   "source": [
    "arr1"
   ]
  },
  {
   "cell_type": "code",
   "execution_count": 4,
   "id": "54e41b4a",
   "metadata": {},
   "outputs": [],
   "source": [
    "arr2=np.array([[1,9,11],[21,31,41],[33,67,49]])"
   ]
  },
  {
   "cell_type": "code",
   "execution_count": 5,
   "id": "7676233f",
   "metadata": {},
   "outputs": [
    {
     "data": {
      "text/plain": [
       "array([[ 1,  9, 11],\n",
       "       [21, 31, 41],\n",
       "       [33, 67, 49]])"
      ]
     },
     "execution_count": 5,
     "metadata": {},
     "output_type": "execute_result"
    }
   ],
   "source": [
    "arr2"
   ]
  },
  {
   "cell_type": "code",
   "execution_count": 6,
   "id": "24b190ef",
   "metadata": {},
   "outputs": [],
   "source": [
    "arr3 = np.array([[15,2,33,4,4,-8],[23,12,33,20,9,43]])"
   ]
  },
  {
   "cell_type": "code",
   "execution_count": 7,
   "id": "1926b3e5",
   "metadata": {},
   "outputs": [
    {
     "data": {
      "text/plain": [
       "array([[15,  2, 33,  4,  4, -8],\n",
       "       [23, 12, 33, 20,  9, 43]])"
      ]
     },
     "execution_count": 7,
     "metadata": {},
     "output_type": "execute_result"
    }
   ],
   "source": [
    "arr3"
   ]
  },
  {
   "cell_type": "code",
   "execution_count": 8,
   "id": "3aef15a1",
   "metadata": {},
   "outputs": [
    {
     "data": {
      "text/plain": [
       "153"
      ]
     },
     "execution_count": 8,
     "metadata": {},
     "output_type": "execute_result"
    }
   ],
   "source": [
    "arr1.sum()"
   ]
  },
  {
   "cell_type": "code",
   "execution_count": 9,
   "id": "745a7f54",
   "metadata": {},
   "outputs": [
    {
     "data": {
      "text/plain": [
       "263"
      ]
     },
     "execution_count": 9,
     "metadata": {},
     "output_type": "execute_result"
    }
   ],
   "source": [
    "arr2.sum()"
   ]
  },
  {
   "cell_type": "code",
   "execution_count": 10,
   "id": "e1604227",
   "metadata": {},
   "outputs": [
    {
     "data": {
      "text/plain": [
       "190"
      ]
     },
     "execution_count": 10,
     "metadata": {},
     "output_type": "execute_result"
    }
   ],
   "source": [
    "arr3.sum()"
   ]
  },
  {
   "cell_type": "code",
   "execution_count": 11,
   "id": "d722485d",
   "metadata": {},
   "outputs": [
    {
     "data": {
      "text/plain": [
       "array([ 55, 107, 101])"
      ]
     },
     "execution_count": 11,
     "metadata": {},
     "output_type": "execute_result"
    }
   ],
   "source": [
    "arr2.sum(axis=0) # row wise addition"
   ]
  },
  {
   "cell_type": "code",
   "execution_count": 12,
   "id": "c3f720ac",
   "metadata": {},
   "outputs": [
    {
     "data": {
      "text/plain": [
       "array([ 21,  93, 149])"
      ]
     },
     "execution_count": 12,
     "metadata": {},
     "output_type": "execute_result"
    }
   ],
   "source": [
    "arr2.sum(axis=1)# column wise addition"
   ]
  },
  {
   "cell_type": "code",
   "execution_count": 13,
   "id": "9e48fd1b",
   "metadata": {},
   "outputs": [
    {
     "data": {
      "text/plain": [
       "array([ 50, 140])"
      ]
     },
     "execution_count": 13,
     "metadata": {},
     "output_type": "execute_result"
    }
   ],
   "source": [
    "arr3.sum(axis=1)"
   ]
  },
  {
   "cell_type": "code",
   "execution_count": 14,
   "id": "68be5fb0",
   "metadata": {},
   "outputs": [
    {
     "data": {
      "text/plain": [
       "array([38, 14, 66, 24, 13, 35])"
      ]
     },
     "execution_count": 14,
     "metadata": {},
     "output_type": "execute_result"
    }
   ],
   "source": [
    "arr3.sum(axis=0)"
   ]
  },
  {
   "cell_type": "code",
   "execution_count": 15,
   "id": "f2643d26",
   "metadata": {},
   "outputs": [
    {
     "data": {
      "text/plain": [
       "30.6"
      ]
     },
     "execution_count": 15,
     "metadata": {},
     "output_type": "execute_result"
    }
   ],
   "source": [
    "np.average(arr1)"
   ]
  },
  {
   "cell_type": "code",
   "execution_count": 16,
   "id": "63ad898c",
   "metadata": {},
   "outputs": [
    {
     "data": {
      "text/plain": [
       "29.22222222222222"
      ]
     },
     "execution_count": 16,
     "metadata": {},
     "output_type": "execute_result"
    }
   ],
   "source": [
    "np.average(arr2)"
   ]
  },
  {
   "cell_type": "code",
   "execution_count": 17,
   "id": "94b979e1",
   "metadata": {},
   "outputs": [
    {
     "data": {
      "text/plain": [
       "15.833333333333334"
      ]
     },
     "execution_count": 17,
     "metadata": {},
     "output_type": "execute_result"
    }
   ],
   "source": [
    "np.average(arr3)"
   ]
  },
  {
   "cell_type": "code",
   "execution_count": 18,
   "id": "e3340dc9",
   "metadata": {},
   "outputs": [
    {
     "data": {
      "text/plain": [
       "30.6"
      ]
     },
     "execution_count": 18,
     "metadata": {},
     "output_type": "execute_result"
    }
   ],
   "source": [
    "np.average(arr1,axis=0)"
   ]
  },
  {
   "cell_type": "code",
   "execution_count": 19,
   "id": "e1439ef1",
   "metadata": {},
   "outputs": [
    {
     "ename": "AxisError",
     "evalue": "axis 1 is out of bounds for array of dimension 1",
     "output_type": "error",
     "traceback": [
      "\u001b[1;31m---------------------------------------------------------------------------\u001b[0m",
      "\u001b[1;31mAxisError\u001b[0m                                 Traceback (most recent call last)",
      "Input \u001b[1;32mIn [19]\u001b[0m, in \u001b[0;36m<cell line: 1>\u001b[1;34m()\u001b[0m\n\u001b[1;32m----> 1\u001b[0m \u001b[43mnp\u001b[49m\u001b[38;5;241;43m.\u001b[39;49m\u001b[43maverage\u001b[49m\u001b[43m(\u001b[49m\u001b[43marr1\u001b[49m\u001b[43m,\u001b[49m\u001b[43maxis\u001b[49m\u001b[38;5;241;43m=\u001b[39;49m\u001b[38;5;241;43m1\u001b[39;49m\u001b[43m)\u001b[49m\n",
      "File \u001b[1;32m<__array_function__ internals>:5\u001b[0m, in \u001b[0;36maverage\u001b[1;34m(*args, **kwargs)\u001b[0m\n",
      "File \u001b[1;32mF:\\my apps\\anaconda\\conda\\lib\\site-packages\\numpy\\lib\\function_base.py:380\u001b[0m, in \u001b[0;36maverage\u001b[1;34m(a, axis, weights, returned)\u001b[0m\n\u001b[0;32m    377\u001b[0m a \u001b[38;5;241m=\u001b[39m np\u001b[38;5;241m.\u001b[39masanyarray(a)\n\u001b[0;32m    379\u001b[0m \u001b[38;5;28;01mif\u001b[39;00m weights \u001b[38;5;129;01mis\u001b[39;00m \u001b[38;5;28;01mNone\u001b[39;00m:\n\u001b[1;32m--> 380\u001b[0m     avg \u001b[38;5;241m=\u001b[39m \u001b[43ma\u001b[49m\u001b[38;5;241;43m.\u001b[39;49m\u001b[43mmean\u001b[49m\u001b[43m(\u001b[49m\u001b[43maxis\u001b[49m\u001b[43m)\u001b[49m\n\u001b[0;32m    381\u001b[0m     scl \u001b[38;5;241m=\u001b[39m avg\u001b[38;5;241m.\u001b[39mdtype\u001b[38;5;241m.\u001b[39mtype(a\u001b[38;5;241m.\u001b[39msize\u001b[38;5;241m/\u001b[39mavg\u001b[38;5;241m.\u001b[39msize)\n\u001b[0;32m    382\u001b[0m \u001b[38;5;28;01melse\u001b[39;00m:\n",
      "File \u001b[1;32mF:\\my apps\\anaconda\\conda\\lib\\site-packages\\numpy\\core\\_methods.py:167\u001b[0m, in \u001b[0;36m_mean\u001b[1;34m(a, axis, dtype, out, keepdims, where)\u001b[0m\n\u001b[0;32m    163\u001b[0m arr \u001b[38;5;241m=\u001b[39m asanyarray(a)\n\u001b[0;32m    165\u001b[0m is_float16_result \u001b[38;5;241m=\u001b[39m \u001b[38;5;28;01mFalse\u001b[39;00m\n\u001b[1;32m--> 167\u001b[0m rcount \u001b[38;5;241m=\u001b[39m \u001b[43m_count_reduce_items\u001b[49m\u001b[43m(\u001b[49m\u001b[43marr\u001b[49m\u001b[43m,\u001b[49m\u001b[43m \u001b[49m\u001b[43maxis\u001b[49m\u001b[43m,\u001b[49m\u001b[43m \u001b[49m\u001b[43mkeepdims\u001b[49m\u001b[38;5;241;43m=\u001b[39;49m\u001b[43mkeepdims\u001b[49m\u001b[43m,\u001b[49m\u001b[43m \u001b[49m\u001b[43mwhere\u001b[49m\u001b[38;5;241;43m=\u001b[39;49m\u001b[43mwhere\u001b[49m\u001b[43m)\u001b[49m\n\u001b[0;32m    168\u001b[0m \u001b[38;5;28;01mif\u001b[39;00m rcount \u001b[38;5;241m==\u001b[39m \u001b[38;5;241m0\u001b[39m \u001b[38;5;28;01mif\u001b[39;00m where \u001b[38;5;129;01mis\u001b[39;00m \u001b[38;5;28;01mTrue\u001b[39;00m \u001b[38;5;28;01melse\u001b[39;00m umr_any(rcount \u001b[38;5;241m==\u001b[39m \u001b[38;5;241m0\u001b[39m, axis\u001b[38;5;241m=\u001b[39m\u001b[38;5;28;01mNone\u001b[39;00m):\n\u001b[0;32m    169\u001b[0m     warnings\u001b[38;5;241m.\u001b[39mwarn(\u001b[38;5;124m\"\u001b[39m\u001b[38;5;124mMean of empty slice.\u001b[39m\u001b[38;5;124m\"\u001b[39m, \u001b[38;5;167;01mRuntimeWarning\u001b[39;00m, stacklevel\u001b[38;5;241m=\u001b[39m\u001b[38;5;241m2\u001b[39m)\n",
      "File \u001b[1;32mF:\\my apps\\anaconda\\conda\\lib\\site-packages\\numpy\\core\\_methods.py:76\u001b[0m, in \u001b[0;36m_count_reduce_items\u001b[1;34m(arr, axis, keepdims, where)\u001b[0m\n\u001b[0;32m     74\u001b[0m     items \u001b[38;5;241m=\u001b[39m nt\u001b[38;5;241m.\u001b[39mintp(\u001b[38;5;241m1\u001b[39m)\n\u001b[0;32m     75\u001b[0m     \u001b[38;5;28;01mfor\u001b[39;00m ax \u001b[38;5;129;01min\u001b[39;00m axis:\n\u001b[1;32m---> 76\u001b[0m         items \u001b[38;5;241m*\u001b[39m\u001b[38;5;241m=\u001b[39m arr\u001b[38;5;241m.\u001b[39mshape[\u001b[43mmu\u001b[49m\u001b[38;5;241;43m.\u001b[39;49m\u001b[43mnormalize_axis_index\u001b[49m\u001b[43m(\u001b[49m\u001b[43max\u001b[49m\u001b[43m,\u001b[49m\u001b[43m \u001b[49m\u001b[43marr\u001b[49m\u001b[38;5;241;43m.\u001b[39;49m\u001b[43mndim\u001b[49m\u001b[43m)\u001b[49m]\n\u001b[0;32m     77\u001b[0m \u001b[38;5;28;01melse\u001b[39;00m:\n\u001b[0;32m     78\u001b[0m     \u001b[38;5;66;03m# TODO: Optimize case when `where` is broadcast along a non-reduction\u001b[39;00m\n\u001b[0;32m     79\u001b[0m     \u001b[38;5;66;03m# axis and full sum is more excessive than needed.\u001b[39;00m\n\u001b[0;32m     80\u001b[0m \n\u001b[0;32m     81\u001b[0m     \u001b[38;5;66;03m# guarded to protect circular imports\u001b[39;00m\n\u001b[0;32m     82\u001b[0m     \u001b[38;5;28;01mfrom\u001b[39;00m \u001b[38;5;21;01mnumpy\u001b[39;00m\u001b[38;5;21;01m.\u001b[39;00m\u001b[38;5;21;01mlib\u001b[39;00m\u001b[38;5;21;01m.\u001b[39;00m\u001b[38;5;21;01mstride_tricks\u001b[39;00m \u001b[38;5;28;01mimport\u001b[39;00m broadcast_to\n",
      "\u001b[1;31mAxisError\u001b[0m: axis 1 is out of bounds for array of dimension 1"
     ]
    }
   ],
   "source": [
    "np.average(arr1,axis=1)"
   ]
  },
  {
   "cell_type": "code",
   "execution_count": 21,
   "id": "0d8ace26",
   "metadata": {},
   "outputs": [
    {
     "data": {
      "text/plain": [
       "array([18.33333333, 35.66666667, 33.66666667])"
      ]
     },
     "execution_count": 21,
     "metadata": {},
     "output_type": "execute_result"
    }
   ],
   "source": [
    "np.average(arr2,axis=0)"
   ]
  },
  {
   "cell_type": "code",
   "execution_count": 22,
   "id": "aa3ec6b4",
   "metadata": {},
   "outputs": [
    {
     "data": {
      "text/plain": [
       "array([ 7.        , 31.        , 49.66666667])"
      ]
     },
     "execution_count": 22,
     "metadata": {},
     "output_type": "execute_result"
    }
   ],
   "source": [
    "np.average(arr2,axis=1)"
   ]
  },
  {
   "cell_type": "code",
   "execution_count": 23,
   "id": "17ed69a4",
   "metadata": {},
   "outputs": [
    {
     "data": {
      "text/plain": [
       "array([19. ,  7. , 33. , 12. ,  6.5, 17.5])"
      ]
     },
     "execution_count": 23,
     "metadata": {},
     "output_type": "execute_result"
    }
   ],
   "source": [
    "np.average(arr3,axis=0)"
   ]
  },
  {
   "cell_type": "code",
   "execution_count": 24,
   "id": "deec6a67",
   "metadata": {},
   "outputs": [
    {
     "data": {
      "text/plain": [
       "array([ 8.33333333, 23.33333333])"
      ]
     },
     "execution_count": 24,
     "metadata": {},
     "output_type": "execute_result"
    }
   ],
   "source": [
    "np.average(arr3,axis=1)"
   ]
  },
  {
   "cell_type": "code",
   "execution_count": 25,
   "id": "6b26705f",
   "metadata": {},
   "outputs": [
    {
     "data": {
      "text/plain": [
       "1"
      ]
     },
     "execution_count": 25,
     "metadata": {},
     "output_type": "execute_result"
    }
   ],
   "source": [
    "arr1.ndim # checing dimmention"
   ]
  },
  {
   "cell_type": "code",
   "execution_count": 26,
   "id": "64f8da36",
   "metadata": {},
   "outputs": [
    {
     "data": {
      "text/plain": [
       "2"
      ]
     },
     "execution_count": 26,
     "metadata": {},
     "output_type": "execute_result"
    }
   ],
   "source": [
    "arr2.ndim"
   ]
  },
  {
   "cell_type": "code",
   "execution_count": 27,
   "id": "67f6327c",
   "metadata": {},
   "outputs": [
    {
     "data": {
      "text/plain": [
       "2"
      ]
     },
     "execution_count": 27,
     "metadata": {},
     "output_type": "execute_result"
    }
   ],
   "source": [
    "arr3.ndim"
   ]
  },
  {
   "cell_type": "code",
   "execution_count": 28,
   "id": "f53f8bb2",
   "metadata": {},
   "outputs": [
    {
     "data": {
      "text/plain": [
       "11"
      ]
     },
     "execution_count": 28,
     "metadata": {},
     "output_type": "execute_result"
    }
   ],
   "source": [
    "arr1.min()"
   ]
  },
  {
   "cell_type": "code",
   "execution_count": 29,
   "id": "8f0f2df7",
   "metadata": {},
   "outputs": [
    {
     "data": {
      "text/plain": [
       "49"
      ]
     },
     "execution_count": 29,
     "metadata": {},
     "output_type": "execute_result"
    }
   ],
   "source": [
    "arr1.max()"
   ]
  },
  {
   "cell_type": "code",
   "execution_count": 30,
   "id": "0d810333",
   "metadata": {},
   "outputs": [
    {
     "data": {
      "text/plain": [
       "1"
      ]
     },
     "execution_count": 30,
     "metadata": {},
     "output_type": "execute_result"
    }
   ],
   "source": [
    "arr2.min()"
   ]
  },
  {
   "cell_type": "code",
   "execution_count": 31,
   "id": "0aa8ef5e",
   "metadata": {},
   "outputs": [
    {
     "data": {
      "text/plain": [
       "67"
      ]
     },
     "execution_count": 31,
     "metadata": {},
     "output_type": "execute_result"
    }
   ],
   "source": [
    "arr2.max()"
   ]
  },
  {
   "cell_type": "code",
   "execution_count": 32,
   "id": "915ba06c",
   "metadata": {},
   "outputs": [
    {
     "data": {
      "text/plain": [
       "-8"
      ]
     },
     "execution_count": 32,
     "metadata": {},
     "output_type": "execute_result"
    }
   ],
   "source": [
    "arr3.min()"
   ]
  },
  {
   "cell_type": "code",
   "execution_count": 33,
   "id": "914ca830",
   "metadata": {},
   "outputs": [
    {
     "data": {
      "text/plain": [
       "43"
      ]
     },
     "execution_count": 33,
     "metadata": {},
     "output_type": "execute_result"
    }
   ],
   "source": [
    "arr3.max()"
   ]
  },
  {
   "cell_type": "code",
   "execution_count": 34,
   "id": "0eab01d9",
   "metadata": {},
   "outputs": [
    {
     "data": {
      "text/plain": [
       "array([15,  2, 33,  4,  4, -8])"
      ]
     },
     "execution_count": 34,
     "metadata": {},
     "output_type": "execute_result"
    }
   ],
   "source": [
    "arr3.min(axis=0)"
   ]
  },
  {
   "cell_type": "code",
   "execution_count": 35,
   "id": "4f0ec65d",
   "metadata": {},
   "outputs": [
    {
     "data": {
      "text/plain": [
       "array([23, 12, 33, 20,  9, 43])"
      ]
     },
     "execution_count": 35,
     "metadata": {},
     "output_type": "execute_result"
    }
   ],
   "source": [
    "arr3.max(axis=0)"
   ]
  },
  {
   "cell_type": "code",
   "execution_count": 36,
   "id": "3e9e2202",
   "metadata": {},
   "outputs": [
    {
     "data": {
      "text/plain": [
       "array([-8,  9])"
      ]
     },
     "execution_count": 36,
     "metadata": {},
     "output_type": "execute_result"
    }
   ],
   "source": [
    "arr3.min(axis=1)"
   ]
  },
  {
   "cell_type": "code",
   "execution_count": 37,
   "id": "41863f8b",
   "metadata": {},
   "outputs": [
    {
     "data": {
      "text/plain": [
       "array([33, 43])"
      ]
     },
     "execution_count": 37,
     "metadata": {},
     "output_type": "execute_result"
    }
   ],
   "source": [
    "arr3.max(axis=1)"
   ]
  },
  {
   "cell_type": "code",
   "execution_count": 38,
   "id": "780e9d9d",
   "metadata": {},
   "outputs": [
    {
     "data": {
      "text/plain": [
       "30.6"
      ]
     },
     "execution_count": 38,
     "metadata": {},
     "output_type": "execute_result"
    }
   ],
   "source": [
    "arr1.mean()"
   ]
  },
  {
   "cell_type": "code",
   "execution_count": 39,
   "id": "e7167852",
   "metadata": {},
   "outputs": [
    {
     "data": {
      "text/plain": [
       "29.22222222222222"
      ]
     },
     "execution_count": 39,
     "metadata": {},
     "output_type": "execute_result"
    }
   ],
   "source": [
    "arr2.mean()"
   ]
  },
  {
   "cell_type": "code",
   "execution_count": 40,
   "id": "45bc1c38",
   "metadata": {},
   "outputs": [
    {
     "data": {
      "text/plain": [
       "15.833333333333334"
      ]
     },
     "execution_count": 40,
     "metadata": {},
     "output_type": "execute_result"
    }
   ],
   "source": [
    "arr3.mean()"
   ]
  },
  {
   "cell_type": "code",
   "execution_count": 41,
   "id": "8aa34f8d",
   "metadata": {},
   "outputs": [
    {
     "data": {
      "text/plain": [
       "array([ 7.        , 31.        , 49.66666667])"
      ]
     },
     "execution_count": 41,
     "metadata": {},
     "output_type": "execute_result"
    }
   ],
   "source": [
    "arr2.mean(1)#col wise"
   ]
  },
  {
   "cell_type": "code",
   "execution_count": 42,
   "id": "13a33fd0",
   "metadata": {},
   "outputs": [
    {
     "data": {
      "text/plain": [
       "array([18.33333333, 35.66666667, 33.66666667])"
      ]
     },
     "execution_count": 42,
     "metadata": {},
     "output_type": "execute_result"
    }
   ],
   "source": [
    "arr2.mean(0)# row wise"
   ]
  },
  {
   "cell_type": "code",
   "execution_count": 43,
   "id": "5527c077",
   "metadata": {},
   "outputs": [
    {
     "data": {
      "text/plain": [
       "array([19. ,  7. , 33. , 12. ,  6.5, 17.5])"
      ]
     },
     "execution_count": 43,
     "metadata": {},
     "output_type": "execute_result"
    }
   ],
   "source": [
    "arr3.mean(0)"
   ]
  },
  {
   "cell_type": "code",
   "execution_count": 44,
   "id": "6a729a12",
   "metadata": {},
   "outputs": [
    {
     "data": {
      "text/plain": [
       "array([ 8.33333333, 23.33333333])"
      ]
     },
     "execution_count": 44,
     "metadata": {},
     "output_type": "execute_result"
    }
   ],
   "source": [
    "arr3.mean(1)"
   ]
  },
  {
   "cell_type": "markdown",
   "id": "dfb12d3e",
   "metadata": {},
   "source": [
    "### Computation on array :Broadcasting\n",
    "\n",
    "* The term broadcasting refers to how numpy treats arrays with different Dimension\n",
    "while arithmetic operations leading to specific constraints. Moreover, the smaller array is broadcast across the larger array so that they have compatible shapes.\n",
    "\n",
    "* Broadcasting provides a means of vectorising array operations so that looping occurs in C rather than Python as we understand that Numpy implemented in C programming\n",
    "language.\n",
    "\n",
    "* It does this without creating unnecessary data copies and which leads to efficient\n",
    "algorithm implementations.\n",
    "\n",
    "* In some cases, broadcasting is a bad idea because it leads to ineffective memory\n",
    "utilisation which declines the computation."
   ]
  },
  {
   "cell_type": "code",
   "execution_count": 45,
   "id": "7487d6a4",
   "metadata": {},
   "outputs": [],
   "source": [
    "a1 = np.array([1,3,7,5])\n",
    "b1 = np.array([90,50,0,30])"
   ]
  },
  {
   "cell_type": "code",
   "execution_count": 46,
   "id": "6c4abebf",
   "metadata": {},
   "outputs": [],
   "source": [
    "c1=a1+b1"
   ]
  },
  {
   "cell_type": "code",
   "execution_count": 47,
   "id": "a74551be",
   "metadata": {},
   "outputs": [
    {
     "data": {
      "text/plain": [
       "array([91, 53,  7, 35])"
      ]
     },
     "execution_count": 47,
     "metadata": {},
     "output_type": "execute_result"
    }
   ],
   "source": [
    "c1"
   ]
  },
  {
   "cell_type": "code",
   "execution_count": 48,
   "id": "bcf906be",
   "metadata": {},
   "outputs": [],
   "source": [
    "d1=3"
   ]
  },
  {
   "cell_type": "code",
   "execution_count": 49,
   "id": "02f8d999",
   "metadata": {},
   "outputs": [
    {
     "data": {
      "text/plain": [
       "array([ 3,  9, 21, 15])"
      ]
     },
     "execution_count": 49,
     "metadata": {},
     "output_type": "execute_result"
    }
   ],
   "source": [
    "e1=a1*d1\n",
    "e1"
   ]
  },
  {
   "cell_type": "code",
   "execution_count": 50,
   "id": "9733da7a",
   "metadata": {},
   "outputs": [
    {
     "data": {
      "text/plain": [
       "array([ 4,  6, 10,  8])"
      ]
     },
     "execution_count": 50,
     "metadata": {},
     "output_type": "execute_result"
    }
   ],
   "source": [
    "f1=a1+d1\n",
    "f1"
   ]
  },
  {
   "cell_type": "markdown",
   "id": "0d8869ee",
   "metadata": {},
   "source": [
    "### Broadcasting Rules:\n",
    "• The following are the rules in order to broadcast two arrays together:\n",
    "1. Prepend the shape of the lower rank array with 1s until both shapes have the same\n",
    "length if the arrays do not have the same rank\n",
    "2. In a dimension, the two arrays are compatible if they have the same size in the\n",
    "dimension or if one of the arrays has size 1 in that dimension\n",
    "3. If arrays are compatible with all dimensions then they can be broadcasted together\n",
    "4. After broadcasting, every array acts as if it had shape equivalent to the element‐wise maximum of shapes of the two input arrays\n",
    "5. In any dimension where one array had size 1, as well as the other array had size greater than 1, the first array acts as if it were copied along that dimension"
   ]
  },
  {
   "cell_type": "code",
   "execution_count": 51,
   "id": "80e5c1ae",
   "metadata": {},
   "outputs": [],
   "source": [
    "# 2 dimention\n",
    "a2=np.array([[12,23,34],[11,21,31]])"
   ]
  },
  {
   "cell_type": "code",
   "execution_count": 52,
   "id": "c2a16fe9",
   "metadata": {},
   "outputs": [
    {
     "data": {
      "text/plain": [
       "array([[12, 23, 34],\n",
       "       [11, 21, 31]])"
      ]
     },
     "execution_count": 52,
     "metadata": {},
     "output_type": "execute_result"
    }
   ],
   "source": [
    "a2"
   ]
  },
  {
   "cell_type": "code",
   "execution_count": 53,
   "id": "c51798dd",
   "metadata": {},
   "outputs": [
    {
     "data": {
      "text/plain": [
       "2"
      ]
     },
     "execution_count": 53,
     "metadata": {},
     "output_type": "execute_result"
    }
   ],
   "source": [
    "a2.ndim"
   ]
  },
  {
   "cell_type": "code",
   "execution_count": 54,
   "id": "dd33355d",
   "metadata": {},
   "outputs": [],
   "source": [
    "b2=4"
   ]
  },
  {
   "cell_type": "code",
   "execution_count": 55,
   "id": "d78249e4",
   "metadata": {},
   "outputs": [],
   "source": [
    "c2=a2+b2"
   ]
  },
  {
   "cell_type": "code",
   "execution_count": 56,
   "id": "da312f9f",
   "metadata": {},
   "outputs": [
    {
     "data": {
      "text/plain": [
       "array([[16, 27, 38],\n",
       "       [15, 25, 35]])"
      ]
     },
     "execution_count": 56,
     "metadata": {},
     "output_type": "execute_result"
    }
   ],
   "source": [
    "c2"
   ]
  },
  {
   "cell_type": "code",
   "execution_count": 57,
   "id": "94945fca",
   "metadata": {},
   "outputs": [],
   "source": [
    "d2=np.array([1,5,6,7])\n",
    "a2=np.array([1,2,3,4])"
   ]
  },
  {
   "cell_type": "code",
   "execution_count": 58,
   "id": "bfd0baf2",
   "metadata": {},
   "outputs": [
    {
     "data": {
      "text/plain": [
       "array([1, 5, 6, 7])"
      ]
     },
     "execution_count": 58,
     "metadata": {},
     "output_type": "execute_result"
    }
   ],
   "source": [
    "d2"
   ]
  },
  {
   "cell_type": "code",
   "execution_count": 59,
   "id": "d28b6b3e",
   "metadata": {},
   "outputs": [
    {
     "data": {
      "text/plain": [
       "1"
      ]
     },
     "execution_count": 59,
     "metadata": {},
     "output_type": "execute_result"
    }
   ],
   "source": [
    "d2.ndim"
   ]
  },
  {
   "cell_type": "code",
   "execution_count": 60,
   "id": "8d6592b9",
   "metadata": {},
   "outputs": [],
   "source": [
    "e2=d2*a2"
   ]
  },
  {
   "cell_type": "code",
   "execution_count": 61,
   "id": "47e84705",
   "metadata": {},
   "outputs": [
    {
     "data": {
      "text/plain": [
       "array([ 1, 10, 18, 28])"
      ]
     },
     "execution_count": 61,
     "metadata": {},
     "output_type": "execute_result"
    }
   ],
   "source": [
    "e2"
   ]
  },
  {
   "cell_type": "markdown",
   "id": "01fc7e49",
   "metadata": {},
   "source": [
    "### random function\n",
    "\n",
    "A two‐dimensional array is generated by the first array having a size of 5 rows and \n",
    "columns, and the values are within 10 and 50\n",
    "\n",
    "A random three‐dimensional array of size 2*3*6 is generated by this second array. The\n",
    "generated random values are within 1 and 20"
   ]
  },
  {
   "cell_type": "code",
   "execution_count": 62,
   "id": "9595ba35",
   "metadata": {},
   "outputs": [],
   "source": [
    "arr_ran = np.random.randint(10,50,size=(5,8))"
   ]
  },
  {
   "cell_type": "code",
   "execution_count": 63,
   "id": "a03f1ad7",
   "metadata": {},
   "outputs": [
    {
     "data": {
      "text/plain": [
       "array([[44, 27, 31, 26, 46, 43, 31, 39],\n",
       "       [48, 22, 11, 35, 38, 25, 32, 23],\n",
       "       [11, 27, 20, 45, 35, 24, 26, 20],\n",
       "       [36, 24, 27, 48, 47, 21, 32, 38],\n",
       "       [45, 11, 26, 31, 41, 30, 25, 22]])"
      ]
     },
     "execution_count": 63,
     "metadata": {},
     "output_type": "execute_result"
    }
   ],
   "source": [
    "arr_ran"
   ]
  },
  {
   "cell_type": "code",
   "execution_count": 64,
   "id": "5bf232e5",
   "metadata": {},
   "outputs": [
    {
     "data": {
      "text/plain": [
       "2"
      ]
     },
     "execution_count": 64,
     "metadata": {},
     "output_type": "execute_result"
    }
   ],
   "source": [
    "arr_ran.ndim"
   ]
  },
  {
   "cell_type": "code",
   "execution_count": 65,
   "id": "2a08af6f",
   "metadata": {},
   "outputs": [],
   "source": [
    "arr1_ran = np.random.randint(1,20,size=(2,3,6))"
   ]
  },
  {
   "cell_type": "code",
   "execution_count": 66,
   "id": "03bae0bf",
   "metadata": {},
   "outputs": [
    {
     "data": {
      "text/plain": [
       "array([[[15,  3,  6, 13, 16, 10],\n",
       "        [16,  3, 14,  6,  8, 13],\n",
       "        [ 3, 15,  7, 14,  3,  5]],\n",
       "\n",
       "       [[15, 14, 13, 18,  7,  4],\n",
       "        [14, 17,  4, 10, 16, 15],\n",
       "        [ 9,  9, 19,  3, 13, 17]]])"
      ]
     },
     "execution_count": 66,
     "metadata": {},
     "output_type": "execute_result"
    }
   ],
   "source": [
    "arr1_ran"
   ]
  },
  {
   "cell_type": "code",
   "execution_count": 67,
   "id": "9de0a9d9",
   "metadata": {},
   "outputs": [
    {
     "data": {
      "text/plain": [
       "3"
      ]
     },
     "execution_count": 67,
     "metadata": {},
     "output_type": "execute_result"
    }
   ],
   "source": [
    "arr1_ran.ndim"
   ]
  },
  {
   "cell_type": "code",
   "execution_count": 68,
   "id": "c7efea5a",
   "metadata": {},
   "outputs": [],
   "source": [
    "a=np.array([0,2,3,0,1,6,5,2])"
   ]
  },
  {
   "cell_type": "code",
   "execution_count": 69,
   "id": "23d59e05",
   "metadata": {},
   "outputs": [
    {
     "data": {
      "text/plain": [
       "array([0, 2, 3, 0, 1, 6, 5, 2])"
      ]
     },
     "execution_count": 69,
     "metadata": {},
     "output_type": "execute_result"
    }
   ],
   "source": [
    "a"
   ]
  },
  {
   "cell_type": "code",
   "execution_count": 70,
   "id": "62df3ad6",
   "metadata": {},
   "outputs": [
    {
     "data": {
      "text/plain": [
       "array([False, False,  True, False, False,  True,  True, False])"
      ]
     },
     "execution_count": 70,
     "metadata": {},
     "output_type": "execute_result"
    }
   ],
   "source": [
    "np.greater(a,2)"
   ]
  },
  {
   "cell_type": "code",
   "execution_count": 71,
   "id": "9df26be4",
   "metadata": {},
   "outputs": [
    {
     "data": {
      "text/plain": [
       "array([False,  True,  True, False, False,  True,  True,  True])"
      ]
     },
     "execution_count": 71,
     "metadata": {},
     "output_type": "execute_result"
    }
   ],
   "source": [
    "np.greater_equal(a,2)"
   ]
  },
  {
   "cell_type": "code",
   "execution_count": 72,
   "id": "c95c22a1",
   "metadata": {},
   "outputs": [
    {
     "data": {
      "text/plain": [
       "array([ True, False, False,  True,  True, False, False, False])"
      ]
     },
     "execution_count": 72,
     "metadata": {},
     "output_type": "execute_result"
    }
   ],
   "source": [
    "np.less(a,2)"
   ]
  },
  {
   "cell_type": "code",
   "execution_count": 73,
   "id": "1d87778b",
   "metadata": {},
   "outputs": [
    {
     "data": {
      "text/plain": [
       "array([ True,  True, False,  True,  True, False, False,  True])"
      ]
     },
     "execution_count": 73,
     "metadata": {},
     "output_type": "execute_result"
    }
   ],
   "source": [
    "np.less_equal(a,2)"
   ]
  },
  {
   "cell_type": "code",
   "execution_count": 74,
   "id": "39ab10c0",
   "metadata": {},
   "outputs": [],
   "source": [
    "a=np.reshape(np.arange(25),(5,5))"
   ]
  },
  {
   "cell_type": "code",
   "execution_count": 75,
   "id": "27c7750f",
   "metadata": {},
   "outputs": [
    {
     "data": {
      "text/plain": [
       "array([[ 0,  1,  2,  3,  4],\n",
       "       [ 5,  6,  7,  8,  9],\n",
       "       [10, 11, 12, 13, 14],\n",
       "       [15, 16, 17, 18, 19],\n",
       "       [20, 21, 22, 23, 24]])"
      ]
     },
     "execution_count": 75,
     "metadata": {},
     "output_type": "execute_result"
    }
   ],
   "source": [
    "a"
   ]
  },
  {
   "cell_type": "code",
   "execution_count": 76,
   "id": "71de67e1",
   "metadata": {},
   "outputs": [],
   "source": [
    "greater_value = (a>10)"
   ]
  },
  {
   "cell_type": "code",
   "execution_count": 77,
   "id": "774e61d8",
   "metadata": {},
   "outputs": [
    {
     "data": {
      "text/plain": [
       "array([[False, False, False, False, False],\n",
       "       [False, False, False, False, False],\n",
       "       [False,  True,  True,  True,  True],\n",
       "       [ True,  True,  True,  True,  True],\n",
       "       [ True,  True,  True,  True,  True]])"
      ]
     },
     "execution_count": 77,
     "metadata": {},
     "output_type": "execute_result"
    }
   ],
   "source": [
    "greater_value"
   ]
  },
  {
   "cell_type": "code",
   "execution_count": 78,
   "id": "bd42162e",
   "metadata": {},
   "outputs": [],
   "source": [
    "even_value=(a%2==0)\n",
    "odd_value=(a%2!=0)"
   ]
  },
  {
   "cell_type": "code",
   "execution_count": 79,
   "id": "dbc1ddf6",
   "metadata": {},
   "outputs": [
    {
     "data": {
      "text/plain": [
       "array([[ True, False,  True, False,  True],\n",
       "       [False,  True, False,  True, False],\n",
       "       [ True, False,  True, False,  True],\n",
       "       [False,  True, False,  True, False],\n",
       "       [ True, False,  True, False,  True]])"
      ]
     },
     "execution_count": 79,
     "metadata": {},
     "output_type": "execute_result"
    }
   ],
   "source": [
    "even_value"
   ]
  },
  {
   "cell_type": "code",
   "execution_count": 80,
   "id": "5f5bce07",
   "metadata": {},
   "outputs": [
    {
     "data": {
      "text/plain": [
       "array([[False,  True, False,  True, False],\n",
       "       [ True, False,  True, False,  True],\n",
       "       [False,  True, False,  True, False],\n",
       "       [ True, False,  True, False,  True],\n",
       "       [False,  True, False,  True, False]])"
      ]
     },
     "execution_count": 80,
     "metadata": {},
     "output_type": "execute_result"
    }
   ],
   "source": [
    "odd_value"
   ]
  },
  {
   "cell_type": "code",
   "execution_count": 81,
   "id": "ea4db2d3",
   "metadata": {},
   "outputs": [],
   "source": [
    "b = ~ (a%10 ==0)"
   ]
  },
  {
   "cell_type": "code",
   "execution_count": 82,
   "id": "213b09b5",
   "metadata": {},
   "outputs": [
    {
     "data": {
      "text/plain": [
       "array([[False,  True,  True,  True,  True],\n",
       "       [ True,  True,  True,  True,  True],\n",
       "       [False,  True,  True,  True,  True],\n",
       "       [ True,  True,  True,  True,  True],\n",
       "       [False,  True,  True,  True,  True]])"
      ]
     },
     "execution_count": 82,
     "metadata": {},
     "output_type": "execute_result"
    }
   ],
   "source": [
    "b"
   ]
  },
  {
   "cell_type": "code",
   "execution_count": 83,
   "id": "4f08e83f",
   "metadata": {},
   "outputs": [],
   "source": [
    "c = (a%2==0)|(a%3==0)"
   ]
  },
  {
   "cell_type": "code",
   "execution_count": 84,
   "id": "456d6a84",
   "metadata": {},
   "outputs": [
    {
     "data": {
      "text/plain": [
       "array([[ True, False,  True,  True,  True],\n",
       "       [False,  True, False,  True,  True],\n",
       "       [ True, False,  True, False,  True],\n",
       "       [ True,  True, False,  True, False],\n",
       "       [ True,  True,  True, False,  True]])"
      ]
     },
     "execution_count": 84,
     "metadata": {},
     "output_type": "execute_result"
    }
   ],
   "source": [
    "c"
   ]
  },
  {
   "cell_type": "code",
   "execution_count": 85,
   "id": "c72d219a",
   "metadata": {},
   "outputs": [],
   "source": [
    "d = (a%2==0)&(a%3==0)"
   ]
  },
  {
   "cell_type": "code",
   "execution_count": 86,
   "id": "8e7eec1c",
   "metadata": {},
   "outputs": [
    {
     "data": {
      "text/plain": [
       "array([[ True, False, False, False, False],\n",
       "       [False,  True, False, False, False],\n",
       "       [False, False,  True, False, False],\n",
       "       [False, False, False,  True, False],\n",
       "       [False, False, False, False,  True]])"
      ]
     },
     "execution_count": 86,
     "metadata": {},
     "output_type": "execute_result"
    }
   ],
   "source": [
    "d"
   ]
  },
  {
   "cell_type": "markdown",
   "id": "b3df7394",
   "metadata": {},
   "source": [
    "### Masking in numpy\n",
    "\n",
    "In numpy.ma.mask_rows() function, mask rows of a 2‐Dimensional array which hold\n",
    "masked values. The numpy.ma.mask_rows() function is a shortcut to mask_rowcols\n",
    "with axis equal to 0"
   ]
  },
  {
   "cell_type": "code",
   "execution_count": 87,
   "id": "df3e6093",
   "metadata": {},
   "outputs": [],
   "source": [
    "import numpy as np\n",
    "import numpy.ma as MA"
   ]
  },
  {
   "cell_type": "code",
   "execution_count": 88,
   "id": "18f45596",
   "metadata": {},
   "outputs": [],
   "source": [
    "array=np.zeros((4,4),dtype=int)"
   ]
  },
  {
   "cell_type": "code",
   "execution_count": 89,
   "id": "cb4ee92a",
   "metadata": {},
   "outputs": [
    {
     "data": {
      "text/plain": [
       "array([[0, 0, 0, 0],\n",
       "       [0, 0, 0, 0],\n",
       "       [0, 0, 0, 0],\n",
       "       [0, 0, 0, 0]])"
      ]
     },
     "execution_count": 89,
     "metadata": {},
     "output_type": "execute_result"
    }
   ],
   "source": [
    "array"
   ]
  },
  {
   "cell_type": "code",
   "execution_count": 90,
   "id": "09223c20",
   "metadata": {},
   "outputs": [],
   "source": [
    "array[2,2]=1"
   ]
  },
  {
   "cell_type": "code",
   "execution_count": 91,
   "id": "bd3b3d4c",
   "metadata": {},
   "outputs": [
    {
     "data": {
      "text/plain": [
       "array([[0, 0, 0, 0],\n",
       "       [0, 0, 0, 0],\n",
       "       [0, 0, 1, 0],\n",
       "       [0, 0, 0, 0]])"
      ]
     },
     "execution_count": 91,
     "metadata": {},
     "output_type": "execute_result"
    }
   ],
   "source": [
    "array"
   ]
  },
  {
   "cell_type": "code",
   "execution_count": 92,
   "id": "c53a83d3",
   "metadata": {},
   "outputs": [],
   "source": [
    "array = MA.masked_equal(array,1)"
   ]
  },
  {
   "cell_type": "code",
   "execution_count": 93,
   "id": "deb88f20",
   "metadata": {},
   "outputs": [
    {
     "data": {
      "text/plain": [
       "masked_array(\n",
       "  data=[[0, 0, 0, 0],\n",
       "        [0, 0, 0, 0],\n",
       "        [0, 0, --, 0],\n",
       "        [0, 0, 0, 0]],\n",
       "  mask=[[False, False, False, False],\n",
       "        [False, False, False, False],\n",
       "        [False, False,  True, False],\n",
       "        [False, False, False, False]],\n",
       "  fill_value=1)"
      ]
     },
     "execution_count": 93,
     "metadata": {},
     "output_type": "execute_result"
    }
   ],
   "source": [
    "array"
   ]
  },
  {
   "cell_type": "code",
   "execution_count": 94,
   "id": "d85eaca6",
   "metadata": {},
   "outputs": [],
   "source": [
    "mask_row=MA.mask_rows(array)"
   ]
  },
  {
   "cell_type": "code",
   "execution_count": 95,
   "id": "f3763b39",
   "metadata": {},
   "outputs": [
    {
     "data": {
      "text/plain": [
       "masked_array(\n",
       "  data=[[0, 0, 0, 0],\n",
       "        [0, 0, 0, 0],\n",
       "        [--, --, --, --],\n",
       "        [0, 0, 0, 0]],\n",
       "  mask=[[False, False, False, False],\n",
       "        [False, False, False, False],\n",
       "        [ True,  True,  True,  True],\n",
       "        [False, False, False, False]],\n",
       "  fill_value=1)"
      ]
     },
     "execution_count": 95,
     "metadata": {},
     "output_type": "execute_result"
    }
   ],
   "source": [
    "mask_row"
   ]
  },
  {
   "cell_type": "code",
   "execution_count": 96,
   "id": "48933a4b",
   "metadata": {},
   "outputs": [],
   "source": [
    "mask_row_col=MA.mask_rowcols(array)"
   ]
  },
  {
   "cell_type": "code",
   "execution_count": 97,
   "id": "233580e3",
   "metadata": {},
   "outputs": [
    {
     "data": {
      "text/plain": [
       "masked_array(\n",
       "  data=[[0, 0, --, 0],\n",
       "        [0, 0, --, 0],\n",
       "        [--, --, --, --],\n",
       "        [0, 0, --, 0]],\n",
       "  mask=[[False, False,  True, False],\n",
       "        [False, False,  True, False],\n",
       "        [ True,  True,  True,  True],\n",
       "        [False, False,  True, False]],\n",
       "  fill_value=1)"
      ]
     },
     "execution_count": 97,
     "metadata": {},
     "output_type": "execute_result"
    }
   ],
   "source": [
    "mask_row_col"
   ]
  },
  {
   "cell_type": "code",
   "execution_count": 98,
   "id": "2cbae742",
   "metadata": {},
   "outputs": [
    {
     "data": {
      "text/plain": [
       "array([[ 1,  9, 11],\n",
       "       [21, 31, 41],\n",
       "       [33, 67, 49]])"
      ]
     },
     "execution_count": 98,
     "metadata": {},
     "output_type": "execute_result"
    }
   ],
   "source": [
    "arr2"
   ]
  },
  {
   "cell_type": "code",
   "execution_count": 99,
   "id": "329a4a97",
   "metadata": {},
   "outputs": [],
   "source": [
    "mask_arr2=MA.masked_equal(arr2,33)"
   ]
  },
  {
   "cell_type": "code",
   "execution_count": 100,
   "id": "e6406446",
   "metadata": {},
   "outputs": [
    {
     "data": {
      "text/plain": [
       "masked_array(\n",
       "  data=[[1, 9, 11],\n",
       "        [21, 31, 41],\n",
       "        [--, 67, 49]],\n",
       "  mask=[[False, False, False],\n",
       "        [False, False, False],\n",
       "        [ True, False, False]],\n",
       "  fill_value=33)"
      ]
     },
     "execution_count": 100,
     "metadata": {},
     "output_type": "execute_result"
    }
   ],
   "source": [
    "mask_arr2"
   ]
  },
  {
   "cell_type": "code",
   "execution_count": 101,
   "id": "6d6907b3",
   "metadata": {},
   "outputs": [],
   "source": [
    "arr2_row = MA.mask_rows(mask_arr2)"
   ]
  },
  {
   "cell_type": "code",
   "execution_count": 102,
   "id": "6a94abc4",
   "metadata": {},
   "outputs": [
    {
     "data": {
      "text/plain": [
       "masked_array(\n",
       "  data=[[1, 9, 11],\n",
       "        [21, 31, 41],\n",
       "        [--, 67, 49]],\n",
       "  mask=[[False, False, False],\n",
       "        [False, False, False],\n",
       "        [ True, False, False]],\n",
       "  fill_value=33)"
      ]
     },
     "execution_count": 102,
     "metadata": {},
     "output_type": "execute_result"
    }
   ],
   "source": [
    "mask_arr2"
   ]
  },
  {
   "cell_type": "code",
   "execution_count": 103,
   "id": "5344e5a3",
   "metadata": {},
   "outputs": [],
   "source": [
    "arr2_row_col = MA.mask_rowcols(mask_arr2)"
   ]
  },
  {
   "cell_type": "code",
   "execution_count": 104,
   "id": "190a5ba1",
   "metadata": {},
   "outputs": [
    {
     "data": {
      "text/plain": [
       "masked_array(\n",
       "  data=[[--, 9, 11],\n",
       "        [--, 31, 41],\n",
       "        [--, --, --]],\n",
       "  mask=[[ True, False, False],\n",
       "        [ True, False, False],\n",
       "        [ True,  True,  True]],\n",
       "  fill_value=33)"
      ]
     },
     "execution_count": 104,
     "metadata": {},
     "output_type": "execute_result"
    }
   ],
   "source": [
    "arr2_row_col"
   ]
  },
  {
   "cell_type": "markdown",
   "id": "b662b335",
   "metadata": {},
   "source": [
    "## Fancy Indexing\n",
    "* Fancy indexing is like the simple indexing, but we pass arrays of indices instead of single scalars\n",
    "* It permits us to quickly access as well as change complicated subsets of an array's values"
   ]
  },
  {
   "cell_type": "markdown",
   "id": "f548c1cb",
   "metadata": {},
   "source": [
    "### Exploring Fancy Indexing\n",
    "\n",
    "* Fancy indexing is conceptually simple which means passing an array of indices in order to access multiple array elements at one time\n",
    "\n",
    "* For instance, consider the below‐written array:"
   ]
  },
  {
   "cell_type": "code",
   "execution_count": 105,
   "id": "74a0e783",
   "metadata": {},
   "outputs": [],
   "source": [
    "x=np.random.randint(100,size=10)"
   ]
  },
  {
   "cell_type": "code",
   "execution_count": 106,
   "id": "57cf11f2",
   "metadata": {},
   "outputs": [
    {
     "data": {
      "text/plain": [
       "array([29, 98, 79, 95, 76, 60, 54, 32, 42, 98])"
      ]
     },
     "execution_count": 106,
     "metadata": {},
     "output_type": "execute_result"
    }
   ],
   "source": [
    "x"
   ]
  },
  {
   "cell_type": "markdown",
   "id": "3d954c6e",
   "metadata": {},
   "source": [
    " • Let us suppose, we want to access three different elements\n",
    "         [x[3],x[7],x[2]]"
   ]
  },
  {
   "cell_type": "code",
   "execution_count": 107,
   "id": "da8be4d6",
   "metadata": {},
   "outputs": [
    {
     "data": {
      "text/plain": [
       "[95, 32, 79]"
      ]
     },
     "execution_count": 107,
     "metadata": {},
     "output_type": "execute_result"
    }
   ],
   "source": [
    "[x[3],x[7],x[2]]"
   ]
  },
  {
   "cell_type": "markdown",
   "id": "6abdb435",
   "metadata": {},
   "source": [
    "On the other hand, we can pass an array of indices or a single list for getting the same result:"
   ]
  },
  {
   "cell_type": "code",
   "execution_count": 108,
   "id": "b83460c7",
   "metadata": {},
   "outputs": [],
   "source": [
    "ind = [3,7,2]"
   ]
  },
  {
   "cell_type": "code",
   "execution_count": 109,
   "id": "c29f6bc2",
   "metadata": {},
   "outputs": [
    {
     "data": {
      "text/plain": [
       "array([95, 32, 79])"
      ]
     },
     "execution_count": 109,
     "metadata": {},
     "output_type": "execute_result"
    }
   ],
   "source": [
    "x[ind]"
   ]
  },
  {
   "cell_type": "markdown",
   "id": "41d44827",
   "metadata": {},
   "source": [
    " While utilising fancy indexing, the shape of the result reflects the shape of the index varrays instead of the shape of the array being indexed:"
   ]
  },
  {
   "cell_type": "code",
   "execution_count": 110,
   "id": "a5aceb9e",
   "metadata": {},
   "outputs": [],
   "source": [
    "ind1=np.array([[3,7],[4,5]])"
   ]
  },
  {
   "cell_type": "code",
   "execution_count": 111,
   "id": "add6809a",
   "metadata": {},
   "outputs": [
    {
     "data": {
      "text/plain": [
       "array([[95, 32],\n",
       "       [76, 60]])"
      ]
     },
     "execution_count": 111,
     "metadata": {},
     "output_type": "execute_result"
    }
   ],
   "source": [
    "x[ind1]"
   ]
  },
  {
   "cell_type": "markdown",
   "id": "fc24d8e9",
   "metadata": {},
   "source": [
    "The first index refers to the row, and the second to the column Like with standard\n",
    "indexing:"
   ]
  },
  {
   "cell_type": "code",
   "execution_count": 112,
   "id": "908f82c3",
   "metadata": {},
   "outputs": [],
   "source": [
    "y=np.arange(12).reshape((3,4))"
   ]
  },
  {
   "cell_type": "code",
   "execution_count": 113,
   "id": "75d28811",
   "metadata": {},
   "outputs": [
    {
     "data": {
      "text/plain": [
       "array([[ 0,  1,  2,  3],\n",
       "       [ 4,  5,  6,  7],\n",
       "       [ 8,  9, 10, 11]])"
      ]
     },
     "execution_count": 113,
     "metadata": {},
     "output_type": "execute_result"
    }
   ],
   "source": [
    "y"
   ]
  },
  {
   "cell_type": "code",
   "execution_count": 114,
   "id": "ad8cccb6",
   "metadata": {},
   "outputs": [],
   "source": [
    "row = np.array([0,1,2])\n",
    "col = np.array([2,1,3])\n"
   ]
  },
  {
   "cell_type": "code",
   "execution_count": 115,
   "id": "26f9baf6",
   "metadata": {},
   "outputs": [
    {
     "data": {
      "text/plain": [
       "array([0, 1, 2])"
      ]
     },
     "execution_count": 115,
     "metadata": {},
     "output_type": "execute_result"
    }
   ],
   "source": [
    "row"
   ]
  },
  {
   "cell_type": "code",
   "execution_count": 116,
   "id": "408b77c0",
   "metadata": {},
   "outputs": [
    {
     "data": {
      "text/plain": [
       "array([2, 1, 3])"
      ]
     },
     "execution_count": 116,
     "metadata": {},
     "output_type": "execute_result"
    }
   ],
   "source": [
    "col"
   ]
  },
  {
   "cell_type": "code",
   "execution_count": 117,
   "id": "9b41faec",
   "metadata": {},
   "outputs": [
    {
     "data": {
      "text/plain": [
       "array([ 2,  5, 11])"
      ]
     },
     "execution_count": 117,
     "metadata": {},
     "output_type": "execute_result"
    }
   ],
   "source": [
    "y[row,col]"
   ]
  },
  {
   "cell_type": "markdown",
   "id": "b6d1e976",
   "metadata": {},
   "source": [
    "• The broadcasting rules are followed by the pairing of indices in fancy indexing.\n",
    "\n",
    "Therefore, for instance, we get a two‐dimensional result if we combine a column vector\n",
    "as well as a row vector within the indices:"
   ]
  },
  {
   "cell_type": "code",
   "execution_count": 118,
   "id": "e16b4065",
   "metadata": {},
   "outputs": [
    {
     "data": {
      "text/plain": [
       "array([[ 0,  1,  2,  3],\n",
       "       [ 4,  5,  6,  7],\n",
       "       [ 8,  9, 10, 11]])"
      ]
     },
     "execution_count": 118,
     "metadata": {},
     "output_type": "execute_result"
    }
   ],
   "source": [
    "y"
   ]
  },
  {
   "cell_type": "code",
   "execution_count": 119,
   "id": "a1a719c4",
   "metadata": {},
   "outputs": [
    {
     "data": {
      "text/plain": [
       "array([[ 2,  1,  3],\n",
       "       [ 6,  5,  7],\n",
       "       [10,  9, 11]])"
      ]
     },
     "execution_count": 119,
     "metadata": {},
     "output_type": "execute_result"
    }
   ],
   "source": [
    "y[row[:,np.newaxis],col]"
   ]
  },
  {
   "cell_type": "markdown",
   "id": "e82be14b",
   "metadata": {},
   "source": [
    "• It is always necessary to memorise with fancy indexing that the broadcasted shape of the indices is reflected by the return value, instead of the shape of the array being indexed"
   ]
  },
  {
   "cell_type": "markdown",
   "id": "f3583cc8",
   "metadata": {},
   "source": [
    "### Combined Indexing\n",
    "\n",
    "* Fancy indexing can be combined with the other indexing schemes for more powerful\n",
    "operations:\n",
    "\n",
    "* We can combine fancy indexing with slicing as well:\n",
    "\n",
    "* Even, fancy indexing can be combined with masking:\n",
    "\n",
    "* All of these indexing options combined lead to a very flexible group of operations for accessing as well as modifying array values"
   ]
  },
  {
   "cell_type": "code",
   "execution_count": 120,
   "id": "c01e51e8",
   "metadata": {},
   "outputs": [
    {
     "data": {
      "text/plain": [
       "array([[ 0,  1,  2,  3],\n",
       "       [ 4,  5,  6,  7],\n",
       "       [ 8,  9, 10, 11]])"
      ]
     },
     "execution_count": 120,
     "metadata": {},
     "output_type": "execute_result"
    }
   ],
   "source": [
    "y"
   ]
  },
  {
   "cell_type": "code",
   "execution_count": 121,
   "id": "28a92391",
   "metadata": {},
   "outputs": [
    {
     "data": {
      "text/plain": [
       "array([10,  8, 10])"
      ]
     },
     "execution_count": 121,
     "metadata": {},
     "output_type": "execute_result"
    }
   ],
   "source": [
    "y[2,[2,0,2]]"
   ]
  },
  {
   "cell_type": "code",
   "execution_count": 122,
   "id": "fd08705d",
   "metadata": {},
   "outputs": [
    {
     "data": {
      "text/plain": [
       "array([10,  8, 11])"
      ]
     },
     "execution_count": 122,
     "metadata": {},
     "output_type": "execute_result"
    }
   ],
   "source": [
    "y[2,[2,0,3]]"
   ]
  },
  {
   "cell_type": "code",
   "execution_count": 123,
   "id": "4ee53dc7",
   "metadata": {},
   "outputs": [
    {
     "data": {
      "text/plain": [
       "array([[10,  8, 11]])"
      ]
     },
     "execution_count": 123,
     "metadata": {},
     "output_type": "execute_result"
    }
   ],
   "source": [
    "y[2:,[2,0,3]]"
   ]
  },
  {
   "cell_type": "code",
   "execution_count": 124,
   "id": "27cf0e1d",
   "metadata": {},
   "outputs": [
    {
     "data": {
      "text/plain": [
       "array([[ 6,  4,  7],\n",
       "       [10,  8, 11]])"
      ]
     },
     "execution_count": 124,
     "metadata": {},
     "output_type": "execute_result"
    }
   ],
   "source": [
    "y[1:,[2,0,3]]"
   ]
  },
  {
   "cell_type": "code",
   "execution_count": 125,
   "id": "cb5b1789",
   "metadata": {},
   "outputs": [],
   "source": [
    "mask = np.array([1,0,1,0],dtype = bool)"
   ]
  },
  {
   "cell_type": "code",
   "execution_count": 126,
   "id": "ace81eaf",
   "metadata": {},
   "outputs": [
    {
     "data": {
      "text/plain": [
       "array([ True, False,  True, False])"
      ]
     },
     "execution_count": 126,
     "metadata": {},
     "output_type": "execute_result"
    }
   ],
   "source": [
    "mask"
   ]
  },
  {
   "cell_type": "code",
   "execution_count": 127,
   "id": "851c8d3b",
   "metadata": {},
   "outputs": [
    {
     "data": {
      "text/plain": [
       "array([[ 0,  2],\n",
       "       [ 4,  6],\n",
       "       [ 8, 10]])"
      ]
     },
     "execution_count": 127,
     "metadata": {},
     "output_type": "execute_result"
    }
   ],
   "source": [
    "y[row[:,np.newaxis],mask]"
   ]
  },
  {
   "cell_type": "markdown",
   "id": "d9a30f8e",
   "metadata": {},
   "source": [
    "### Modifying Values with Fancy Indexing\n",
    "\n",
    "* Fancy indexing can be used for accessing parts of an array. Moreover, it can modify parts of an array as well. For instance, assume we have an array of indices, and we want to set similar items in an array to some value:\n"
   ]
  },
  {
   "cell_type": "code",
   "execution_count": 128,
   "id": "40d14334",
   "metadata": {},
   "outputs": [
    {
     "name": "stdout",
     "output_type": "stream",
     "text": [
      "[ 0 99 99  3 99  5  6  7 99  9]\n"
     ]
    }
   ],
   "source": [
    "a= np.arange(10)\n",
    "i=np.array([2,1,8,4])\n",
    "a[i]=99\n",
    "\n",
    "print(a)"
   ]
  },
  {
   "cell_type": "code",
   "execution_count": 129,
   "id": "50087498",
   "metadata": {},
   "outputs": [
    {
     "name": "stdout",
     "output_type": "stream",
     "text": [
      "[ 0 -9 -8  3 -6  5  6  7 -2  9]\n"
     ]
    }
   ],
   "source": [
    "a= np.arange(10)\n",
    "i=np.array([2,1,8,4])\n",
    "\n",
    "a[i] -=10\n",
    "print(a)"
   ]
  },
  {
   "cell_type": "code",
   "execution_count": 130,
   "id": "7181c7f9",
   "metadata": {},
   "outputs": [],
   "source": [
    "a=np.zeros(10)\n",
    "a[[0,0]] = [2,8]"
   ]
  },
  {
   "cell_type": "markdown",
   "id": "e5394521",
   "metadata": {},
   "source": [
    "Notice that, repeated indices with these operations can cause some potentially unexpected outcomes\n",
    "The outcome of this operation is to first assign A[0] = 8, followed by A[0] = 23. The result is that A[0] contains the value 23\n",
    "\n"
   ]
  },
  {
   "cell_type": "code",
   "execution_count": 131,
   "id": "1bac3b5d",
   "metadata": {},
   "outputs": [],
   "source": [
    "array = np.array([5,7,6,7])\n",
    "as1=np.sort(array)"
   ]
  },
  {
   "cell_type": "code",
   "execution_count": 132,
   "id": "7d8d120a",
   "metadata": {},
   "outputs": [
    {
     "name": "stdout",
     "output_type": "stream",
     "text": [
      "[5 6 7 7]\n"
     ]
    }
   ],
   "source": [
    "print(as1)"
   ]
  },
  {
   "cell_type": "code",
   "execution_count": 133,
   "id": "2e252fba",
   "metadata": {},
   "outputs": [
    {
     "name": "stdout",
     "output_type": "stream",
     "text": [
      "['Banana' 'Fig' 'Pine_apple']\n"
     ]
    }
   ],
   "source": [
    "arr_name = np.array(['Pine_apple','Banana',\"Fig\"])\n",
    "fruit=np.sort(arr_name)\n",
    "print(fruit)"
   ]
  },
  {
   "cell_type": "code",
   "execution_count": 134,
   "id": "df750dfe",
   "metadata": {},
   "outputs": [
    {
     "name": "stdout",
     "output_type": "stream",
     "text": [
      "[False False  True]\n"
     ]
    }
   ],
   "source": [
    "arr_bool = np.array([False,True,False])\n",
    "arr_b = np.sort(arr_bool)\n",
    "print(arr_b)"
   ]
  },
  {
   "cell_type": "code",
   "execution_count": 135,
   "id": "e9e42325",
   "metadata": {},
   "outputs": [],
   "source": [
    "arr_sort_2d = np.array([[5,0,2],[9,3,6]])"
   ]
  },
  {
   "cell_type": "code",
   "execution_count": 136,
   "id": "00691290",
   "metadata": {},
   "outputs": [
    {
     "name": "stdout",
     "output_type": "stream",
     "text": [
      "[[0 2 5]\n",
      " [3 6 9]]\n"
     ]
    }
   ],
   "source": [
    "arr_r = np.sort(arr_sort_2d)\n",
    "print(arr_r)"
   ]
  },
  {
   "cell_type": "markdown",
   "id": "c3a5d8a5",
   "metadata": {},
   "source": [
    "### Numpy Structured Array"
   ]
  },
  {
   "cell_type": "markdown",
   "id": "8d74dea1",
   "metadata": {},
   "source": [
    "• Numpy’s Structured Array is similar to Struct in C programming language. It is used in order to group data of different sizes and types\n",
    "\n",
    "• Data containers named as fields are used by the structure array. Every data field can contain data of any size and type. With the help of dot notation, array elements can be accessed"
   ]
  },
  {
   "cell_type": "markdown",
   "id": "d373c026",
   "metadata": {},
   "source": [
    "#### Structured Array Properties\n",
    "\n",
    "• All structs in the array have the similar number of fields\n",
    "\n",
    "• All structs have same fields names\n",
    "\n",
    "• For instance, consider a student's structured array with different fields such as year,name, and marks\n",
    "\n",
    "• Every record in array student has a structure of class Struct. Moreover, the array of a structure is referred to as struct as adding any new fields for a new struct in the array, contains the empty array"
   ]
  },
  {
   "cell_type": "code",
   "execution_count": 137,
   "id": "15977c0c",
   "metadata": {},
   "outputs": [],
   "source": [
    "import numpy as np "
   ]
  },
  {
   "cell_type": "code",
   "execution_count": 138,
   "id": "01eecbfe",
   "metadata": {},
   "outputs": [],
   "source": [
    "a1 = np.array([('Anagha',2022,8.88),('Sumit',2021,9.88),('Suman',2020,9.70),('kalyani',2021,7.88)],\n",
    "             dtype = [(\"Name\",(np.str_,10)),('Year',np.int32),(\"CGPA\",np.float64)])"
   ]
  },
  {
   "cell_type": "code",
   "execution_count": 139,
   "id": "eb1be858",
   "metadata": {},
   "outputs": [
    {
     "data": {
      "text/plain": [
       "array([('Anagha', 2022, 8.88), ('Sumit', 2021, 9.88),\n",
       "       ('Suman', 2020, 9.7 ), ('kalyani', 2021, 7.88)],\n",
       "      dtype=[('Name', '<U10'), ('Year', '<i4'), ('CGPA', '<f8')])"
      ]
     },
     "execution_count": 139,
     "metadata": {},
     "output_type": "execute_result"
    }
   ],
   "source": [
    "a1"
   ]
  },
  {
   "cell_type": "code",
   "execution_count": 140,
   "id": "80408b99",
   "metadata": {},
   "outputs": [
    {
     "name": "stdout",
     "output_type": "stream",
     "text": [
      "[('Anagha', 2022, 8.88) ('Sumit', 2021, 9.88) ('Suman', 2020, 9.7 )\n",
      " ('kalyani', 2021, 7.88)]\n"
     ]
    }
   ],
   "source": [
    "print(a1)"
   ]
  },
  {
   "cell_type": "code",
   "execution_count": 141,
   "id": "5da88016",
   "metadata": {},
   "outputs": [],
   "source": [
    "b = np.sort(a1,order='Name')"
   ]
  },
  {
   "cell_type": "code",
   "execution_count": 142,
   "id": "9c738351",
   "metadata": {},
   "outputs": [
    {
     "data": {
      "text/plain": [
       "array([('Anagha', 2022, 8.88), ('Suman', 2020, 9.7 ),\n",
       "       ('Sumit', 2021, 9.88), ('kalyani', 2021, 7.88)],\n",
       "      dtype=[('Name', '<U10'), ('Year', '<i4'), ('CGPA', '<f8')])"
      ]
     },
     "execution_count": 142,
     "metadata": {},
     "output_type": "execute_result"
    }
   ],
   "source": [
    "b"
   ]
  },
  {
   "cell_type": "code",
   "execution_count": 143,
   "id": "09c9f936",
   "metadata": {},
   "outputs": [
    {
     "data": {
      "text/plain": [
       "array([('Suman', 2020, 9.7 ), ('Sumit', 2021, 9.88),\n",
       "       ('kalyani', 2021, 7.88), ('Anagha', 2022, 8.88)],\n",
       "      dtype=[('Name', '<U10'), ('Year', '<i4'), ('CGPA', '<f8')])"
      ]
     },
     "execution_count": 143,
     "metadata": {},
     "output_type": "execute_result"
    }
   ],
   "source": [
    "c = np.sort(a1,order='Year')\n",
    "c"
   ]
  },
  {
   "cell_type": "code",
   "execution_count": 144,
   "id": "7a7c9878",
   "metadata": {},
   "outputs": [
    {
     "data": {
      "text/plain": [
       "array([('kalyani', 2021, 7.88), ('Anagha', 2022, 8.88),\n",
       "       ('Suman', 2020, 9.7 ), ('Sumit', 2021, 9.88)],\n",
       "      dtype=[('Name', '<U10'), ('Year', '<i4'), ('CGPA', '<f8')])"
      ]
     },
     "execution_count": 144,
     "metadata": {},
     "output_type": "execute_result"
    }
   ],
   "source": [
    "d = np.sort(a1,order='CGPA')\n",
    "d"
   ]
  },
  {
   "cell_type": "code",
   "execution_count": 145,
   "id": "23ae1140",
   "metadata": {},
   "outputs": [
    {
     "data": {
      "text/plain": [
       "array([('Sumit', 2021, 9.88)],\n",
       "      dtype=[('Name', '<U10'), ('Year', '<i4'), ('CGPA', '<f8')])"
      ]
     },
     "execution_count": 145,
     "metadata": {},
     "output_type": "execute_result"
    }
   ],
   "source": [
    "a1[a1['Name']=='Sumit']"
   ]
  },
  {
   "cell_type": "code",
   "execution_count": 146,
   "id": "a90d7688",
   "metadata": {},
   "outputs": [
    {
     "data": {
      "text/plain": [
       "array([], shape=(0, 4),\n",
       "      dtype=[('Name', '<U10'), ('Year', '<i4'), ('CGPA', '<f8')])"
      ]
     },
     "execution_count": 146,
     "metadata": {},
     "output_type": "execute_result"
    }
   ],
   "source": [
    "a1['Name'=='']"
   ]
  },
  {
   "cell_type": "code",
   "execution_count": 150,
   "id": "4cc43e3e",
   "metadata": {},
   "outputs": [
    {
     "data": {
      "text/plain": [
       "'Anagha'"
      ]
     },
     "execution_count": 150,
     "metadata": {},
     "output_type": "execute_result"
    }
   ],
   "source": [
    "a1[0][0]"
   ]
  },
  {
   "cell_type": "code",
   "execution_count": null,
   "id": "fc98c626",
   "metadata": {},
   "outputs": [],
   "source": []
  }
 ],
 "metadata": {
  "kernelspec": {
   "display_name": "Python 3 (ipykernel)",
   "language": "python",
   "name": "python3"
  },
  "language_info": {
   "codemirror_mode": {
    "name": "ipython",
    "version": 3
   },
   "file_extension": ".py",
   "mimetype": "text/x-python",
   "name": "python",
   "nbconvert_exporter": "python",
   "pygments_lexer": "ipython3",
   "version": "3.9.12"
  }
 },
 "nbformat": 4,
 "nbformat_minor": 5
}
