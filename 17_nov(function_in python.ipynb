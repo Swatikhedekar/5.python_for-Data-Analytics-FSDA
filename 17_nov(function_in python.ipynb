{
 "cells": [
  {
   "cell_type": "markdown",
   "id": "5b4b8bb5",
   "metadata": {},
   "source": [
    "## Function in python\n",
    "* def() using for define function"
   ]
  },
  {
   "cell_type": "code",
   "execution_count": 1,
   "id": "b81b5fc4",
   "metadata": {},
   "outputs": [],
   "source": [
    "def test():\n",
    "    pass  ## it does nothing"
   ]
  },
  {
   "cell_type": "code",
   "execution_count": 2,
   "id": "91b6e74d",
   "metadata": {},
   "outputs": [
    {
     "data": {
      "text/plain": [
       "NoneType"
      ]
     },
     "execution_count": 2,
     "metadata": {},
     "output_type": "execute_result"
    }
   ],
   "source": [
    "type(test())"
   ]
  },
  {
   "cell_type": "code",
   "execution_count": 3,
   "id": "b19b2a01",
   "metadata": {},
   "outputs": [
    {
     "ename": "IndentationError",
     "evalue": "expected an indented block (4277359475.py, line 1)",
     "output_type": "error",
     "traceback": [
      "\u001b[1;36m  Input \u001b[1;32mIn [3]\u001b[1;36m\u001b[0m\n\u001b[1;33m    def test(): # mandatory function should return something else give pass otherwise we will get an error\u001b[0m\n\u001b[1;37m                                                                                                          ^\u001b[0m\n\u001b[1;31mIndentationError\u001b[0m\u001b[1;31m:\u001b[0m expected an indented block\n"
     ]
    }
   ],
   "source": [
    "def test(): # mandatory function should return something else give pass otherwise we will get an error"
   ]
  },
  {
   "cell_type": "code",
   "execution_count": 5,
   "id": "5a599862",
   "metadata": {},
   "outputs": [],
   "source": [
    "def add():\n",
    "    a=1\n",
    "    b=2\n",
    "    print(a+b)"
   ]
  },
  {
   "cell_type": "code",
   "execution_count": 6,
   "id": "48da7024",
   "metadata": {},
   "outputs": [
    {
     "name": "stdout",
     "output_type": "stream",
     "text": [
      "3\n"
     ]
    }
   ],
   "source": [
    "add()"
   ]
  },
  {
   "cell_type": "code",
   "execution_count": 7,
   "id": "1306c64c",
   "metadata": {},
   "outputs": [],
   "source": [
    "def add(a,b):\n",
    "    print(a+b)"
   ]
  },
  {
   "cell_type": "code",
   "execution_count": 8,
   "id": "ba5c8cca",
   "metadata": {},
   "outputs": [
    {
     "name": "stdout",
     "output_type": "stream",
     "text": [
      "5\n"
     ]
    }
   ],
   "source": [
    "add(2,3)"
   ]
  },
  {
   "cell_type": "code",
   "execution_count": 9,
   "id": "cdbad950",
   "metadata": {},
   "outputs": [
    {
     "name": "stdout",
     "output_type": "stream",
     "text": [
      "9.5\n"
     ]
    }
   ],
   "source": [
    "add(2.5,7)"
   ]
  },
  {
   "cell_type": "code",
   "execution_count": 10,
   "id": "143db103",
   "metadata": {},
   "outputs": [
    {
     "name": "stdout",
     "output_type": "stream",
     "text": [
      "13.99\n"
     ]
    }
   ],
   "source": [
    "add(4,9.99)"
   ]
  },
  {
   "cell_type": "code",
   "execution_count": 11,
   "id": "ffab6e4a",
   "metadata": {},
   "outputs": [
    {
     "ename": "TypeError",
     "evalue": "unsupported operand type(s) for +: 'int' and 'str'",
     "output_type": "error",
     "traceback": [
      "\u001b[1;31m---------------------------------------------------------------------------\u001b[0m",
      "\u001b[1;31mTypeError\u001b[0m                                 Traceback (most recent call last)",
      "Input \u001b[1;32mIn [11]\u001b[0m, in \u001b[0;36m<cell line: 1>\u001b[1;34m()\u001b[0m\n\u001b[1;32m----> 1\u001b[0m \u001b[43madd\u001b[49m\u001b[43m(\u001b[49m\u001b[38;5;241;43m2\u001b[39;49m\u001b[43m,\u001b[49m\u001b[38;5;124;43m'\u001b[39;49m\u001b[38;5;124;43manand\u001b[39;49m\u001b[38;5;124;43m'\u001b[39;49m\u001b[43m)\u001b[49m\n",
      "Input \u001b[1;32mIn [7]\u001b[0m, in \u001b[0;36madd\u001b[1;34m(a, b)\u001b[0m\n\u001b[0;32m      1\u001b[0m \u001b[38;5;28;01mdef\u001b[39;00m \u001b[38;5;21madd\u001b[39m(a,b):\n\u001b[1;32m----> 2\u001b[0m     \u001b[38;5;28mprint\u001b[39m(\u001b[43ma\u001b[49m\u001b[38;5;241;43m+\u001b[39;49m\u001b[43mb\u001b[49m)\n",
      "\u001b[1;31mTypeError\u001b[0m: unsupported operand type(s) for +: 'int' and 'str'"
     ]
    }
   ],
   "source": [
    "add(2,'anand')"
   ]
  },
  {
   "cell_type": "code",
   "execution_count": 12,
   "id": "84f39980",
   "metadata": {},
   "outputs": [
    {
     "data": {
      "text/plain": [
       "'2anan'"
      ]
     },
     "execution_count": 12,
     "metadata": {},
     "output_type": "execute_result"
    }
   ],
   "source": [
    "\"2\"+\"anan\""
   ]
  },
  {
   "cell_type": "code",
   "execution_count": 13,
   "id": "1687add8",
   "metadata": {},
   "outputs": [
    {
     "name": "stdout",
     "output_type": "stream",
     "text": [
      "2ansh\n"
     ]
    }
   ],
   "source": [
    "add(\"2\",'ansh')"
   ]
  },
  {
   "cell_type": "code",
   "execution_count": 14,
   "id": "df54ea3a",
   "metadata": {},
   "outputs": [
    {
     "name": "stdout",
     "output_type": "stream",
     "text": [
      "xyz\n"
     ]
    },
    {
     "data": {
      "text/plain": [
       "NoneType"
      ]
     },
     "execution_count": 14,
     "metadata": {},
     "output_type": "execute_result"
    }
   ],
   "source": [
    "type(print('xyz'))"
   ]
  },
  {
   "cell_type": "code",
   "execution_count": 15,
   "id": "026bd0b3",
   "metadata": {},
   "outputs": [],
   "source": [
    "def add(a,b):\n",
    "    return str(a)+str(b)"
   ]
  },
  {
   "cell_type": "code",
   "execution_count": 16,
   "id": "7871b910",
   "metadata": {},
   "outputs": [
    {
     "data": {
      "text/plain": [
       "'34'"
      ]
     },
     "execution_count": 16,
     "metadata": {},
     "output_type": "execute_result"
    }
   ],
   "source": [
    "add(3,4)"
   ]
  },
  {
   "cell_type": "code",
   "execution_count": 17,
   "id": "94f1ba94",
   "metadata": {},
   "outputs": [
    {
     "data": {
      "text/plain": [
       "'3virat Kohli'"
      ]
     },
     "execution_count": 17,
     "metadata": {},
     "output_type": "execute_result"
    }
   ],
   "source": [
    "add(3,\"virat Kohli\")"
   ]
  },
  {
   "cell_type": "code",
   "execution_count": 18,
   "id": "11e6fb52",
   "metadata": {},
   "outputs": [],
   "source": [
    "def add(a,b):\n",
    "    a=1\n",
    "    b=2\n",
    "    print(a+b)"
   ]
  },
  {
   "cell_type": "code",
   "execution_count": 19,
   "id": "e05ad7bd",
   "metadata": {},
   "outputs": [
    {
     "name": "stdout",
     "output_type": "stream",
     "text": [
      "3\n"
     ]
    }
   ],
   "source": [
    "add(5,6)  # local variable"
   ]
  },
  {
   "cell_type": "code",
   "execution_count": 20,
   "id": "555ca549",
   "metadata": {},
   "outputs": [],
   "source": [
    "def add(a,b):\n",
    "    print(a+b)"
   ]
  },
  {
   "cell_type": "code",
   "execution_count": 21,
   "id": "1e7f67a5",
   "metadata": {},
   "outputs": [
    {
     "name": "stdout",
     "output_type": "stream",
     "text": [
      "11\n"
     ]
    }
   ],
   "source": [
    "add(5,6)"
   ]
  },
  {
   "cell_type": "code",
   "execution_count": 22,
   "id": "836f6de8",
   "metadata": {},
   "outputs": [],
   "source": [
    "def add(a,b):\n",
    "    a=1\n",
    "    b=2\n",
    "    c=3\n",
    "    return a+b"
   ]
  },
  {
   "cell_type": "code",
   "execution_count": 23,
   "id": "89042867",
   "metadata": {},
   "outputs": [
    {
     "data": {
      "text/plain": [
       "9"
      ]
     },
     "execution_count": 23,
     "metadata": {},
     "output_type": "execute_result"
    }
   ],
   "source": [
    "c=10\n",
    "add(5,6)+6 # local variable"
   ]
  },
  {
   "cell_type": "code",
   "execution_count": 24,
   "id": "960ee050",
   "metadata": {},
   "outputs": [],
   "source": [
    "def add(a,b):\n",
    "    a=1\n",
    "    b=2\n",
    "    c=3\n",
    "    return a+b+c"
   ]
  },
  {
   "cell_type": "code",
   "execution_count": 25,
   "id": "1d33941a",
   "metadata": {},
   "outputs": [
    {
     "data": {
      "text/plain": [
       "12"
      ]
     },
     "execution_count": 25,
     "metadata": {},
     "output_type": "execute_result"
    }
   ],
   "source": [
    "c=10\n",
    "add(5,6)+6"
   ]
  },
  {
   "cell_type": "code",
   "execution_count": 26,
   "id": "6923407a",
   "metadata": {},
   "outputs": [],
   "source": [
    "def add(a,b):\n",
    "    a=1\n",
    "    b=2\n",
    "    c=3\n",
    "    return a+b+c,a+b,a+b*c ##multiple return statement is allowed"
   ]
  },
  {
   "cell_type": "code",
   "execution_count": 27,
   "id": "ce53e6f5",
   "metadata": {},
   "outputs": [
    {
     "data": {
      "text/plain": [
       "(6, 3, 7)"
      ]
     },
     "execution_count": 27,
     "metadata": {},
     "output_type": "execute_result"
    }
   ],
   "source": [
    "add(2,3)"
   ]
  },
  {
   "cell_type": "code",
   "execution_count": 28,
   "id": "a258511d",
   "metadata": {},
   "outputs": [
    {
     "data": {
      "text/plain": [
       "(6, 3, 7)"
      ]
     },
     "execution_count": 28,
     "metadata": {},
     "output_type": "execute_result"
    }
   ],
   "source": [
    "add(1,3)"
   ]
  },
  {
   "cell_type": "code",
   "execution_count": 29,
   "id": "9940069f",
   "metadata": {},
   "outputs": [
    {
     "data": {
      "text/plain": [
       "tuple"
      ]
     },
     "execution_count": 29,
     "metadata": {},
     "output_type": "execute_result"
    }
   ],
   "source": [
    "type(add(2,3))"
   ]
  },
  {
   "cell_type": "code",
   "execution_count": 30,
   "id": "de019224",
   "metadata": {},
   "outputs": [
    {
     "ename": "TypeError",
     "evalue": "add() takes 2 positional arguments but 3 were given",
     "output_type": "error",
     "traceback": [
      "\u001b[1;31m---------------------------------------------------------------------------\u001b[0m",
      "\u001b[1;31mTypeError\u001b[0m                                 Traceback (most recent call last)",
      "Input \u001b[1;32mIn [30]\u001b[0m, in \u001b[0;36m<cell line: 1>\u001b[1;34m()\u001b[0m\n\u001b[1;32m----> 1\u001b[0m \u001b[43madd\u001b[49m\u001b[43m(\u001b[49m\u001b[38;5;241;43m1\u001b[39;49m\u001b[43m,\u001b[49m\u001b[38;5;241;43m2\u001b[39;49m\u001b[43m,\u001b[49m\u001b[38;5;241;43m3\u001b[39;49m\u001b[43m)\u001b[49m\n",
      "\u001b[1;31mTypeError\u001b[0m: add() takes 2 positional arguments but 3 were given"
     ]
    }
   ],
   "source": [
    "add(1,2,3)"
   ]
  },
  {
   "cell_type": "code",
   "execution_count": 31,
   "id": "5de3989f",
   "metadata": {},
   "outputs": [
    {
     "ename": "TypeError",
     "evalue": "can only concatenate tuple (not \"int\") to tuple",
     "output_type": "error",
     "traceback": [
      "\u001b[1;31m---------------------------------------------------------------------------\u001b[0m",
      "\u001b[1;31mTypeError\u001b[0m                                 Traceback (most recent call last)",
      "Input \u001b[1;32mIn [31]\u001b[0m, in \u001b[0;36m<cell line: 1>\u001b[1;34m()\u001b[0m\n\u001b[1;32m----> 1\u001b[0m \u001b[43madd\u001b[49m\u001b[43m(\u001b[49m\u001b[38;5;241;43m6\u001b[39;49m\u001b[43m,\u001b[49m\u001b[38;5;241;43m5\u001b[39;49m\u001b[43m)\u001b[49m\u001b[38;5;241;43m+\u001b[39;49m\u001b[43mc\u001b[49m\n",
      "\u001b[1;31mTypeError\u001b[0m: can only concatenate tuple (not \"int\") to tuple"
     ]
    }
   ],
   "source": [
    "add(6,5)+c"
   ]
  },
  {
   "cell_type": "code",
   "execution_count": 32,
   "id": "25be9d41",
   "metadata": {},
   "outputs": [],
   "source": [
    "c=5\n",
    "c=1\n",
    "def add(a,b):\n",
    "    a=1\n",
    "    b=2\n",
    "    c=4\n",
    "    return a+b+c"
   ]
  },
  {
   "cell_type": "code",
   "execution_count": 33,
   "id": "3d4e1a90",
   "metadata": {},
   "outputs": [
    {
     "data": {
      "text/plain": [
       "7"
      ]
     },
     "execution_count": 33,
     "metadata": {},
     "output_type": "execute_result"
    }
   ],
   "source": [
    "add(2,3)"
   ]
  },
  {
   "cell_type": "code",
   "execution_count": 34,
   "id": "a86b72b4",
   "metadata": {},
   "outputs": [
    {
     "ename": "TypeError",
     "evalue": "add() missing 2 required positional arguments: 'a' and 'b'",
     "output_type": "error",
     "traceback": [
      "\u001b[1;31m---------------------------------------------------------------------------\u001b[0m",
      "\u001b[1;31mTypeError\u001b[0m                                 Traceback (most recent call last)",
      "Input \u001b[1;32mIn [34]\u001b[0m, in \u001b[0;36m<cell line: 1>\u001b[1;34m()\u001b[0m\n\u001b[1;32m----> 1\u001b[0m \u001b[43madd\u001b[49m\u001b[43m(\u001b[49m\u001b[43m)\u001b[49m\n",
      "\u001b[1;31mTypeError\u001b[0m: add() missing 2 required positional arguments: 'a' and 'b'"
     ]
    }
   ],
   "source": [
    "add()"
   ]
  },
  {
   "cell_type": "code",
   "execution_count": 35,
   "id": "b5624614",
   "metadata": {},
   "outputs": [
    {
     "name": "stdout",
     "output_type": "stream",
     "text": [
      "Value inside function: 10\n",
      "Value outside function: 20\n"
     ]
    }
   ],
   "source": [
    "def my_func():\n",
    "    x=10\n",
    "    print(\"Value inside function:\",x)\n",
    "    \n",
    "x=20\n",
    "my_func()\n",
    "print(\"Value outside function:\",x)"
   ]
  },
  {
   "cell_type": "code",
   "execution_count": 36,
   "id": "c7f3035b",
   "metadata": {},
   "outputs": [],
   "source": [
    "def abc(a,b,c):\n",
    "    return a+b+c,a*b*c,a+b*c\n",
    "\n"
   ]
  },
  {
   "cell_type": "code",
   "execution_count": 37,
   "id": "95776932",
   "metadata": {},
   "outputs": [
    {
     "data": {
      "text/plain": [
       "(9, 24, 14)"
      ]
     },
     "execution_count": 37,
     "metadata": {},
     "output_type": "execute_result"
    }
   ],
   "source": [
    "abc(2,3,4)"
   ]
  },
  {
   "cell_type": "code",
   "execution_count": 38,
   "id": "1f302cb0",
   "metadata": {},
   "outputs": [],
   "source": [
    "def test():\n",
    "    return \"Sudhanshu\",[4,5,6,7],{'a':5,'b':6}"
   ]
  },
  {
   "cell_type": "code",
   "execution_count": 39,
   "id": "d9cbcd2d",
   "metadata": {},
   "outputs": [
    {
     "data": {
      "text/plain": [
       "('Sudhanshu', [4, 5, 6, 7], {'a': 5, 'b': 6})"
      ]
     },
     "execution_count": 39,
     "metadata": {},
     "output_type": "execute_result"
    }
   ],
   "source": [
    "test()"
   ]
  },
  {
   "cell_type": "code",
   "execution_count": 40,
   "id": "7348ba09",
   "metadata": {},
   "outputs": [
    {
     "data": {
      "text/plain": [
       "4"
      ]
     },
     "execution_count": 40,
     "metadata": {},
     "output_type": "execute_result"
    }
   ],
   "source": [
    "int(4.675)"
   ]
  },
  {
   "cell_type": "code",
   "execution_count": 41,
   "id": "267cf04f",
   "metadata": {},
   "outputs": [
    {
     "data": {
      "text/plain": [
       "8.0"
      ]
     },
     "execution_count": 41,
     "metadata": {},
     "output_type": "execute_result"
    }
   ],
   "source": [
    "float(8)"
   ]
  },
  {
   "cell_type": "code",
   "execution_count": 42,
   "id": "f62a0aa5",
   "metadata": {},
   "outputs": [
    {
     "data": {
      "text/plain": [
       "'5'"
      ]
     },
     "execution_count": 42,
     "metadata": {},
     "output_type": "execute_result"
    }
   ],
   "source": [
    "str(5)"
   ]
  },
  {
   "cell_type": "code",
   "execution_count": 43,
   "id": "91e69d09",
   "metadata": {},
   "outputs": [],
   "source": [
    "def add(a,b,c=2):\n",
    "    c=1\n",
    "    return a+b+c"
   ]
  },
  {
   "cell_type": "code",
   "execution_count": 44,
   "id": "4e65265d",
   "metadata": {},
   "outputs": [
    {
     "data": {
      "text/plain": [
       "4"
      ]
     },
     "execution_count": 44,
     "metadata": {},
     "output_type": "execute_result"
    }
   ],
   "source": [
    "add(1,2)"
   ]
  },
  {
   "cell_type": "code",
   "execution_count": 45,
   "id": "be7536c9",
   "metadata": {},
   "outputs": [
    {
     "data": {
      "text/plain": [
       "6"
      ]
     },
     "execution_count": 45,
     "metadata": {},
     "output_type": "execute_result"
    }
   ],
   "source": [
    "add(2,3,4)"
   ]
  },
  {
   "cell_type": "code",
   "execution_count": 46,
   "id": "b6e5c2a7",
   "metadata": {},
   "outputs": [
    {
     "data": {
      "text/plain": [
       "6"
      ]
     },
     "execution_count": 46,
     "metadata": {},
     "output_type": "execute_result"
    }
   ],
   "source": [
    "add(2,3,4)"
   ]
  },
  {
   "cell_type": "markdown",
   "id": "cd0561db",
   "metadata": {},
   "source": [
    "## Assign:\n",
    "### create a list of all the employess with different name say 5 (from user using input)\n",
    "### create a user defined function which returns the largest member(whose length is more) from a list"
   ]
  },
  {
   "cell_type": "code",
   "execution_count": 47,
   "id": "22c8ccf9",
   "metadata": {},
   "outputs": [
    {
     "name": "stdout",
     "output_type": "stream",
     "text": [
      "['Anand', 'Manisha', 'Ravi', 'Tejaswini', 'Aishwarya']\n"
     ]
    }
   ],
   "source": [
    "emp_list=['Anand','Manisha','Ravi','Tejaswini','Aishwarya']\n",
    "print(emp_list)\n",
    "\n",
    "        "
   ]
  },
  {
   "cell_type": "code",
   "execution_count": 48,
   "id": "b548b9cc",
   "metadata": {},
   "outputs": [
    {
     "name": "stdout",
     "output_type": "stream",
     "text": [
      "Maximum length of emplyee name: Tejaswini\n"
     ]
    }
   ],
   "source": [
    "#ex\n",
    "max_len=0\n",
    "for name in emp_list:\n",
    "    if len(name)>max_len:\n",
    "        max_len=len(name)\n",
    "        emp_name=name\n",
    "        \n",
    "print(\"Maximum length of emplyee name: \"+emp_name)"
   ]
  },
  {
   "cell_type": "code",
   "execution_count": 49,
   "id": "00f29433",
   "metadata": {},
   "outputs": [
    {
     "name": "stdout",
     "output_type": "stream",
     "text": [
      "Tejaswini\n"
     ]
    }
   ],
   "source": [
    "emp_list = []\n",
    "def emp_list():\n",
    "    for i in range(5):\n",
    "        emp_name = input(\"Enter Employee Name\")\n",
    "        test_list.append(emp_name)\n",
    "\n",
    "print(emp_name)"
   ]
  },
  {
   "cell_type": "markdown",
   "id": "48c1cbd1",
   "metadata": {},
   "source": [
    "## Lambda function"
   ]
  },
  {
   "cell_type": "markdown",
   "id": "80b0c27d",
   "metadata": {},
   "source": [
    "* its a one line function which can take any number of arguments but only one expression,which is evaluated and returned\n",
    "* its an anonoymous function i.e without a name\n",
    "* lambda kleyword is used to define it\n",
    "* no def keyword is used\n",
    "* one is free to use lambda funcctions wherever funcxtions object are required\n",
    "* You need to keep in your knowledge that lambda function are syntactically restricted to a single expression\n",
    "* the lambda operator => separates the input parameters on the left side from the lambda body on the right side"
   ]
  },
  {
   "cell_type": "code",
   "execution_count": 50,
   "id": "bead412b",
   "metadata": {},
   "outputs": [],
   "source": [
    "z = lambda a,b,c:a*b/c"
   ]
  },
  {
   "cell_type": "code",
   "execution_count": 51,
   "id": "05468a95",
   "metadata": {},
   "outputs": [
    {
     "data": {
      "text/plain": [
       "7.0"
      ]
     },
     "execution_count": 51,
     "metadata": {},
     "output_type": "execute_result"
    }
   ],
   "source": [
    "z(8,7,8)"
   ]
  },
  {
   "cell_type": "code",
   "execution_count": 52,
   "id": "6b028f76",
   "metadata": {},
   "outputs": [
    {
     "ename": "TypeError",
     "evalue": "<lambda>() missing 1 required positional argument: 'c'",
     "output_type": "error",
     "traceback": [
      "\u001b[1;31m---------------------------------------------------------------------------\u001b[0m",
      "\u001b[1;31mTypeError\u001b[0m                                 Traceback (most recent call last)",
      "Input \u001b[1;32mIn [52]\u001b[0m, in \u001b[0;36m<cell line: 1>\u001b[1;34m()\u001b[0m\n\u001b[1;32m----> 1\u001b[0m \u001b[43mz\u001b[49m\u001b[43m(\u001b[49m\u001b[38;5;241;43m4\u001b[39;49m\u001b[43m,\u001b[49m\u001b[38;5;241;43m4\u001b[39;49m\u001b[43m)\u001b[49m\n",
      "\u001b[1;31mTypeError\u001b[0m: <lambda>() missing 1 required positional argument: 'c'"
     ]
    }
   ],
   "source": [
    "z(4,4)"
   ]
  },
  {
   "cell_type": "code",
   "execution_count": 53,
   "id": "fee715a4",
   "metadata": {},
   "outputs": [],
   "source": [
    "# cube of num\n",
    "cube=lambda x:x*x*x"
   ]
  },
  {
   "cell_type": "code",
   "execution_count": 54,
   "id": "55bdfa9d",
   "metadata": {},
   "outputs": [
    {
     "data": {
      "text/plain": [
       "343"
      ]
     },
     "execution_count": 54,
     "metadata": {},
     "output_type": "execute_result"
    }
   ],
   "source": [
    "cube(7)"
   ]
  },
  {
   "cell_type": "markdown",
   "id": "8452dfb5",
   "metadata": {},
   "source": [
    "### create a empty list\n",
    "### Ask the user 5 times to inpute any number\n",
    "### use lambda fun to test for add and even and pass that num to another list calling add/even"
   ]
  },
  {
   "cell_type": "code",
   "execution_count": 55,
   "id": "db12c72e",
   "metadata": {},
   "outputs": [
    {
     "ename": "SyntaxError",
     "evalue": "invalid syntax (1296789662.py, line 1)",
     "output_type": "error",
     "traceback": [
      "\u001b[1;36m  Input \u001b[1;32mIn [55]\u001b[1;36m\u001b[0m\n\u001b[1;33m    Check_No= lambda mylist[i]: if mylist[i]%2==0 print(\"Even\") else (\"Odd\")\u001b[0m\n\u001b[1;37m                           ^\u001b[0m\n\u001b[1;31mSyntaxError\u001b[0m\u001b[1;31m:\u001b[0m invalid syntax\n"
     ]
    }
   ],
   "source": [
    "Check_No= lambda mylist[i]: if mylist[i]%2==0 print(\"Even\") else (\"Odd\")"
   ]
  },
  {
   "cell_type": "code",
   "execution_count": 56,
   "id": "20cf38ec",
   "metadata": {},
   "outputs": [
    {
     "name": "stdout",
     "output_type": "stream",
     "text": [
      "Enter a number >> 56\n",
      "Even Number\n"
     ]
    }
   ],
   "source": [
    "number = int(input(\"Enter a number >> \"))\n",
    "odd_even = lambda : \"Even Number\" if number % 2 == 0 else \"Odd Number\"\n",
    "print(odd_even())"
   ]
  },
  {
   "cell_type": "code",
   "execution_count": 57,
   "id": "b9ac4f4c",
   "metadata": {},
   "outputs": [
    {
     "name": "stdout",
     "output_type": "stream",
     "text": [
      "Enter a number >> 55\n",
      "Odd Number\n"
     ]
    }
   ],
   "source": [
    "number = int(input(\"Enter a number >> \"))\n",
    "odd_even = lambda : \"Even Number\" if number % 2 == 0 else \"Odd Number\"\n",
    "print(odd_even())"
   ]
  },
  {
   "cell_type": "markdown",
   "id": "8ade0e86",
   "metadata": {},
   "source": [
    "## Filter Function"
   ]
  },
  {
   "cell_type": "code",
   "execution_count": 58,
   "id": "682f41f8",
   "metadata": {},
   "outputs": [],
   "source": [
    "list1=[1,3,4,5,6,7,8,9,8,7]"
   ]
  },
  {
   "cell_type": "code",
   "execution_count": 59,
   "id": "902632b1",
   "metadata": {},
   "outputs": [
    {
     "name": "stdout",
     "output_type": "stream",
     "text": [
      "[1, 3, 4, 5, 6, 7, 8, 9, 8, 7]\n"
     ]
    }
   ],
   "source": [
    "print(list1)"
   ]
  },
  {
   "cell_type": "code",
   "execution_count": 60,
   "id": "f3bcf482",
   "metadata": {},
   "outputs": [
    {
     "data": {
      "text/plain": [
       "[1, 3, 4, 5, 6, 7, 8, 9, 8, 7]"
      ]
     },
     "execution_count": 60,
     "metadata": {},
     "output_type": "execute_result"
    }
   ],
   "source": [
    "list1"
   ]
  },
  {
   "cell_type": "code",
   "execution_count": 61,
   "id": "f1ea6a0d",
   "metadata": {},
   "outputs": [
    {
     "data": {
      "text/plain": [
       "[4, 6, 8, 8]"
      ]
     },
     "execution_count": 61,
     "metadata": {},
     "output_type": "execute_result"
    }
   ],
   "source": [
    "list(filter(lambda x:x%2==0,list1))"
   ]
  },
  {
   "cell_type": "code",
   "execution_count": 62,
   "id": "fd4a2748",
   "metadata": {},
   "outputs": [],
   "source": [
    "a=list(filter(lambda x:x%2==0,list1))\n",
    "b=list(filter(lambda x:x%2!=0,list1))"
   ]
  },
  {
   "cell_type": "code",
   "execution_count": 63,
   "id": "876ee5e9",
   "metadata": {},
   "outputs": [
    {
     "data": {
      "text/plain": [
       "([4, 6, 8, 8], [1, 3, 5, 7, 9, 7])"
      ]
     },
     "execution_count": 63,
     "metadata": {},
     "output_type": "execute_result"
    }
   ],
   "source": [
    "a,b"
   ]
  },
  {
   "cell_type": "code",
   "execution_count": 64,
   "id": "699a70b5",
   "metadata": {},
   "outputs": [],
   "source": [
    "def even_check(n):\n",
    "    if n%2==0:\n",
    "        return True"
   ]
  },
  {
   "cell_type": "code",
   "execution_count": 65,
   "id": "40172bec",
   "metadata": {},
   "outputs": [
    {
     "data": {
      "text/plain": [
       "[4, 6, 8, 8]"
      ]
     },
     "execution_count": 65,
     "metadata": {},
     "output_type": "execute_result"
    }
   ],
   "source": [
    "list(filter(even_check,list1))"
   ]
  },
  {
   "cell_type": "code",
   "execution_count": 66,
   "id": "1fcdf3f4",
   "metadata": {},
   "outputs": [],
   "source": [
    "z=lambda a,b,c:a**2+b*3+c"
   ]
  },
  {
   "cell_type": "code",
   "execution_count": 94,
   "id": "45b9ff87",
   "metadata": {},
   "outputs": [
    {
     "data": {
      "text/plain": [
       "50"
      ]
     },
     "execution_count": 94,
     "metadata": {},
     "output_type": "execute_result"
    }
   ],
   "source": [
    "z(5,6,7)"
   ]
  },
  {
   "cell_type": "code",
   "execution_count": 67,
   "id": "b70c1f5e",
   "metadata": {},
   "outputs": [],
   "source": [
    "## Reduce function\n",
    "## Reduce only work for 2 arguments\n",
    "\n",
    "from functools import reduce"
   ]
  },
  {
   "cell_type": "code",
   "execution_count": 73,
   "id": "407bb1f1",
   "metadata": {},
   "outputs": [
    {
     "data": {
      "text/plain": [
       "27"
      ]
     },
     "execution_count": 73,
     "metadata": {},
     "output_type": "execute_result"
    }
   ],
   "source": [
    "li=[2,3,4,5,6,7]\n",
    "reduce(lambda x,y:x+y,li)"
   ]
  },
  {
   "cell_type": "code",
   "execution_count": 76,
   "id": "da3723f8",
   "metadata": {},
   "outputs": [
    {
     "data": {
      "text/plain": [
       "42"
      ]
     },
     "execution_count": 76,
     "metadata": {},
     "output_type": "execute_result"
    }
   ],
   "source": [
    "list1=[4,6,7,8,8,9]\n",
    "reduce(lambda x,y:x+y,list1)"
   ]
  },
  {
   "cell_type": "code",
   "execution_count": 81,
   "id": "b2f119d3",
   "metadata": {},
   "outputs": [
    {
     "data": {
      "text/plain": [
       "0.00016534391534391533"
      ]
     },
     "execution_count": 81,
     "metadata": {},
     "output_type": "execute_result"
    }
   ],
   "source": [
    "list1=[4,6,7,8,8,9]\n",
    "reduce(lambda x,y:x/y,list1)"
   ]
  },
  {
   "cell_type": "code",
   "execution_count": 82,
   "id": "5c29f1b7",
   "metadata": {},
   "outputs": [
    {
     "ename": "SyntaxError",
     "evalue": "invalid syntax (2513802224.py, line 2)",
     "output_type": "error",
     "traceback": [
      "\u001b[1;36m  Input \u001b[1;32mIn [82]\u001b[1;36m\u001b[0m\n\u001b[1;33m    reduce(lambda x,y)\u001b[0m\n\u001b[1;37m                     ^\u001b[0m\n\u001b[1;31mSyntaxError\u001b[0m\u001b[1;31m:\u001b[0m invalid syntax\n"
     ]
    }
   ],
   "source": [
    "list3=[2,3,4,5,6,2]\n",
    "reduce(lambda x,y)"
   ]
  },
  {
   "cell_type": "code",
   "execution_count": 83,
   "id": "a7575a12",
   "metadata": {},
   "outputs": [
    {
     "ename": "TypeError",
     "evalue": "<lambda>() missing 1 required positional argument: 'z'",
     "output_type": "error",
     "traceback": [
      "\u001b[1;31m---------------------------------------------------------------------------\u001b[0m",
      "\u001b[1;31mTypeError\u001b[0m                                 Traceback (most recent call last)",
      "Input \u001b[1;32mIn [83]\u001b[0m, in \u001b[0;36m<cell line: 2>\u001b[1;34m()\u001b[0m\n\u001b[0;32m      1\u001b[0m list2\u001b[38;5;241m=\u001b[39m[\u001b[38;5;241m1\u001b[39m,\u001b[38;5;241m2\u001b[39m,\u001b[38;5;241m3\u001b[39m,\u001b[38;5;241m4\u001b[39m,\u001b[38;5;241m5\u001b[39m,\u001b[38;5;241m5\u001b[39m,\u001b[38;5;241m6\u001b[39m,\u001b[38;5;241m6\u001b[39m,\u001b[38;5;241m7\u001b[39m,\u001b[38;5;241m9\u001b[39m]\n\u001b[1;32m----> 2\u001b[0m \u001b[43mreduce\u001b[49m\u001b[43m(\u001b[49m\u001b[38;5;28;43;01mlambda\u001b[39;49;00m\u001b[43m \u001b[49m\u001b[43mx\u001b[49m\u001b[43m,\u001b[49m\u001b[43my\u001b[49m\u001b[43m,\u001b[49m\u001b[43mz\u001b[49m\u001b[43m:\u001b[49m\u001b[43mx\u001b[49m\u001b[38;5;241;43m+\u001b[39;49m\u001b[43my\u001b[49m\u001b[38;5;241;43m+\u001b[39;49m\u001b[43mz\u001b[49m\u001b[43m,\u001b[49m\u001b[43mlist2\u001b[49m\u001b[43m)\u001b[49m\n",
      "\u001b[1;31mTypeError\u001b[0m: <lambda>() missing 1 required positional argument: 'z'"
     ]
    }
   ],
   "source": [
    "list2=[1,2,3,4,5,5,6,6,7,9]\n",
    "reduce(lambda x,y,z:x+y+z,list2)## Reduce only work for 2 arguments"
   ]
  },
  {
   "cell_type": "code",
   "execution_count": 84,
   "id": "7ab5df10",
   "metadata": {},
   "outputs": [
    {
     "name": "stdout",
     "output_type": "stream",
     "text": [
      "20\n"
     ]
    }
   ],
   "source": [
    "def mydata(n):\n",
    "    return lambda a,b:(a+b)*n\n",
    "var=mydata(4)\n",
    "print(var(2,3))"
   ]
  },
  {
   "cell_type": "markdown",
   "id": "12cca4ae",
   "metadata": {},
   "source": [
    "## Map function"
   ]
  },
  {
   "cell_type": "code",
   "execution_count": 85,
   "id": "9e43ff3d",
   "metadata": {},
   "outputs": [],
   "source": [
    "list_test=[3,4,5,6,7,8,9,9]"
   ]
  },
  {
   "cell_type": "code",
   "execution_count": 86,
   "id": "acfe36e1",
   "metadata": {},
   "outputs": [
    {
     "data": {
      "text/plain": [
       "[9, 16, 25, 36, 49, 64, 81, 81]"
      ]
     },
     "execution_count": 86,
     "metadata": {},
     "output_type": "execute_result"
    }
   ],
   "source": [
    "list(map(lambda x:x**2,list_test))"
   ]
  },
  {
   "cell_type": "code",
   "execution_count": 87,
   "id": "7697e650",
   "metadata": {},
   "outputs": [],
   "source": [
    "a = [1,2,3,4,5]\n",
    "b = [5,6,7,4,3]\n",
    "c = [6,7,8,5,6,5,4]"
   ]
  },
  {
   "cell_type": "code",
   "execution_count": 89,
   "id": "3b46b395",
   "metadata": {},
   "outputs": [],
   "source": [
    "def summation(x,y,z):\n",
    "    return x+y+z"
   ]
  },
  {
   "cell_type": "code",
   "execution_count": 92,
   "id": "1a65a249",
   "metadata": {},
   "outputs": [
    {
     "data": {
      "text/plain": [
       "[12, 15, 18, 13, 14]"
      ]
     },
     "execution_count": 92,
     "metadata": {},
     "output_type": "execute_result"
    }
   ],
   "source": [
    "list(map(summation,a,b,c))"
   ]
  },
  {
   "cell_type": "code",
   "execution_count": 93,
   "id": "116f02c0",
   "metadata": {},
   "outputs": [],
   "source": [
    "list_test = (4,5,6,7,8,6,7,8,8)"
   ]
  },
  {
   "cell_type": "code",
   "execution_count": 94,
   "id": "908c131f",
   "metadata": {},
   "outputs": [
    {
     "data": {
      "text/plain": [
       "([1, 2, 3, 4, 5], [5, 6, 7, 4, 3])"
      ]
     },
     "execution_count": 94,
     "metadata": {},
     "output_type": "execute_result"
    }
   ],
   "source": [
    "a,b"
   ]
  },
  {
   "cell_type": "code",
   "execution_count": 96,
   "id": "323bfbaf",
   "metadata": {},
   "outputs": [
    {
     "data": {
      "text/plain": [
       "[6, 7, 8, 5, 6, 5, 4]"
      ]
     },
     "execution_count": 96,
     "metadata": {},
     "output_type": "execute_result"
    }
   ],
   "source": [
    "c"
   ]
  },
  {
   "cell_type": "code",
   "execution_count": 97,
   "id": "5cff7960",
   "metadata": {},
   "outputs": [
    {
     "data": {
      "text/plain": [
       "[0, 1, 2, 3, 4, 5, 6, 7, 8, 9]"
      ]
     },
     "execution_count": 97,
     "metadata": {},
     "output_type": "execute_result"
    }
   ],
   "source": [
    "list(range(0,10))"
   ]
  },
  {
   "cell_type": "code",
   "execution_count": 98,
   "id": "1f9e66b6",
   "metadata": {},
   "outputs": [],
   "source": [
    "import os"
   ]
  },
  {
   "cell_type": "code",
   "execution_count": 99,
   "id": "eb88df50",
   "metadata": {},
   "outputs": [
    {
     "data": {
      "text/plain": [
       "'F:\\\\FSDA\\\\live\\\\python1'"
      ]
     },
     "execution_count": 99,
     "metadata": {},
     "output_type": "execute_result"
    }
   ],
   "source": [
    "os.getcwd()"
   ]
  },
  {
   "cell_type": "code",
   "execution_count": null,
   "id": "0787ad8a",
   "metadata": {},
   "outputs": [],
   "source": []
  }
 ],
 "metadata": {
  "kernelspec": {
   "display_name": "Python 3 (ipykernel)",
   "language": "python",
   "name": "python3"
  },
  "language_info": {
   "codemirror_mode": {
    "name": "ipython",
    "version": 3
   },
   "file_extension": ".py",
   "mimetype": "text/x-python",
   "name": "python",
   "nbconvert_exporter": "python",
   "pygments_lexer": "ipython3",
   "version": "3.9.12"
  }
 },
 "nbformat": 4,
 "nbformat_minor": 5
}
