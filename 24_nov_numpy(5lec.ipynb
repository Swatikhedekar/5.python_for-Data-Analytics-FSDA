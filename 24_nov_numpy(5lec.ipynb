{
 "cells": [
  {
   "cell_type": "markdown",
   "id": "0564530a",
   "metadata": {},
   "source": [
    "## Numpy library\n",
    "* NumPy is a Open Source Python package. It stands for **Numerical Python**. It is a library consisting of multidimensional array objects and a collection of routines for processing of array.\n",
    "\n",
    "- NumPy is the fundamental package for scientific computing with Python , having following important functionalities: \n",
    "     - A powerful N-dimensional array object\n",
    "     - A sophisticated (broadcasting) functions\n",
    "     - Contains tools for integrating C/C++ and Fortran code\n",
    "     - Have  useful  linear algebra, Fourier transform, and random number capabilities\n",
    "\n",
    "### Why NUMpy?\n",
    "\n",
    "- Mathematical and logical operations on **arrays**.\n",
    "\n",
    "- Efficient storage and manipulation of **numerical arrays** is which is fundamental in  the process of  **data science**.\n",
    "\n",
    "- NumPy arrays form the core of nearly the entire **ecosystem** of **data science** tools in Python,\n",
    "\n"
   ]
  },
  {
   "cell_type": "markdown",
   "id": "c3023e22",
   "metadata": {},
   "source": [
    "## Installation\n",
    "- **Anaconda**: A free distribution of Python with scientific packages. Supports Linux, Windows and Mac \n",
    "     \n",
    "        To install numpy type : conda install -c anaconda numpy\n",
    "\n",
    "\n",
    "- **pip**:Most major projects upload official packages to the Python Package index. They can be installed on most operating systems using Python’s standard pip package manager.\n",
    "\n",
    "You can install packages via one of the following Commands:\n",
    "\n",
    "     python -m pip install --user numpy scipy matplotlib ipython jupyter pandas sympy nose\n",
    "     \n",
    "     pip install numpy"
   ]
  },
  {
   "cell_type": "markdown",
   "id": "11d94344",
   "metadata": {},
   "source": [
    "## Importing Nympy & Checking Version\n"
   ]
  },
  {
   "cell_type": "code",
   "execution_count": 1,
   "id": "6efb0837",
   "metadata": {},
   "outputs": [
    {
     "name": "stdout",
     "output_type": "stream",
     "text": [
      "Defaulting to user installation because normal site-packages is not writeable\n",
      "Requirement already satisfied: numpy in f:\\my apps\\anaconda\\conda\\lib\\site-packages (1.21.5)\n",
      "Note: you may need to restart the kernel to use updated packages.\n"
     ]
    }
   ],
   "source": [
    "pip install numpy"
   ]
  },
  {
   "cell_type": "code",
   "execution_count": 2,
   "id": "54cb3cf3",
   "metadata": {},
   "outputs": [],
   "source": [
    "# import numpy & pandas\n",
    "import numpy as np\n"
   ]
  },
  {
   "cell_type": "code",
   "execution_count": 3,
   "id": "8c142d56",
   "metadata": {},
   "outputs": [
    {
     "data": {
      "text/plain": [
       "'1.21.5'"
      ]
     },
     "execution_count": 3,
     "metadata": {},
     "output_type": "execute_result"
    }
   ],
   "source": [
    "np.__version__"
   ]
  },
  {
   "cell_type": "markdown",
   "id": "295dc53f",
   "metadata": {},
   "source": [
    "## Bounding numpy package to local variable\n",
    "\n",
    "The numpy package is bound to the local variable numpy. The **import as** syntax simply allows you to **bind the import to the local variable** name of your choice (usually to avoid name collisions, shorten verbose module names, or standardize access to modules with compatible APIs)."
   ]
  },
  {
   "cell_type": "code",
   "execution_count": 4,
   "id": "cdcaf311",
   "metadata": {},
   "outputs": [],
   "source": [
    "a =(1,2,3,4,5)"
   ]
  },
  {
   "cell_type": "code",
   "execution_count": 5,
   "id": "9f19b2bc",
   "metadata": {},
   "outputs": [
    {
     "data": {
      "text/plain": [
       "tuple"
      ]
     },
     "execution_count": 5,
     "metadata": {},
     "output_type": "execute_result"
    }
   ],
   "source": [
    "type(a)"
   ]
  },
  {
   "cell_type": "code",
   "execution_count": 6,
   "id": "4254619f",
   "metadata": {},
   "outputs": [
    {
     "name": "stdout",
     "output_type": "stream",
     "text": [
      "[1 2 3 4 5]\n"
     ]
    }
   ],
   "source": [
    "b=np.array(a)\n",
    "print (b)"
   ]
  },
  {
   "cell_type": "markdown",
   "id": "c72fe3ba",
   "metadata": {},
   "source": [
    "## Speed Comaprison numpy vs core python"
   ]
  },
  {
   "cell_type": "code",
   "execution_count": 7,
   "id": "e1d4ea42",
   "metadata": {},
   "outputs": [],
   "source": [
    "import time"
   ]
  },
  {
   "cell_type": "code",
   "execution_count": 8,
   "id": "84cda296",
   "metadata": {},
   "outputs": [
    {
     "name": "stdout",
     "output_type": "stream",
     "text": [
      "1671194303.0148556\n"
     ]
    }
   ],
   "source": [
    "import time as tm\n",
    "time_python =tm.time()\n",
    "print(time_python)"
   ]
  },
  {
   "cell_type": "code",
   "execution_count": 9,
   "id": "8b991881",
   "metadata": {},
   "outputs": [
    {
     "name": "stdout",
     "output_type": "stream",
     "text": [
      "pure python version= 0.889998197555542\n",
      "numpy = 0.02199721336364746\n"
     ]
    }
   ],
   "source": [
    "import time \n",
    "import numpy as np\n",
    "size_1=1000000\n",
    "def pure_python_version():\n",
    "    time_python =time.time()\n",
    "    list1=range(size_1)\n",
    "    list2=range(size_1)\n",
    "    sum_list=[list1[i]+list2[i] for i in range(len(list1))]\n",
    "    return time.time() - time_python\n",
    "\n",
    "def numpy_version():\n",
    "    time_numpy = time.time()\n",
    "    array1 = np.arange(size_1)\n",
    "    array2 =  np.arange(size_1)\n",
    "    sum_array = array1 + array2\n",
    "    return time.time() - time_numpy\n",
    "python_time = pure_python_version()\n",
    "numpy_time  = numpy_version()\n",
    "\n",
    "print(\"pure python version=\",format(python_time))\n",
    "print(\"numpy =\",format(numpy_time))\n"
   ]
  },
  {
   "cell_type": "markdown",
   "id": "53b9edc9",
   "metadata": {},
   "source": [
    "# Creating Arrays\n",
    "\n",
    "The basic ndarray is created using an array function in NumPy which creates an ndarray from any object exposing array interface, or from any method that returns an array."
   ]
  },
  {
   "cell_type": "code",
   "execution_count": 10,
   "id": "bf712ccb",
   "metadata": {},
   "outputs": [],
   "source": [
    "my_list=[2,3,4,6,7,8,'Numpy']"
   ]
  },
  {
   "cell_type": "code",
   "execution_count": 11,
   "id": "1931e07b",
   "metadata": {},
   "outputs": [
    {
     "data": {
      "text/plain": [
       "[2, 3, 4, 6, 7, 8, 'Numpy']"
      ]
     },
     "execution_count": 11,
     "metadata": {},
     "output_type": "execute_result"
    }
   ],
   "source": [
    "my_list"
   ]
  },
  {
   "cell_type": "code",
   "execution_count": 12,
   "id": "ee4517e2",
   "metadata": {},
   "outputs": [
    {
     "data": {
      "text/plain": [
       "array(['2', '3', '4', '6', '7', '8', 'Numpy'], dtype='<U11')"
      ]
     },
     "execution_count": 12,
     "metadata": {},
     "output_type": "execute_result"
    }
   ],
   "source": [
    "my_array=np.array(my_list)\n",
    "my_array"
   ]
  },
  {
   "cell_type": "code",
   "execution_count": 13,
   "id": "c85e1d3d",
   "metadata": {},
   "outputs": [
    {
     "data": {
      "text/plain": [
       "dtype('<U11')"
      ]
     },
     "execution_count": 13,
     "metadata": {},
     "output_type": "execute_result"
    }
   ],
   "source": [
    "my_array.dtype"
   ]
  },
  {
   "cell_type": "code",
   "execution_count": 14,
   "id": "4596b194",
   "metadata": {},
   "outputs": [],
   "source": [
    "array_2 = [[1,2,3],[4,5,6],[7,8,9]]"
   ]
  },
  {
   "cell_type": "code",
   "execution_count": 15,
   "id": "9a508062",
   "metadata": {},
   "outputs": [
    {
     "data": {
      "text/plain": [
       "[[1, 2, 3], [4, 5, 6], [7, 8, 9]]"
      ]
     },
     "execution_count": 15,
     "metadata": {},
     "output_type": "execute_result"
    }
   ],
   "source": [
    "array_2"
   ]
  },
  {
   "cell_type": "code",
   "execution_count": 16,
   "id": "24bbc1a8",
   "metadata": {},
   "outputs": [
    {
     "data": {
      "text/plain": [
       "list"
      ]
     },
     "execution_count": 16,
     "metadata": {},
     "output_type": "execute_result"
    }
   ],
   "source": [
    "type(array_2)"
   ]
  },
  {
   "cell_type": "code",
   "execution_count": 17,
   "id": "d70732a2",
   "metadata": {},
   "outputs": [
    {
     "data": {
      "text/plain": [
       "array([[1, 2, 3],\n",
       "       [4, 5, 6],\n",
       "       [7, 8, 9]])"
      ]
     },
     "execution_count": 17,
     "metadata": {},
     "output_type": "execute_result"
    }
   ],
   "source": [
    "array_3= np.array(array_2)\n",
    "array_3"
   ]
  },
  {
   "cell_type": "code",
   "execution_count": 18,
   "id": "b16fa596",
   "metadata": {},
   "outputs": [
    {
     "data": {
      "text/plain": [
       "2"
      ]
     },
     "execution_count": 18,
     "metadata": {},
     "output_type": "execute_result"
    }
   ],
   "source": [
    "np.ndim(array_3)"
   ]
  },
  {
   "cell_type": "code",
   "execution_count": 19,
   "id": "c7e9e84c",
   "metadata": {},
   "outputs": [
    {
     "data": {
      "text/plain": [
       "dtype('int32')"
      ]
     },
     "execution_count": 19,
     "metadata": {},
     "output_type": "execute_result"
    }
   ],
   "source": [
    "array_3.dtype"
   ]
  },
  {
   "cell_type": "code",
   "execution_count": 20,
   "id": "c143dc74",
   "metadata": {},
   "outputs": [
    {
     "data": {
      "text/plain": [
       "numpy.ndarray"
      ]
     },
     "execution_count": 20,
     "metadata": {},
     "output_type": "execute_result"
    }
   ],
   "source": [
    "type(array_3)"
   ]
  },
  {
   "cell_type": "code",
   "execution_count": 21,
   "id": "f4bf2a6c",
   "metadata": {},
   "outputs": [
    {
     "name": "stdout",
     "output_type": "stream",
     "text": [
      "[[1 2 3 7 5 1]]\n"
     ]
    },
    {
     "data": {
      "text/plain": [
       "2"
      ]
     },
     "execution_count": 21,
     "metadata": {},
     "output_type": "execute_result"
    }
   ],
   "source": [
    "a = np.array([1, 2, 3,7,5,1], ndmin = 2) \n",
    "print (a)\n",
    "np.ndim(a)"
   ]
  },
  {
   "cell_type": "code",
   "execution_count": 22,
   "id": "d26f2427",
   "metadata": {},
   "outputs": [
    {
     "name": "stdout",
     "output_type": "stream",
     "text": [
      "[1 2 3 7 5 1]\n"
     ]
    },
    {
     "data": {
      "text/plain": [
       "1"
      ]
     },
     "execution_count": 22,
     "metadata": {},
     "output_type": "execute_result"
    }
   ],
   "source": [
    "a = np.array([1, 2, 3,7,5,1], ndmin = 1) \n",
    "print (a)\n",
    "np.ndim(a)"
   ]
  },
  {
   "cell_type": "code",
   "execution_count": 23,
   "id": "9d81ac4e",
   "metadata": {},
   "outputs": [
    {
     "name": "stdout",
     "output_type": "stream",
     "text": [
      "[[[1 2 3 7 5 1]]]\n"
     ]
    },
    {
     "data": {
      "text/plain": [
       "3"
      ]
     },
     "execution_count": 23,
     "metadata": {},
     "output_type": "execute_result"
    }
   ],
   "source": [
    "a = np.array([1, 2, 3,7,5,1], ndmin = 3) \n",
    "print (a)\n",
    "np.ndim(a)"
   ]
  },
  {
   "cell_type": "code",
   "execution_count": 24,
   "id": "c40cf990",
   "metadata": {},
   "outputs": [
    {
     "data": {
      "text/plain": [
       "numpy.ndarray"
      ]
     },
     "execution_count": 24,
     "metadata": {},
     "output_type": "execute_result"
    }
   ],
   "source": [
    "type(a)"
   ]
  },
  {
   "cell_type": "code",
   "execution_count": 25,
   "id": "07538ae3",
   "metadata": {},
   "outputs": [
    {
     "name": "stdout",
     "output_type": "stream",
     "text": [
      "[1.+0.j 2.+0.j 3.+0.j]\n"
     ]
    }
   ],
   "source": [
    "a = np.array([1,2,3],dtype=complex)\n",
    "print(a)"
   ]
  },
  {
   "cell_type": "code",
   "execution_count": 26,
   "id": "778f6fd6",
   "metadata": {},
   "outputs": [
    {
     "name": "stdout",
     "output_type": "stream",
     "text": [
      "[1 2 3]\n"
     ]
    }
   ],
   "source": [
    "a = np.array([1, 2, 3]) \n",
    "print (a)"
   ]
  },
  {
   "cell_type": "code",
   "execution_count": 27,
   "id": "1437c238",
   "metadata": {},
   "outputs": [
    {
     "data": {
      "text/plain": [
       "numpy.ndarray"
      ]
     },
     "execution_count": 27,
     "metadata": {},
     "output_type": "execute_result"
    }
   ],
   "source": [
    "type(a)"
   ]
  },
  {
   "cell_type": "code",
   "execution_count": 28,
   "id": "c5c4c918",
   "metadata": {},
   "outputs": [
    {
     "data": {
      "text/plain": [
       "dtype('int32')"
      ]
     },
     "execution_count": 28,
     "metadata": {},
     "output_type": "execute_result"
    }
   ],
   "source": [
    "a.dtype"
   ]
  },
  {
   "cell_type": "code",
   "execution_count": 29,
   "id": "2325cf63",
   "metadata": {},
   "outputs": [
    {
     "data": {
      "text/plain": [
       "array([[1, 2, 3],\n",
       "       [4, 5, 6],\n",
       "       [7, 8, 9]])"
      ]
     },
     "execution_count": 29,
     "metadata": {},
     "output_type": "execute_result"
    }
   ],
   "source": [
    "array_3"
   ]
  },
  {
   "cell_type": "code",
   "execution_count": 30,
   "id": "d8f50482",
   "metadata": {},
   "outputs": [
    {
     "data": {
      "text/plain": [
       "3"
      ]
     },
     "execution_count": 30,
     "metadata": {},
     "output_type": "execute_result"
    }
   ],
   "source": [
    "len(array_3)"
   ]
  },
  {
   "cell_type": "code",
   "execution_count": 31,
   "id": "a17d29f7",
   "metadata": {},
   "outputs": [
    {
     "data": {
      "text/plain": [
       "array([7, 8, 9])"
      ]
     },
     "execution_count": 31,
     "metadata": {},
     "output_type": "execute_result"
    }
   ],
   "source": [
    "array_3[2]"
   ]
  },
  {
   "cell_type": "code",
   "execution_count": 32,
   "id": "ec1444d5",
   "metadata": {},
   "outputs": [
    {
     "data": {
      "text/plain": [
       "6"
      ]
     },
     "execution_count": 32,
     "metadata": {},
     "output_type": "execute_result"
    }
   ],
   "source": [
    "array_3[1][-1]"
   ]
  },
  {
   "cell_type": "code",
   "execution_count": 33,
   "id": "2b02a745",
   "metadata": {},
   "outputs": [
    {
     "data": {
      "text/plain": [
       "array([7, 8, 9])"
      ]
     },
     "execution_count": 33,
     "metadata": {},
     "output_type": "execute_result"
    }
   ],
   "source": [
    "array_3[2] #Indexing 3rd row"
   ]
  },
  {
   "cell_type": "code",
   "execution_count": 34,
   "id": "eff1957f",
   "metadata": {},
   "outputs": [
    {
     "data": {
      "text/plain": [
       "array([1, 2, 3])"
      ]
     },
     "execution_count": 34,
     "metadata": {},
     "output_type": "execute_result"
    }
   ],
   "source": [
    "array_3[0]"
   ]
  },
  {
   "cell_type": "code",
   "execution_count": 35,
   "id": "eaad6f6c",
   "metadata": {},
   "outputs": [
    {
     "data": {
      "text/plain": [
       "array([2, 5, 8])"
      ]
     },
     "execution_count": 35,
     "metadata": {},
     "output_type": "execute_result"
    }
   ],
   "source": [
    "array_3[:,1] # Acessing Column"
   ]
  },
  {
   "cell_type": "code",
   "execution_count": 36,
   "id": "2b56bd15",
   "metadata": {},
   "outputs": [
    {
     "data": {
      "text/plain": [
       "array([7, 8, 9])"
      ]
     },
     "execution_count": 36,
     "metadata": {},
     "output_type": "execute_result"
    }
   ],
   "source": [
    "array_3[2,:] # Acessing Column"
   ]
  },
  {
   "cell_type": "code",
   "execution_count": 37,
   "id": "ae47776d",
   "metadata": {},
   "outputs": [
    {
     "data": {
      "text/plain": [
       "array([[1, 2, 3],\n",
       "       [4, 5, 6],\n",
       "       [7, 8, 9]])"
      ]
     },
     "execution_count": 37,
     "metadata": {},
     "output_type": "execute_result"
    }
   ],
   "source": [
    "array_3"
   ]
  },
  {
   "cell_type": "code",
   "execution_count": 38,
   "id": "5490c0ef",
   "metadata": {},
   "outputs": [
    {
     "data": {
      "text/plain": [
       "numpy.ndarray"
      ]
     },
     "execution_count": 38,
     "metadata": {},
     "output_type": "execute_result"
    }
   ],
   "source": [
    "type(array_3)"
   ]
  },
  {
   "cell_type": "code",
   "execution_count": 39,
   "id": "ca84ddbb",
   "metadata": {},
   "outputs": [
    {
     "data": {
      "text/plain": [
       "array([[6],\n",
       "       [9]])"
      ]
     },
     "execution_count": 39,
     "metadata": {},
     "output_type": "execute_result"
    }
   ],
   "source": [
    "array_3[1:3,2:3]"
   ]
  },
  {
   "cell_type": "code",
   "execution_count": 40,
   "id": "beed4dc2",
   "metadata": {},
   "outputs": [
    {
     "data": {
      "text/plain": [
       "2"
      ]
     },
     "execution_count": 40,
     "metadata": {},
     "output_type": "execute_result"
    }
   ],
   "source": [
    "array_3[0,1] # (row"
   ]
  },
  {
   "cell_type": "markdown",
   "id": "45f101f8",
   "metadata": {},
   "source": [
    "## Array Atrributes\n",
    "Numpy Arrays are conveinent and fast as compared to Python Lists. 1.Shape(no of rows & columns)"
   ]
  },
  {
   "cell_type": "code",
   "execution_count": 41,
   "id": "ccbc3e42",
   "metadata": {},
   "outputs": [
    {
     "data": {
      "text/plain": [
       "(3, 3)"
      ]
     },
     "execution_count": 41,
     "metadata": {},
     "output_type": "execute_result"
    }
   ],
   "source": [
    "array_3.shape #Rows*Column\n"
   ]
  },
  {
   "cell_type": "code",
   "execution_count": 42,
   "id": "b645d7ca",
   "metadata": {},
   "outputs": [
    {
     "data": {
      "text/plain": [
       "array([[1, 2, 3],\n",
       "       [4, 5, 6],\n",
       "       [7, 8, 9]])"
      ]
     },
     "execution_count": 42,
     "metadata": {},
     "output_type": "execute_result"
    }
   ],
   "source": [
    "array_3"
   ]
  },
  {
   "cell_type": "code",
   "execution_count": 43,
   "id": "f36a30c1",
   "metadata": {},
   "outputs": [
    {
     "data": {
      "text/plain": [
       "2"
      ]
     },
     "execution_count": 43,
     "metadata": {},
     "output_type": "execute_result"
    }
   ],
   "source": [
    "array_3.ndim"
   ]
  },
  {
   "cell_type": "markdown",
   "id": "db1e1dc5",
   "metadata": {},
   "source": [
    "- **ndim** for checking dimension of array"
   ]
  },
  {
   "cell_type": "code",
   "execution_count": 44,
   "id": "d14f005b",
   "metadata": {},
   "outputs": [
    {
     "data": {
      "text/plain": [
       "dtype('int32')"
      ]
     },
     "execution_count": 44,
     "metadata": {},
     "output_type": "execute_result"
    }
   ],
   "source": [
    "array_3.dtype"
   ]
  },
  {
   "cell_type": "markdown",
   "id": "28bc27aa",
   "metadata": {},
   "source": [
    "- **dtype** for checking data type of array "
   ]
  },
  {
   "cell_type": "markdown",
   "id": "874ced99",
   "metadata": {},
   "source": [
    "### Array Initilization\n"
   ]
  },
  {
   "cell_type": "code",
   "execution_count": 45,
   "id": "de5422b9",
   "metadata": {},
   "outputs": [
    {
     "data": {
      "text/plain": [
       "array([1, 2, 3, 4, 5, 6, 7, 8, 9])"
      ]
     },
     "execution_count": 45,
     "metadata": {},
     "output_type": "execute_result"
    }
   ],
   "source": [
    "np.arange(1,10)"
   ]
  },
  {
   "cell_type": "code",
   "execution_count": 46,
   "id": "801e7874",
   "metadata": {},
   "outputs": [
    {
     "data": {
      "text/plain": [
       "array([1, 4, 7])"
      ]
     },
     "execution_count": 46,
     "metadata": {},
     "output_type": "execute_result"
    }
   ],
   "source": [
    "np.arange(1,10,3) #(start,end,space)"
   ]
  },
  {
   "cell_type": "code",
   "execution_count": 47,
   "id": "6e837733",
   "metadata": {},
   "outputs": [
    {
     "data": {
      "text/plain": [
       "array([0, 0, 0, 0, 0, 0, 0, 0, 0, 0])"
      ]
     },
     "execution_count": 47,
     "metadata": {},
     "output_type": "execute_result"
    }
   ],
   "source": [
    "np.zeros(10,dtype=int)"
   ]
  },
  {
   "cell_type": "code",
   "execution_count": 48,
   "id": "95c2008d",
   "metadata": {},
   "outputs": [
    {
     "data": {
      "text/plain": [
       "array([[0, 0],\n",
       "       [0, 0],\n",
       "       [0, 0]])"
      ]
     },
     "execution_count": 48,
     "metadata": {},
     "output_type": "execute_result"
    }
   ],
   "source": [
    "np.zeros((3,2),dtype=int)"
   ]
  },
  {
   "cell_type": "code",
   "execution_count": 49,
   "id": "aaafb6d5",
   "metadata": {},
   "outputs": [
    {
     "data": {
      "text/plain": [
       "array([[1, 1, 1],\n",
       "       [1, 1, 1]])"
      ]
     },
     "execution_count": 49,
     "metadata": {},
     "output_type": "execute_result"
    }
   ],
   "source": [
    "np.ones((2,3),dtype=int)"
   ]
  },
  {
   "cell_type": "code",
   "execution_count": 50,
   "id": "32b58852",
   "metadata": {},
   "outputs": [
    {
     "data": {
      "text/plain": [
       "array([0.        , 0.44444444, 0.88888889, 1.33333333, 1.77777778,\n",
       "       2.22222222, 2.66666667, 3.11111111, 3.55555556, 4.        ])"
      ]
     },
     "execution_count": 50,
     "metadata": {},
     "output_type": "execute_result"
    }
   ],
   "source": [
    "np.linspace(0,4,10) # (start,end,no of values)"
   ]
  },
  {
   "cell_type": "code",
   "execution_count": 51,
   "id": "4f345dff",
   "metadata": {},
   "outputs": [
    {
     "data": {
      "text/plain": [
       "array([3.        , 3.11111111, 3.22222222, 3.33333333, 3.44444444,\n",
       "       3.55555556, 3.66666667, 3.77777778, 3.88888889, 4.        ])"
      ]
     },
     "execution_count": 51,
     "metadata": {},
     "output_type": "execute_result"
    }
   ],
   "source": [
    "np.linspace(3,4,10)"
   ]
  },
  {
   "cell_type": "code",
   "execution_count": 52,
   "id": "faf0d70e",
   "metadata": {},
   "outputs": [
    {
     "data": {
      "text/plain": [
       "array([[3.        , 3.11111111],\n",
       "       [3.22222222, 3.33333333],\n",
       "       [3.44444444, 3.55555556],\n",
       "       [3.66666667, 3.77777778],\n",
       "       [3.88888889, 4.        ]])"
      ]
     },
     "execution_count": 52,
     "metadata": {},
     "output_type": "execute_result"
    }
   ],
   "source": [
    "np.linspace(3,4,10).reshape(5,2)"
   ]
  },
  {
   "cell_type": "code",
   "execution_count": 53,
   "id": "c5154dd8",
   "metadata": {},
   "outputs": [
    {
     "data": {
      "text/plain": [
       "array([[1., 0., 0., 0.],\n",
       "       [0., 1., 0., 0.],\n",
       "       [0., 0., 1., 0.],\n",
       "       [0., 0., 0., 1.]])"
      ]
     },
     "execution_count": 53,
     "metadata": {},
     "output_type": "execute_result"
    }
   ],
   "source": [
    "np.eye(4,4) #Identity matrix"
   ]
  },
  {
   "cell_type": "markdown",
   "id": "6886ecd2",
   "metadata": {},
   "source": [
    "## Array Initilization with Random numbers\n",
    "In various applications( like assigning weights in Artificial Neural Networks) arrays need to be initialised randomly. \n",
    "for this purpose there are various predefined functions in Numpy(reshape and random)\n"
   ]
  },
  {
   "cell_type": "code",
   "execution_count": 54,
   "id": "35304609",
   "metadata": {},
   "outputs": [
    {
     "data": {
      "text/plain": [
       "array([0.45295108, 0.95976273, 0.57593743])"
      ]
     },
     "execution_count": 54,
     "metadata": {},
     "output_type": "execute_result"
    }
   ],
   "source": [
    "np.random.rand(3)"
   ]
  },
  {
   "cell_type": "code",
   "execution_count": 55,
   "id": "c1f99c9d",
   "metadata": {},
   "outputs": [
    {
     "data": {
      "text/plain": [
       "38"
      ]
     },
     "execution_count": 55,
     "metadata": {},
     "output_type": "execute_result"
    }
   ],
   "source": [
    "np.random.randint(100)"
   ]
  },
  {
   "cell_type": "code",
   "execution_count": 56,
   "id": "fb4b7710",
   "metadata": {},
   "outputs": [
    {
     "ename": "ValueError",
     "evalue": "high is out of bounds for int32",
     "output_type": "error",
     "traceback": [
      "\u001b[1;31m---------------------------------------------------------------------------\u001b[0m",
      "\u001b[1;31mValueError\u001b[0m                                Traceback (most recent call last)",
      "Input \u001b[1;32mIn [56]\u001b[0m, in \u001b[0;36m<cell line: 1>\u001b[1;34m()\u001b[0m\n\u001b[1;32m----> 1\u001b[0m \u001b[43mnp\u001b[49m\u001b[38;5;241;43m.\u001b[39;49m\u001b[43mrandom\u001b[49m\u001b[38;5;241;43m.\u001b[39;49m\u001b[43mrandint\u001b[49m\u001b[43m(\u001b[49m\u001b[38;5;241;43m1\u001b[39;49m\u001b[43m,\u001b[49m\u001b[38;5;241;43m100000000000\u001b[39;49m\u001b[43m)\u001b[49m\n",
      "File \u001b[1;32mmtrand.pyx:746\u001b[0m, in \u001b[0;36mnumpy.random.mtrand.RandomState.randint\u001b[1;34m()\u001b[0m\n",
      "File \u001b[1;32m_bounded_integers.pyx:1336\u001b[0m, in \u001b[0;36mnumpy.random._bounded_integers._rand_int32\u001b[1;34m()\u001b[0m\n",
      "\u001b[1;31mValueError\u001b[0m: high is out of bounds for int32"
     ]
    }
   ],
   "source": [
    "np.random.randint(1,100000000000)"
   ]
  },
  {
   "cell_type": "code",
   "execution_count": 63,
   "id": "e7ecd7f6",
   "metadata": {},
   "outputs": [
    {
     "data": {
      "text/plain": [
       "array([[0.00661937, 0.83788099, 0.65607491],\n",
       "       [0.72359451, 0.74090724, 0.94889218]])"
      ]
     },
     "execution_count": 63,
     "metadata": {},
     "output_type": "execute_result"
    }
   ],
   "source": [
    "np.random.rand(2,3)"
   ]
  },
  {
   "cell_type": "code",
   "execution_count": 64,
   "id": "3fd510ca",
   "metadata": {},
   "outputs": [
    {
     "data": {
      "text/plain": [
       "array([[1, 2, 3, 4, 5, 6, 7, 8, 9]])"
      ]
     },
     "execution_count": 64,
     "metadata": {},
     "output_type": "execute_result"
    }
   ],
   "source": [
    "array_3.reshape(1,9)"
   ]
  },
  {
   "cell_type": "code",
   "execution_count": 65,
   "id": "6f4af15e",
   "metadata": {},
   "outputs": [
    {
     "data": {
      "text/plain": [
       "array([[0.06509505, 0.30611156, 0.17511689],\n",
       "       [0.70969827, 0.06733279, 0.64984903],\n",
       "       [0.09435516, 0.85724143, 0.87831862]])"
      ]
     },
     "execution_count": 65,
     "metadata": {},
     "output_type": "execute_result"
    }
   ],
   "source": [
    "np.random.rand(9).reshape(3,3)"
   ]
  },
  {
   "cell_type": "markdown",
   "id": "6e9ae7a5",
   "metadata": {},
   "source": [
    "# Indexing arrays"
   ]
  },
  {
   "cell_type": "code",
   "execution_count": 66,
   "id": "36e2eb69",
   "metadata": {},
   "outputs": [
    {
     "data": {
      "text/plain": [
       "array([ 1,  2,  3,  4,  5,  6,  7,  8,  9, 10, 11, 12, 13, 14])"
      ]
     },
     "execution_count": 66,
     "metadata": {},
     "output_type": "execute_result"
    }
   ],
   "source": [
    "array_1 = np.arange(1,15)\n",
    "array_1"
   ]
  },
  {
   "cell_type": "code",
   "execution_count": 67,
   "id": "7f7bb869",
   "metadata": {},
   "outputs": [
    {
     "data": {
      "text/plain": [
       "3"
      ]
     },
     "execution_count": 67,
     "metadata": {},
     "output_type": "execute_result"
    }
   ],
   "source": [
    "array_1[2]"
   ]
  },
  {
   "cell_type": "code",
   "execution_count": 68,
   "id": "6fe9875d",
   "metadata": {},
   "outputs": [
    {
     "data": {
      "text/plain": [
       "array([3, 4, 5, 6])"
      ]
     },
     "execution_count": 68,
     "metadata": {},
     "output_type": "execute_result"
    }
   ],
   "source": [
    "array_1[2:6]"
   ]
  },
  {
   "cell_type": "code",
   "execution_count": 69,
   "id": "5842d513",
   "metadata": {},
   "outputs": [
    {
     "data": {
      "text/plain": [
       "12"
      ]
     },
     "execution_count": 69,
     "metadata": {},
     "output_type": "execute_result"
    }
   ],
   "source": [
    "array_1[-3]"
   ]
  },
  {
   "cell_type": "code",
   "execution_count": 70,
   "id": "ef6dbede",
   "metadata": {},
   "outputs": [
    {
     "data": {
      "text/plain": [
       "array([ 1,  2,  3,  4,  5,  6,  7,  8,  9, 10, 11])"
      ]
     },
     "execution_count": 70,
     "metadata": {},
     "output_type": "execute_result"
    }
   ],
   "source": [
    "array_1[:-3] # before values"
   ]
  },
  {
   "cell_type": "code",
   "execution_count": 71,
   "id": "c6aa161b",
   "metadata": {},
   "outputs": [
    {
     "data": {
      "text/plain": [
       "array([12, 13, 14])"
      ]
     },
     "execution_count": 71,
     "metadata": {},
     "output_type": "execute_result"
    }
   ],
   "source": [
    "array_1[-3:] #after values"
   ]
  },
  {
   "cell_type": "code",
   "execution_count": 72,
   "id": "cafa2200",
   "metadata": {},
   "outputs": [],
   "source": [
    "array_1[2:6]=8 #mutable i.e to change the member value of array"
   ]
  },
  {
   "cell_type": "code",
   "execution_count": 73,
   "id": "3ef9fbd9",
   "metadata": {},
   "outputs": [
    {
     "data": {
      "text/plain": [
       "array([ 1,  2,  8,  8,  8,  8,  7,  8,  9, 10, 11, 12, 13, 14])"
      ]
     },
     "execution_count": 73,
     "metadata": {},
     "output_type": "execute_result"
    }
   ],
   "source": [
    "array_1"
   ]
  },
  {
   "cell_type": "code",
   "execution_count": 74,
   "id": "4c4d0f6b",
   "metadata": {},
   "outputs": [
    {
     "data": {
      "text/plain": [
       "[[1, 2, 3], [4, 5, 6], [7, 8, 9]]"
      ]
     },
     "execution_count": 74,
     "metadata": {},
     "output_type": "execute_result"
    }
   ],
   "source": [
    "array_2=[[1,2,3],[4,5,6],[7,8,9]]\n",
    "array_2"
   ]
  },
  {
   "cell_type": "code",
   "execution_count": 75,
   "id": "28560254",
   "metadata": {},
   "outputs": [
    {
     "data": {
      "text/plain": [
       "array([[1, 2, 3],\n",
       "       [4, 5, 6],\n",
       "       [7, 8, 9]])"
      ]
     },
     "execution_count": 75,
     "metadata": {},
     "output_type": "execute_result"
    }
   ],
   "source": [
    "np.array(array_2)"
   ]
  },
  {
   "cell_type": "code",
   "execution_count": 76,
   "id": "0742e676",
   "metadata": {},
   "outputs": [
    {
     "data": {
      "text/plain": [
       "array([[1., 0.],\n",
       "       [0., 1.],\n",
       "       [0., 0.],\n",
       "       [0., 0.]])"
      ]
     },
     "execution_count": 76,
     "metadata": {},
     "output_type": "execute_result"
    }
   ],
   "source": [
    "#import numpy as np\n",
    "np.eye(4,2)"
   ]
  },
  {
   "cell_type": "code",
   "execution_count": 77,
   "id": "467891cd",
   "metadata": {},
   "outputs": [
    {
     "data": {
      "text/plain": [
       "array([[1., 0., 0.],\n",
       "       [0., 1., 0.],\n",
       "       [0., 0., 1.]])"
      ]
     },
     "execution_count": 77,
     "metadata": {},
     "output_type": "execute_result"
    }
   ],
   "source": [
    "np.eye(3,3)"
   ]
  },
  {
   "cell_type": "code",
   "execution_count": 78,
   "id": "4f4ee43e",
   "metadata": {},
   "outputs": [
    {
     "data": {
      "text/plain": [
       "array([ 2, 18, 34])"
      ]
     },
     "execution_count": 78,
     "metadata": {},
     "output_type": "execute_result"
    }
   ],
   "source": [
    "np.arange(2,40,16)"
   ]
  },
  {
   "cell_type": "code",
   "execution_count": 79,
   "id": "3b8e07c3",
   "metadata": {},
   "outputs": [],
   "source": [
    "a=np.eye(3,3)"
   ]
  },
  {
   "cell_type": "code",
   "execution_count": 80,
   "id": "92850c2c",
   "metadata": {},
   "outputs": [
    {
     "data": {
      "text/plain": [
       "array([[0., 1., 0.],\n",
       "       [0., 0., 1.]])"
      ]
     },
     "execution_count": 80,
     "metadata": {},
     "output_type": "execute_result"
    }
   ],
   "source": [
    "a[1:3]"
   ]
  },
  {
   "cell_type": "code",
   "execution_count": 81,
   "id": "962e99db",
   "metadata": {},
   "outputs": [
    {
     "data": {
      "text/plain": [
       "array([], shape=(0, 3), dtype=float64)"
      ]
     },
     "execution_count": 81,
     "metadata": {},
     "output_type": "execute_result"
    }
   ],
   "source": [
    "a[1:0]"
   ]
  },
  {
   "cell_type": "code",
   "execution_count": 82,
   "id": "6cc2cc3d",
   "metadata": {},
   "outputs": [
    {
     "data": {
      "text/plain": [
       "array([[0., 1., 0.]])"
      ]
     },
     "execution_count": 82,
     "metadata": {},
     "output_type": "execute_result"
    }
   ],
   "source": [
    "a[1:2]\n"
   ]
  },
  {
   "cell_type": "code",
   "execution_count": 83,
   "id": "df5435cf",
   "metadata": {},
   "outputs": [
    {
     "data": {
      "text/plain": [
       "[[1, 2, 3], [4, 5, 6], [8, 8, 9]]"
      ]
     },
     "execution_count": 83,
     "metadata": {},
     "output_type": "execute_result"
    }
   ],
   "source": [
    "a=[[1,2,3],[4,5,6],[8,8,9]]\n",
    "z=np.array(a)\n",
    "a"
   ]
  },
  {
   "cell_type": "code",
   "execution_count": 84,
   "id": "8517a9c4",
   "metadata": {},
   "outputs": [
    {
     "data": {
      "text/plain": [
       "1"
      ]
     },
     "execution_count": 84,
     "metadata": {},
     "output_type": "execute_result"
    }
   ],
   "source": [
    "z.min()"
   ]
  },
  {
   "cell_type": "code",
   "execution_count": 85,
   "id": "e951159b",
   "metadata": {},
   "outputs": [
    {
     "data": {
      "text/plain": [
       "9"
      ]
     },
     "execution_count": 85,
     "metadata": {},
     "output_type": "execute_result"
    }
   ],
   "source": [
    "z.max()"
   ]
  },
  {
   "cell_type": "code",
   "execution_count": 86,
   "id": "551850f3",
   "metadata": {},
   "outputs": [
    {
     "data": {
      "text/plain": [
       "5.111111111111111"
      ]
     },
     "execution_count": 86,
     "metadata": {},
     "output_type": "execute_result"
    }
   ],
   "source": [
    "z.mean()"
   ]
  },
  {
   "cell_type": "code",
   "execution_count": 87,
   "id": "e3f8c2eb",
   "metadata": {},
   "outputs": [
    {
     "data": {
      "text/plain": [
       "0"
      ]
     },
     "execution_count": 87,
     "metadata": {},
     "output_type": "execute_result"
    }
   ],
   "source": [
    "z.argmin()"
   ]
  },
  {
   "cell_type": "code",
   "execution_count": 88,
   "id": "72df282f",
   "metadata": {},
   "outputs": [
    {
     "data": {
      "text/plain": [
       "8"
      ]
     },
     "execution_count": 88,
     "metadata": {},
     "output_type": "execute_result"
    }
   ],
   "source": [
    "z.argmax()"
   ]
  },
  {
   "cell_type": "code",
   "execution_count": 89,
   "id": "6dca6b91",
   "metadata": {},
   "outputs": [],
   "source": [
    "a=[[1,2,3],[4,5,6],[8,8,9]]\n",
    "z=np.array(a)"
   ]
  },
  {
   "cell_type": "code",
   "execution_count": 90,
   "id": "ec102e44",
   "metadata": {},
   "outputs": [
    {
     "data": {
      "text/plain": [
       "array([[1, 2, 3],\n",
       "       [4, 5, 6],\n",
       "       [8, 8, 9]])"
      ]
     },
     "execution_count": 90,
     "metadata": {},
     "output_type": "execute_result"
    }
   ],
   "source": [
    "z"
   ]
  },
  {
   "cell_type": "code",
   "execution_count": 91,
   "id": "230cfc7e",
   "metadata": {},
   "outputs": [
    {
     "data": {
      "text/plain": [
       "array([[1],\n",
       "       [2],\n",
       "       [3],\n",
       "       [4],\n",
       "       [5],\n",
       "       [6],\n",
       "       [8],\n",
       "       [8],\n",
       "       [9]])"
      ]
     },
     "execution_count": 91,
     "metadata": {},
     "output_type": "execute_result"
    }
   ],
   "source": [
    "z.reshape(9,1) # 1D to 2D "
   ]
  },
  {
   "cell_type": "code",
   "execution_count": 92,
   "id": "f71c3e82",
   "metadata": {},
   "outputs": [
    {
     "data": {
      "text/plain": [
       "array([1, 2, 3, 4, 5, 6, 8, 8, 9])"
      ]
     },
     "execution_count": 92,
     "metadata": {},
     "output_type": "execute_result"
    }
   ],
   "source": [
    "z.flatten() #2D to 1D"
   ]
  },
  {
   "cell_type": "code",
   "execution_count": 93,
   "id": "447d0046",
   "metadata": {},
   "outputs": [
    {
     "data": {
      "text/plain": [
       "array([[1, 2, 3],\n",
       "       [4, 5, 6],\n",
       "       [8, 8, 9]])"
      ]
     },
     "execution_count": 93,
     "metadata": {},
     "output_type": "execute_result"
    }
   ],
   "source": [
    "z"
   ]
  },
  {
   "cell_type": "code",
   "execution_count": 94,
   "id": "ef84e388",
   "metadata": {},
   "outputs": [
    {
     "data": {
      "text/plain": [
       "array([[1, 4, 8],\n",
       "       [2, 5, 8],\n",
       "       [3, 6, 9]])"
      ]
     },
     "execution_count": 94,
     "metadata": {},
     "output_type": "execute_result"
    }
   ],
   "source": [
    "z.transpose()"
   ]
  },
  {
   "cell_type": "code",
   "execution_count": 95,
   "id": "e78982ce",
   "metadata": {},
   "outputs": [
    {
     "data": {
      "text/plain": [
       "array([[1, 2, 3],\n",
       "       [4, 5, 6],\n",
       "       [8, 8, 9]])"
      ]
     },
     "execution_count": 95,
     "metadata": {},
     "output_type": "execute_result"
    }
   ],
   "source": [
    "z"
   ]
  },
  {
   "cell_type": "code",
   "execution_count": 96,
   "id": "d0430b1e",
   "metadata": {},
   "outputs": [
    {
     "data": {
      "text/plain": [
       "array([[1, 2, 3, 4, 5, 6, 8, 8, 9]])"
      ]
     },
     "execution_count": 96,
     "metadata": {},
     "output_type": "execute_result"
    }
   ],
   "source": [
    "z.reshape(1,9) # 1d to 2D"
   ]
  },
  {
   "cell_type": "markdown",
   "id": "069c7ab2",
   "metadata": {},
   "source": [
    "### Maths \n"
   ]
  },
  {
   "cell_type": "code",
   "execution_count": 97,
   "id": "4508be40",
   "metadata": {},
   "outputs": [
    {
     "name": "stdout",
     "output_type": "stream",
     "text": [
      "Adding to arrays: \n",
      "[[ 5. 11. 12.]\n",
      " [22. 23. 24.]\n",
      " [32. 33. 34.]]\n",
      "\n",
      "Substracting Two Arrays:\n",
      "[[ 3.  9. 10.]\n",
      " [20. 21. 22.]\n",
      " [30. 31. 32.]]\n",
      "\n",
      "Multiplying two arrays: \n",
      "[[ 4. 10. 11.]\n",
      " [21. 22. 23.]\n",
      " [31. 32. 33.]]\n",
      "\n",
      "Multiplying one Array with scalar:\n",
      "[[12 30 33]\n",
      " [63 66 69]\n",
      " [93 96 99]]\n",
      "\n",
      "Matrix Multiplication:\n",
      "[[25. 25. 25.]\n",
      " [66. 66. 66.]\n",
      " [96. 96. 96.]]\n"
     ]
    }
   ],
   "source": [
    "import numpy as np\n",
    "A = np.array([ [4, 10, 11], [21, 22, 23], [31, 32, 33] ])\n",
    "B = np.ones((3,3))\n",
    "print(\"Adding to arrays: \")\n",
    "print(A + B)\n",
    "print(\"\\nSubstracting Two Arrays:\")\n",
    "print(A-B)\n",
    "print(\"\\nMultiplying two arrays: \")\n",
    "print(A * B)\n",
    "print(\"\\nMultiplying one Array with scalar:\")\n",
    "print(3*A)\n",
    "print(\"\\nMatrix Multiplication:\")\n",
    "print(np.dot (A,B))"
   ]
  },
  {
   "cell_type": "code",
   "execution_count": 98,
   "id": "5413a33b",
   "metadata": {},
   "outputs": [
    {
     "data": {
      "text/plain": [
       "array([[2.        , 3.16227766, 3.31662479],\n",
       "       [4.58257569, 4.69041576, 4.79583152],\n",
       "       [5.56776436, 5.65685425, 5.74456265]])"
      ]
     },
     "execution_count": 98,
     "metadata": {},
     "output_type": "execute_result"
    }
   ],
   "source": [
    "np.sqrt(A)"
   ]
  },
  {
   "cell_type": "code",
   "execution_count": 99,
   "id": "ce5ce42c",
   "metadata": {},
   "outputs": [
    {
     "data": {
      "text/plain": [
       "array([[5.45981500e+01, 2.20264658e+04, 5.98741417e+04],\n",
       "       [1.31881573e+09, 3.58491285e+09, 9.74480345e+09],\n",
       "       [2.90488497e+13, 7.89629602e+13, 2.14643580e+14]])"
      ]
     },
     "execution_count": 99,
     "metadata": {},
     "output_type": "execute_result"
    }
   ],
   "source": [
    "np.exp(A)"
   ]
  },
  {
   "cell_type": "code",
   "execution_count": 100,
   "id": "8cbaf4ab",
   "metadata": {},
   "outputs": [
    {
     "name": "stdout",
     "output_type": "stream",
     "text": [
      "Sine of different angles:\n",
      "[0.         0.5        0.70710678 0.8660254  1.        ]\n",
      "\n",
      "\n",
      "Cosine values for angles in array:\n",
      "[1.00000000e+00 8.66025404e-01 7.07106781e-01 5.00000000e-01\n",
      " 6.12323400e-17]\n",
      "\n",
      "\n",
      "Tangent values for given angles:\n",
      "[0.00000000e+00 5.77350269e-01 1.00000000e+00 1.73205081e+00\n",
      " 1.63312394e+16]\n"
     ]
    }
   ],
   "source": [
    "a = np.array([0,30,45,60,90]) \n",
    "\n",
    "print ('Sine of different angles:' )\n",
    "# Convert to radians by multiplying with pi/180 \n",
    "print (np.sin(a*np.pi/180) )\n",
    "print (\"\\n\") \n",
    "\n",
    "print ('Cosine values for angles in array:')\n",
    "print (np.cos(a*np.pi/180) )\n",
    "print (\"\\n\") \n",
    "\n",
    "print ('Tangent values for given angles:' )\n",
    "print (np.tan(a*np.pi/180) )"
   ]
  },
  {
   "cell_type": "code",
   "execution_count": 101,
   "id": "a7df4aa7",
   "metadata": {},
   "outputs": [
    {
     "name": "stdout",
     "output_type": "stream",
     "text": [
      "[[11.667 23.662]\n",
      " [33.21  45.887]]\n",
      "[[12. 24.]\n",
      " [33. 46.]]\n",
      "[[11.7 23.7]\n",
      " [33.2 45.9]]\n",
      "[[11.67 23.66]\n",
      " [33.21 45.89]]\n"
     ]
    }
   ],
   "source": [
    "a=np.array([[11.667,23.662],[33.21,45.887]])\n",
    "print(a)\n",
    "print (np.around(a)) \n",
    "print (np.around(a, decimals = 1))\n",
    "print (np.around(a, decimals = 2))"
   ]
  },
  {
   "cell_type": "markdown",
   "id": "b22e07b9",
   "metadata": {},
   "source": [
    "### Stats"
   ]
  },
  {
   "cell_type": "code",
   "execution_count": 102,
   "id": "b1466c0f",
   "metadata": {},
   "outputs": [
    {
     "data": {
      "text/plain": [
       "187"
      ]
     },
     "execution_count": 102,
     "metadata": {},
     "output_type": "execute_result"
    }
   ],
   "source": [
    "A.sum()"
   ]
  },
  {
   "cell_type": "code",
   "execution_count": 103,
   "id": "fe1d584f",
   "metadata": {},
   "outputs": [
    {
     "data": {
      "text/plain": [
       "20.77777777777778"
      ]
     },
     "execution_count": 103,
     "metadata": {},
     "output_type": "execute_result"
    }
   ],
   "source": [
    "A.mean()"
   ]
  },
  {
   "cell_type": "code",
   "execution_count": 104,
   "id": "9005a2cc",
   "metadata": {},
   "outputs": [
    {
     "data": {
      "text/plain": [
       "9.88576729757121"
      ]
     },
     "execution_count": 104,
     "metadata": {},
     "output_type": "execute_result"
    }
   ],
   "source": [
    "np.std(A)"
   ]
  },
  {
   "cell_type": "code",
   "execution_count": 105,
   "id": "18f37e89",
   "metadata": {},
   "outputs": [
    {
     "data": {
      "text/plain": [
       "22.0"
      ]
     },
     "execution_count": 105,
     "metadata": {},
     "output_type": "execute_result"
    }
   ],
   "source": [
    "np.median(A)"
   ]
  },
  {
   "cell_type": "code",
   "execution_count": 106,
   "id": "675e0617",
   "metadata": {},
   "outputs": [
    {
     "data": {
      "text/plain": [
       "array([[0., 0., 0.],\n",
       "       [0., 0., 0.],\n",
       "       [0., 0., 0.]])"
      ]
     },
     "execution_count": 106,
     "metadata": {},
     "output_type": "execute_result"
    }
   ],
   "source": [
    "np.mod(A,B)"
   ]
  },
  {
   "cell_type": "code",
   "execution_count": 107,
   "id": "6fa60e03",
   "metadata": {},
   "outputs": [
    {
     "data": {
      "text/plain": [
       "97.72839506172839"
      ]
     },
     "execution_count": 107,
     "metadata": {},
     "output_type": "execute_result"
    }
   ],
   "source": [
    "np.var(A)#Variance"
   ]
  },
  {
   "cell_type": "markdown",
   "id": "e9fdeeeb",
   "metadata": {},
   "source": [
    "## Binary UnivarsalFunction"
   ]
  },
  {
   "cell_type": "code",
   "execution_count": 108,
   "id": "0de6b601",
   "metadata": {},
   "outputs": [
    {
     "data": {
      "text/plain": [
       "array([[False, False, False],\n",
       "       [ True,  True,  True]])"
      ]
     },
     "execution_count": 108,
     "metadata": {},
     "output_type": "execute_result"
    }
   ],
   "source": [
    "A=[[1,2,3],[3,4,5]]\n",
    "B=[[3,3,4],[1,2,0]]\n",
    "a=np.array(A)\n",
    "b=np.array(B)\n",
    "np.greater_equal(a,b)"
   ]
  },
  {
   "cell_type": "code",
   "execution_count": 109,
   "id": "3392b3d5",
   "metadata": {},
   "outputs": [
    {
     "data": {
      "text/plain": [
       "array([[ True,  True,  True],\n",
       "       [False, False, False]])"
      ]
     },
     "execution_count": 109,
     "metadata": {},
     "output_type": "execute_result"
    }
   ],
   "source": [
    "np.less(a,b)"
   ]
  },
  {
   "cell_type": "code",
   "execution_count": 110,
   "id": "740e8163",
   "metadata": {},
   "outputs": [
    {
     "data": {
      "text/plain": [
       "array([[False, False, False],\n",
       "       [ True,  True,  True]])"
      ]
     },
     "execution_count": 110,
     "metadata": {},
     "output_type": "execute_result"
    }
   ],
   "source": [
    "np.less(b,a)"
   ]
  },
  {
   "cell_type": "markdown",
   "id": "bd012488",
   "metadata": {},
   "source": [
    "## Subsetting Array"
   ]
  },
  {
   "cell_type": "code",
   "execution_count": 111,
   "id": "5ec9b181",
   "metadata": {},
   "outputs": [],
   "source": [
    "subset=a[:,0]=1 #subset elment before postion 0 to value 1"
   ]
  },
  {
   "cell_type": "code",
   "execution_count": 112,
   "id": "d00dcf42",
   "metadata": {},
   "outputs": [
    {
     "data": {
      "text/plain": [
       "1"
      ]
     },
     "execution_count": 112,
     "metadata": {},
     "output_type": "execute_result"
    }
   ],
   "source": [
    "subset"
   ]
  },
  {
   "cell_type": "code",
   "execution_count": 113,
   "id": "bf8cc355",
   "metadata": {},
   "outputs": [
    {
     "name": "stdout",
     "output_type": "stream",
     "text": [
      "[[1 2 3]\n",
      " [1 4 5]]\n"
     ]
    }
   ],
   "source": [
    "print(a)"
   ]
  },
  {
   "cell_type": "markdown",
   "id": "b04a1938",
   "metadata": {},
   "source": [
    "## Concatenating array"
   ]
  },
  {
   "cell_type": "code",
   "execution_count": 114,
   "id": "e8449fb7",
   "metadata": {},
   "outputs": [],
   "source": [
    "A=[[1,2,3],[3,4,5]]\n",
    "B=[3,3,4],[1,2,0]\n",
    "a=np.array(A)\n",
    "b=np.array(B)"
   ]
  },
  {
   "cell_type": "code",
   "execution_count": 115,
   "id": "f8f6b485",
   "metadata": {},
   "outputs": [
    {
     "data": {
      "text/plain": [
       "(array([[1, 2, 3],\n",
       "        [3, 4, 5]]),\n",
       " array([[3, 3, 4],\n",
       "        [1, 2, 0]]))"
      ]
     },
     "execution_count": 115,
     "metadata": {},
     "output_type": "execute_result"
    }
   ],
   "source": [
    "a,b"
   ]
  },
  {
   "cell_type": "code",
   "execution_count": 116,
   "id": "b2280454",
   "metadata": {},
   "outputs": [
    {
     "data": {
      "text/plain": [
       "array([[1, 2, 3, 3, 3, 4],\n",
       "       [3, 4, 5, 1, 2, 0]])"
      ]
     },
     "execution_count": 116,
     "metadata": {},
     "output_type": "execute_result"
    }
   ],
   "source": [
    "np.concatenate([a,b],axis=1)"
   ]
  },
  {
   "cell_type": "code",
   "execution_count": 117,
   "id": "e9599cf5",
   "metadata": {},
   "outputs": [
    {
     "data": {
      "text/plain": [
       "array([[1, 2, 3],\n",
       "       [3, 4, 5],\n",
       "       [3, 3, 4],\n",
       "       [1, 2, 0]])"
      ]
     },
     "execution_count": 117,
     "metadata": {},
     "output_type": "execute_result"
    }
   ],
   "source": [
    "np.concatenate([a,b],axis=0) # Row wise VVI for EDA purposed"
   ]
  },
  {
   "cell_type": "markdown",
   "id": "db0dd6d2",
   "metadata": {},
   "source": [
    "## Broadcasting\n",
    "Broadcasting is a method to overcome size of the smaller array by duplicacy so that it is the dimensionality and size as the larger array.\n",
    "\n",
    "### Why Broadcasting?\n",
    "To solve the problem of arithmetic with arrays with different sizes."
   ]
  },
  {
   "cell_type": "code",
   "execution_count": 118,
   "id": "e5c0a576",
   "metadata": {},
   "outputs": [
    {
     "name": "stdout",
     "output_type": "stream",
     "text": [
      "[ 10  40  90 160]\n"
     ]
    }
   ],
   "source": [
    "import numpy as np \n",
    "\n",
    "a = np.array([1,2,3,4]) \n",
    "b = np.array([10,20,30,40]) \n",
    "c = a * b \n",
    "print (c)"
   ]
  },
  {
   "cell_type": "code",
   "execution_count": 119,
   "id": "dfeefe23",
   "metadata": {},
   "outputs": [
    {
     "data": {
      "text/plain": [
       "1"
      ]
     },
     "execution_count": 119,
     "metadata": {},
     "output_type": "execute_result"
    }
   ],
   "source": [
    "np.ndim(b)"
   ]
  },
  {
   "cell_type": "code",
   "execution_count": 120,
   "id": "6804a137",
   "metadata": {},
   "outputs": [
    {
     "name": "stderr",
     "output_type": "stream",
     "text": [
      "'[image.png]' is not recognized as an internal or external command,\n",
      "operable program or batch file.\n"
     ]
    }
   ],
   "source": [
    "#### Array with different shapes\n",
    "![image.png](attachment:image.png)"
   ]
  },
  {
   "cell_type": "code",
   "execution_count": 121,
   "id": "9c75026d",
   "metadata": {},
   "outputs": [
    {
     "name": "stdout",
     "output_type": "stream",
     "text": [
      "First array:\n",
      " [[ 0.  0.  0.]\n",
      " [10. 10. 10.]\n",
      " [20. 20. 20.]\n",
      " [30. 30. 30.]]\n",
      "Second array:\n",
      " [0. 1. 2.]\n",
      "\n",
      "\n",
      "First Array + Second Array=\n",
      " [[ 0.  1.  2.]\n",
      " [10. 11. 12.]\n",
      " [20. 21. 22.]\n",
      " [30. 31. 32.]]\n"
     ]
    }
   ],
   "source": [
    "a = np.array([[0.0,0.0,0.0],[10.0,10.0,10.0],[20.0,20.0,20.0],[30.0,30.0,30.0]]) \n",
    "b = np.array([0.0,1.0,2.0])  \n",
    "   \n",
    "print ('First array:\\n',a )\n",
    "print ('Second array:\\n',b )\n",
    "print (\"\\n\")   \n",
    "print ('First Array + Second Array=\\n',a+b)"
   ]
  },
  {
   "cell_type": "markdown",
   "id": "94130915",
   "metadata": {},
   "source": [
    "## File Input Output\n"
   ]
  },
  {
   "cell_type": "code",
   "execution_count": 122,
   "id": "1dff6995",
   "metadata": {},
   "outputs": [],
   "source": [
    "#The np.save stores the input array in a disk file with npy extension.\n",
    "\n",
    "a = np.array([11,2,30,4,5,13]) \n",
    "np.save('dar',a)"
   ]
  },
  {
   "cell_type": "code",
   "execution_count": 123,
   "id": "e98fbf89",
   "metadata": {},
   "outputs": [
    {
     "name": "stdout",
     "output_type": "stream",
     "text": [
      "[11  2 30  4  5 13]\n"
     ]
    }
   ],
   "source": [
    "# To reconstruct array from demofile.npy, use load() function.\n",
    "b = np.load('dar.npy') \n",
    "print (b)"
   ]
  },
  {
   "cell_type": "code",
   "execution_count": 124,
   "id": "f177a8bb",
   "metadata": {},
   "outputs": [
    {
     "name": "stdout",
     "output_type": "stream",
     "text": [
      "[11.  2. 30.  4.  5. 13.]\n"
     ]
    }
   ],
   "source": [
    "np.savetxt('dar.txt',a) \n",
    "b = np.loadtxt('dar.txt') \n",
    "print (b)"
   ]
  },
  {
   "cell_type": "code",
   "execution_count": null,
   "id": "4bf4f3f7",
   "metadata": {},
   "outputs": [],
   "source": []
  },
  {
   "cell_type": "code",
   "execution_count": null,
   "id": "19a04033",
   "metadata": {},
   "outputs": [],
   "source": []
  },
  {
   "cell_type": "code",
   "execution_count": null,
   "id": "d09365f0",
   "metadata": {},
   "outputs": [],
   "source": []
  },
  {
   "cell_type": "code",
   "execution_count": null,
   "id": "11facab9",
   "metadata": {},
   "outputs": [],
   "source": []
  }
 ],
 "metadata": {
  "kernelspec": {
   "display_name": "Python 3 (ipykernel)",
   "language": "python",
   "name": "python3"
  },
  "language_info": {
   "codemirror_mode": {
    "name": "ipython",
    "version": 3
   },
   "file_extension": ".py",
   "mimetype": "text/x-python",
   "name": "python",
   "nbconvert_exporter": "python",
   "pygments_lexer": "ipython3",
   "version": "3.9.12"
  }
 },
 "nbformat": 4,
 "nbformat_minor": 5
}
